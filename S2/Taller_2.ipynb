{
  "cells": [
    {
      "cell_type": "markdown",
      "metadata": {
        "id": "view-in-github",
        "colab_type": "text"
      },
      "source": [
        "<a href=\"https://colab.research.google.com/github/darioblandon/Curso1/blob/main/S2/Taller_2.ipynb\" target=\"_parent\"><img src=\"https://colab.research.google.com/assets/colab-badge.svg\" alt=\"Open In Colab\"/></a>"
      ]
    },
    {
      "cell_type": "markdown",
      "metadata": {
        "id": "k7VUTXybYSz8"
      },
      "source": [
        "<a href=\"https://colab.research.google.com/github/darioblandon/Curso1/blob/master/S2/clase_2.ipynb\" target=\"_parent\"><img src=\"https://colab.research.google.com/assets/colab-badge.svg\" alt=\"Open In Colab\"/></a>"
      ]
    },
    {
      "cell_type": "markdown",
      "metadata": {
        "id": "qgpIfbaVYS0C"
      },
      "source": [
        "# Ejemplos"
      ]
    },
    {
      "cell_type": "markdown",
      "metadata": {
        "id": "ten4_fwwJDNH"
      },
      "source": [
        "\n",
        "\n",
        "## Funciones"
      ]
    },
    {
      "cell_type": "markdown",
      "metadata": {
        "id": "__f6h1WSKJH-"
      },
      "source": [
        "Una función es un bloque de código organizado y reutilizable que se utiliza para realizar una única acción relacionada. Las funciones proporcionan una mejor modularidad para su aplicación y un alto grado de reutilización de código."
      ]
    },
    {
      "cell_type": "code",
      "execution_count": null,
      "metadata": {
        "id": "ISqnUVhXI_ML"
      },
      "outputs": [],
      "source": [
        "#Definimos una funcion que calcule la media de una lista de numeros\n",
        "def media(v):\n",
        "    media = 0\n",
        "    for i in v:\n",
        "        media += i\n",
        "\n",
        "    return(media/len(v))"
      ]
    },
    {
      "cell_type": "code",
      "execution_count": null,
      "metadata": {
        "id": "TxWLs2PkPvqn"
      },
      "outputs": [],
      "source": [
        "#Definamos una funcion para calcular la varianza\n",
        "def varianza(v):\n",
        "    var = 0\n",
        "    m = media(v)\n",
        "    for i in v:\n",
        "        var += (i - m)**2\n",
        "\n",
        "    return(var/len(v))"
      ]
    },
    {
      "cell_type": "code",
      "execution_count": null,
      "metadata": {
        "colab": {
          "base_uri": "https://localhost:8080/",
          "height": 34
        },
        "id": "p1vOhvngKk8N",
        "outputId": "f91a0a52-4358-4a08-caf2-829f5b53dee1"
      },
      "outputs": [
        {
          "data": {
            "text/plain": [
              "(3.3333333333333335, 2.0)"
            ]
          },
          "execution_count": 34,
          "metadata": {
            "tags": []
          },
          "output_type": "execute_result"
        }
      ],
      "source": [
        "#Ejecutamos la funciones\n",
        "lista = [4,2,2,2,2,3,4,5,6]\n",
        "media(lista), varianza(lista)"
      ]
    },
    {
      "cell_type": "markdown",
      "metadata": {
        "id": "cwpR30KMMzMG"
      },
      "source": [
        "Ejemplos de funciones ya construidas en python"
      ]
    },
    {
      "cell_type": "code",
      "execution_count": null,
      "metadata": {
        "colab": {
          "base_uri": "https://localhost:8080/",
          "height": 34
        },
        "id": "5Db3VOW7LPB1",
        "outputId": "7e0efefd-9085-48e0-8260-0c649654c4ac"
      },
      "outputs": [
        {
          "data": {
            "text/plain": [
              "3.3333333333333335"
            ]
          },
          "execution_count": 36,
          "metadata": {
            "tags": []
          },
          "output_type": "execute_result"
        }
      ],
      "source": [
        "#Forma facil de calcular la media\n",
        "sum(lista)/len(lista)"
      ]
    },
    {
      "cell_type": "code",
      "execution_count": null,
      "metadata": {
        "colab": {
          "base_uri": "https://localhost:8080/",
          "height": 34
        },
        "id": "AxY4mtMFRag4",
        "outputId": "c92a86a6-f611-4d08-82b2-0b081f577ef5"
      },
      "outputs": [
        {
          "data": {
            "text/plain": [
              "(6, 2)"
            ]
          },
          "execution_count": 42,
          "metadata": {
            "tags": []
          },
          "output_type": "execute_result"
        }
      ],
      "source": [
        "#Funcion que calcula el maximo y minimo\n",
        "max(lista) , min(lista)"
      ]
    },
    {
      "cell_type": "markdown",
      "metadata": {
        "id": "pWOL0z5heRUL"
      },
      "source": [
        "# Librerias en python"
      ]
    },
    {
      "cell_type": "markdown",
      "metadata": {
        "id": "cueXTQxlfC1q"
      },
      "source": [
        "Una libreria es una coleccion de clses y metodos los cuales nos permiten crear objetos sin la nececidad de programarlos explicitamente.\n",
        "\n",
        "Existen muchas librerias, las mas utilizadas por nosostros seran:\n",
        "* numpy\n",
        "* pandas \n",
        "* matplotlib\n",
        "* seaborn\n",
        "* sklearn\n"
      ]
    },
    {
      "cell_type": "markdown",
      "metadata": {
        "id": "0Uqwa-cPf2Sc"
      },
      "source": [
        "## Numpy"
      ]
    },
    {
      "cell_type": "markdown",
      "metadata": {
        "id": "n3kaq5SwgHNJ"
      },
      "source": [
        "Esta libreria proporciona objetos arreglos multidimensionales (tensores) de alto desempeño, ademas de erramientas para trabajar con estos arreglos"
      ]
    },
    {
      "cell_type": "code",
      "execution_count": null,
      "metadata": {
        "id": "fUUnj-UgdNCi"
      },
      "outputs": [],
      "source": [
        "#Importar numpy\n",
        "import numpy as np"
      ]
    },
    {
      "cell_type": "markdown",
      "metadata": {
        "id": "hCr8iKqsgjTt"
      },
      "source": [
        "## 1D array "
      ]
    },
    {
      "cell_type": "markdown",
      "metadata": {
        "id": "QrsZZDU_gvQJ"
      },
      "source": [
        "un arreglo unidimensional es una colecion de tipos de datos los cuales se encuntran indexados ( tal y como las listas ). A diferencia de las listas, los arreglos 1D ( y en general los arreglos de cualquier dimension ) solo pueden contener un tipo de dato.\n",
        "\n",
        "Los arreglos de python soportan indexacion y slicing\n",
        "\n",
        "para crear un arreglo 1D de python , podemos usar una lista de numpy\n"
      ]
    },
    {
      "cell_type": "code",
      "execution_count": null,
      "metadata": {
        "colab": {
          "base_uri": "https://localhost:8080/",
          "height": 50
        },
        "id": "LftLYaAogs7K",
        "outputId": "c1515d23-8427-4bfe-c222-e5732f56e614"
      },
      "outputs": [
        {
          "name": "stdout",
          "output_type": "stream",
          "text": [
            "<class 'numpy.ndarray'>\n"
          ]
        },
        {
          "data": {
            "text/plain": [
              "array([1. , 2. , 2. , 5. , 2.6, 5. , 6. , 7. , 3. ])"
            ]
          },
          "execution_count": 85,
          "metadata": {
            "tags": []
          },
          "output_type": "execute_result"
        }
      ],
      "source": [
        "v = np.array([1,2,2,5,2.6,5,6,7,3]) #creacion de un arreglo 1D de numpy\n",
        "print(type(v))\n",
        "v #Veamos el vector y a que clase pertenece (esto es , veamos que tipo de dato es)"
      ]
    },
    {
      "cell_type": "code",
      "execution_count": null,
      "metadata": {
        "colab": {
          "base_uri": "https://localhost:8080/",
          "height": 34
        },
        "id": "BJEMB3gfjoO7",
        "outputId": "89a2ee96-31e0-4d95-8301-ae9798903bb7"
      },
      "outputs": [
        {
          "data": {
            "text/plain": [
              "(1.0, 2.0, 3.0, 3.0)"
            ]
          },
          "execution_count": 86,
          "metadata": {
            "tags": []
          },
          "output_type": "execute_result"
        }
      ],
      "source": [
        "#indexacion\n",
        "v[0], v[1] , v[-1] , v[8]"
      ]
    },
    {
      "cell_type": "code",
      "execution_count": null,
      "metadata": {
        "colab": {
          "base_uri": "https://localhost:8080/",
          "height": 84
        },
        "id": "bft97xylgmsq",
        "outputId": "fb403510-437b-4202-e00f-2e254f10f977"
      },
      "outputs": [
        {
          "data": {
            "text/plain": [
              "(array([1. , 2. , 2.6]),\n",
              " array([3. , 7. , 6. , 5. , 2.6, 5. , 2. , 2. , 1. ]),\n",
              " array([2. , 2.6, 7. ]),\n",
              " array([5., 6., 7., 3.]))"
            ]
          },
          "execution_count": 95,
          "metadata": {
            "tags": []
          },
          "output_type": "execute_result"
        }
      ],
      "source": [
        "#slicing [indice_inicial:indice_fianl:paso]\n",
        "v[0:5:2], v[::-1] , v[1::3] , v[5::]"
      ]
    },
    {
      "cell_type": "code",
      "execution_count": null,
      "metadata": {
        "colab": {
          "base_uri": "https://localhost:8080/",
          "height": 34
        },
        "id": "0aFHkVlCbWOt",
        "outputId": "ab86f087-30f0-438d-de86-0cb20b05a28b"
      },
      "outputs": [
        {
          "data": {
            "text/plain": [
              "array([2., 5., 5., 6.])"
            ]
          },
          "execution_count": 97,
          "metadata": {
            "tags": []
          },
          "output_type": "execute_result"
        }
      ],
      "source": [
        "# otras formas de hacer indexing (usar una lista para hacer indexing)\n",
        "v[[1,3,5,6]]"
      ]
    },
    {
      "cell_type": "code",
      "execution_count": null,
      "metadata": {
        "colab": {
          "base_uri": "https://localhost:8080/",
          "height": 34
        },
        "id": "cgAdkYMcpdIj",
        "outputId": "54a4c280-2910-46db-9de3-6bdfdebb2802"
      },
      "outputs": [
        {
          "data": {
            "text/plain": [
              "array([1. , 2. , 2.6, 5. ])"
            ]
          },
          "execution_count": 101,
          "metadata": {
            "tags": []
          },
          "output_type": "execute_result"
        }
      ],
      "source": [
        "#Indexacion usando tipos buleanos\n",
        "v[[True , True , False, False, True, True, False, False, False]]"
      ]
    },
    {
      "cell_type": "code",
      "execution_count": null,
      "metadata": {
        "colab": {
          "base_uri": "https://localhost:8080/",
          "height": 34
        },
        "id": "PIiW74rAYQq6",
        "outputId": "97c4e798-46a8-4c4c-9956-658e9cf88c1d"
      },
      "outputs": [
        {
          "data": {
            "text/plain": [
              "array([False, False, False,  True, False,  True,  True,  True, False])"
            ]
          },
          "execution_count": 102,
          "metadata": {
            "tags": []
          },
          "output_type": "execute_result"
        }
      ],
      "source": [
        "#Indexacion usando tipos buleanos\n",
        "v > 4"
      ]
    },
    {
      "cell_type": "code",
      "execution_count": null,
      "metadata": {
        "colab": {
          "base_uri": "https://localhost:8080/",
          "height": 34
        },
        "id": "xGdJaVCcYh2x",
        "outputId": "d851bcb2-b769-43d5-8849-99c93bd91164"
      },
      "outputs": [
        {
          "data": {
            "text/plain": [
              "array([5., 5., 6., 7.])"
            ]
          },
          "execution_count": 104,
          "metadata": {
            "tags": []
          },
          "output_type": "execute_result"
        }
      ],
      "source": [
        "#Indexacion usando tipos buleanos\n",
        "v[v > 4]"
      ]
    },
    {
      "cell_type": "code",
      "execution_count": null,
      "metadata": {
        "colab": {
          "base_uri": "https://localhost:8080/",
          "height": 84
        },
        "id": "FGMR6iiDikSi",
        "outputId": "472039fb-a0c0-4593-821b-e7671ec31f01"
      },
      "outputs": [
        {
          "name": "stdout",
          "output_type": "stream",
          "text": [
            "(9,)\n",
            "float64\n",
            "9\n",
            "1\n"
          ]
        }
      ],
      "source": [
        "print(v.shape) #atributo shape del arreglo de numpy\n",
        "print(v.dtype) #atributo dtype\n",
        "print(v.size) #atributo size\n",
        "print(v.ndim) #atributo ndim"
      ]
    },
    {
      "cell_type": "markdown",
      "metadata": {
        "id": "D1vN2jWzYYzi"
      },
      "source": [
        "## 2D arrys"
      ]
    },
    {
      "cell_type": "markdown",
      "metadata": {
        "id": "84gVBWFIYcKO"
      },
      "source": [
        "Como se menciono antes, es posible crear arreglos de mayor dimension. en este caso , veamos los arreglos 2D (tambien conocidos como matrices)"
      ]
    },
    {
      "cell_type": "code",
      "execution_count": null,
      "metadata": {
        "id": "z2kwDfYGYwpu"
      },
      "outputs": [],
      "source": [
        "#creacion de un arreglo 2D (matriz) usando una lista de python\n",
        "entradas = [\n",
        "            [2,6,4,8,9],\n",
        "            [2,6,7,9,2.3],\n",
        "            [5,6,3.,4,2.,],\n",
        "            [9,0,5,3,6,],\n",
        "            [3.6,2.7,9.8,2,4] \n",
        "            ]"
      ]
    },
    {
      "cell_type": "code",
      "execution_count": null,
      "metadata": {
        "colab": {
          "base_uri": "https://localhost:8080/",
          "height": 101
        },
        "id": "VCAUUWh7Ybi6",
        "outputId": "69e1f247-1f0e-4328-c34e-a3e88ad7fe78"
      },
      "outputs": [
        {
          "data": {
            "text/plain": [
              "array([[2. , 6. , 4. , 8. , 9. ],\n",
              "       [2. , 6. , 7. , 9. , 2.3],\n",
              "       [5. , 6. , 3. , 4. , 2. ],\n",
              "       [9. , 0. , 5. , 3. , 6. ],\n",
              "       [3.6, 2.7, 9.8, 2. , 4. ]])"
            ]
          },
          "execution_count": 109,
          "metadata": {
            "tags": []
          },
          "output_type": "execute_result"
        }
      ],
      "source": [
        "#creacion de un arreglo 2D (matriz) usando una lista de python\n",
        "M = np.array(entradas)\n",
        "M"
      ]
    },
    {
      "cell_type": "code",
      "execution_count": null,
      "metadata": {
        "colab": {
          "base_uri": "https://localhost:8080/",
          "height": 34
        },
        "id": "ddZXJKNGY9cd",
        "outputId": "3a6963c2-ef0d-4ae5-c644-3f1351d124b6"
      },
      "outputs": [
        {
          "data": {
            "text/plain": [
              "(2.0, 4.0, 4.0)"
            ]
          },
          "execution_count": 110,
          "metadata": {
            "tags": []
          },
          "output_type": "execute_result"
        }
      ],
      "source": [
        "#Indexacion en arreglos matriciales\n",
        "M[0,0] , M[4,-1] , M[4,4]"
      ]
    },
    {
      "cell_type": "code",
      "execution_count": null,
      "metadata": {
        "colab": {
          "base_uri": "https://localhost:8080/",
          "height": 34
        },
        "id": "KvCBTHKIY9Z9",
        "outputId": "e87e86e5-b131-4656-ba33-1651a566fd14"
      },
      "outputs": [
        {
          "data": {
            "text/plain": [
              "array([2. , 5. , 3.6])"
            ]
          },
          "execution_count": 115,
          "metadata": {
            "tags": []
          },
          "output_type": "execute_result"
        }
      ],
      "source": [
        "#Slicing en arreglos matriciales\n",
        "M[0:6:2, 0] "
      ]
    },
    {
      "cell_type": "code",
      "execution_count": null,
      "metadata": {
        "colab": {
          "base_uri": "https://localhost:8080/",
          "height": 67
        },
        "id": "siCh7TK1aO6d",
        "outputId": "357446ac-057d-4011-8a3e-cb7b9fa369f0"
      },
      "outputs": [
        {
          "data": {
            "text/plain": [
              "array([[2. , 4. , 9. ],\n",
              "       [5. , 3. , 2. ],\n",
              "       [3.6, 9.8, 4. ]])"
            ]
          },
          "execution_count": 116,
          "metadata": {
            "tags": []
          },
          "output_type": "execute_result"
        }
      ],
      "source": [
        "#Slicing en arreglos matriciales\n",
        "M[0:6:2, 0:6:2] "
      ]
    },
    {
      "cell_type": "code",
      "execution_count": null,
      "metadata": {
        "colab": {
          "base_uri": "https://localhost:8080/",
          "height": 67
        },
        "id": "34kdy8c3aO3S",
        "outputId": "1279b744-39b7-401b-9852-99069ecfd22b"
      },
      "outputs": [
        {
          "data": {
            "text/plain": [
              "array([[2. , 6. , 4. , 8. , 9. ],\n",
              "       [5. , 6. , 3. , 4. , 2. ],\n",
              "       [3.6, 2.7, 9.8, 2. , 4. ]])"
            ]
          },
          "execution_count": 117,
          "metadata": {
            "tags": []
          },
          "output_type": "execute_result"
        }
      ],
      "source": [
        "#Slicing en arreglos matriciales\n",
        "M[0:6:2, :] "
      ]
    },
    {
      "cell_type": "code",
      "execution_count": null,
      "metadata": {
        "colab": {
          "base_uri": "https://localhost:8080/",
          "height": 34
        },
        "id": "Z5s0qKZIaS4D",
        "outputId": "0e883262-903b-44b9-929e-49d2cdc5ea83"
      },
      "outputs": [
        {
          "data": {
            "text/plain": [
              "array([9. , 2.3, 2. , 6. , 4. ])"
            ]
          },
          "execution_count": 118,
          "metadata": {
            "tags": []
          },
          "output_type": "execute_result"
        }
      ],
      "source": [
        "#Slicing en arreglos matriciales\n",
        "M[0:, -1] "
      ]
    },
    {
      "cell_type": "code",
      "execution_count": null,
      "metadata": {
        "colab": {
          "base_uri": "https://localhost:8080/",
          "height": 101
        },
        "id": "2C7hjlncaSvx",
        "outputId": "f92c08b7-e327-4442-fc25-243346260dbc"
      },
      "outputs": [
        {
          "data": {
            "text/plain": [
              "array([[2. , 8. ],\n",
              "       [2. , 9. ],\n",
              "       [5. , 4. ],\n",
              "       [9. , 3. ],\n",
              "       [3.6, 2. ]])"
            ]
          },
          "execution_count": 121,
          "metadata": {
            "tags": []
          },
          "output_type": "execute_result"
        }
      ],
      "source": [
        "#Slicing en arreglos matriciales\n",
        "M[:, 0:-1:3] "
      ]
    },
    {
      "cell_type": "code",
      "execution_count": null,
      "metadata": {
        "colab": {
          "base_uri": "https://localhost:8080/",
          "height": 101
        },
        "id": "L9tdn3j0dZLc",
        "outputId": "85610f4e-8b66-4f7b-fd8a-d77b5c5303ac"
      },
      "outputs": [
        {
          "data": {
            "text/plain": [
              "array([[2. , 4. , 9. ],\n",
              "       [2. , 7. , 2.3],\n",
              "       [5. , 3. , 2. ],\n",
              "       [9. , 5. , 6. ],\n",
              "       [3.6, 9.8, 4. ]])"
            ]
          },
          "execution_count": 124,
          "metadata": {
            "tags": []
          },
          "output_type": "execute_result"
        }
      ],
      "source": [
        "#Otras formas de indexing usando listas de python\n",
        "M[:,[0,2,4]]"
      ]
    },
    {
      "cell_type": "code",
      "execution_count": null,
      "metadata": {
        "colab": {
          "base_uri": "https://localhost:8080/",
          "height": 50
        },
        "id": "v9JGAsKcY9Uy",
        "outputId": "b1139e20-1b50-4588-f4ab-2112f980c7ff"
      },
      "outputs": [
        {
          "data": {
            "text/plain": [
              "array([[3., 3.],\n",
              "       [2., 2.]])"
            ]
          },
          "execution_count": 137,
          "metadata": {
            "tags": []
          },
          "output_type": "execute_result"
        }
      ],
      "source": [
        "#Otras formas de indexing\n",
        "index = [[2,2],[0,0]], [[2,2],[0,0]]\n",
        "M[index]"
      ]
    },
    {
      "cell_type": "code",
      "execution_count": null,
      "metadata": {
        "colab": {
          "base_uri": "https://localhost:8080/",
          "height": 101
        },
        "id": "aWrtMUg5bghC",
        "outputId": "4c4176d8-c991-4360-9b63-421c4c4ddd22"
      },
      "outputs": [
        {
          "data": {
            "text/plain": [
              "array([[False,  True, False,  True,  True],\n",
              "       [False,  True,  True,  True, False],\n",
              "       [False,  True, False, False, False],\n",
              "       [ True, False, False, False,  True],\n",
              "       [False, False,  True, False, False]])"
            ]
          },
          "execution_count": 140,
          "metadata": {
            "tags": []
          },
          "output_type": "execute_result"
        }
      ],
      "source": [
        "#Indexacion usando tipos buleanos\n",
        "M > 5"
      ]
    },
    {
      "cell_type": "code",
      "execution_count": null,
      "metadata": {
        "colab": {
          "base_uri": "https://localhost:8080/",
          "height": 34
        },
        "id": "QNy0cSFVplri",
        "outputId": "696d2d88-f4ec-425c-c2df-c388b2452348"
      },
      "outputs": [
        {
          "data": {
            "text/plain": [
              "array([6. , 8. , 9. , 6. , 7. , 9. , 6. , 9. , 6. , 9.8])"
            ]
          },
          "execution_count": 141,
          "metadata": {
            "tags": []
          },
          "output_type": "execute_result"
        }
      ],
      "source": [
        "#Indexacion usando tipos buleanos\n",
        "M[M > 5]"
      ]
    },
    {
      "cell_type": "code",
      "execution_count": null,
      "metadata": {
        "colab": {
          "base_uri": "https://localhost:8080/",
          "height": 84
        },
        "id": "hiUsbpbshMuu",
        "outputId": "123a551c-b768-4175-a546-3fc1f640dbe0"
      },
      "outputs": [
        {
          "name": "stdout",
          "output_type": "stream",
          "text": [
            "(5, 5)\n",
            "float64\n",
            "25\n",
            "2\n"
          ]
        }
      ],
      "source": [
        "print(M.shape) #atributo shape del arreglo de numpy\n",
        "print(M.dtype) #atributo dtype\n",
        "print(M.size) #atributo size\n",
        "print(M.ndim) #atributo ndim"
      ]
    },
    {
      "cell_type": "markdown",
      "metadata": {
        "id": "AUP_MeFyW1i0"
      },
      "source": [
        "Numpy tiene muchas funciones para crear arreglos "
      ]
    },
    {
      "cell_type": "code",
      "execution_count": null,
      "metadata": {
        "colab": {
          "base_uri": "https://localhost:8080/",
          "height": 34
        },
        "id": "wqmorXvjdwXN",
        "outputId": "7bfad26a-3870-4616-9836-e36b79037f81"
      },
      "outputs": [
        {
          "data": {
            "text/plain": [
              "array([0., 0., 0., 0., 0.])"
            ]
          },
          "execution_count": 149,
          "metadata": {
            "tags": []
          },
          "output_type": "execute_result"
        }
      ],
      "source": [
        "# Creación de un array de zeros\n",
        "np.zeros(5)"
      ]
    },
    {
      "cell_type": "code",
      "execution_count": null,
      "metadata": {
        "colab": {
          "base_uri": "https://localhost:8080/",
          "height": 50
        },
        "id": "Z1V-pAlmcrLB",
        "outputId": "a4ac896c-b2ee-45ea-dba4-4ff09321a08b"
      },
      "outputs": [
        {
          "data": {
            "text/plain": [
              "array([[0., 0.],\n",
              "       [0., 0.]])"
            ]
          },
          "execution_count": 150,
          "metadata": {
            "tags": []
          },
          "output_type": "execute_result"
        }
      ],
      "source": [
        "np.zeros((2,2))"
      ]
    },
    {
      "cell_type": "code",
      "execution_count": null,
      "metadata": {
        "colab": {
          "base_uri": "https://localhost:8080/",
          "height": 34
        },
        "id": "Hsh93K7gdwU9",
        "outputId": "371e851c-04fd-42e7-c707-7eed96da15b0"
      },
      "outputs": [
        {
          "data": {
            "text/plain": [
              "array([1., 1., 1., 1., 1.])"
            ]
          },
          "execution_count": 151,
          "metadata": {
            "tags": []
          },
          "output_type": "execute_result"
        }
      ],
      "source": [
        "# Creación de un array de unos\n",
        "np.ones(5)"
      ]
    },
    {
      "cell_type": "code",
      "execution_count": null,
      "metadata": {
        "colab": {
          "base_uri": "https://localhost:8080/",
          "height": 67
        },
        "id": "fsyswO3mc1s-",
        "outputId": "bf8c6157-310b-4bec-8334-eb51bf21ff4c"
      },
      "outputs": [
        {
          "data": {
            "text/plain": [
              "array([[1., 1., 1.],\n",
              "       [1., 1., 1.],\n",
              "       [1., 1., 1.]])"
            ]
          },
          "execution_count": 152,
          "metadata": {
            "tags": []
          },
          "output_type": "execute_result"
        }
      ],
      "source": [
        "np.ones((3,3))"
      ]
    },
    {
      "cell_type": "code",
      "execution_count": null,
      "metadata": {
        "colab": {
          "base_uri": "https://localhost:8080/",
          "height": 34
        },
        "id": "_gCvt4M0dwSs",
        "outputId": "7fbe1f9e-76a6-40ae-fb96-5126298ed833"
      },
      "outputs": [
        {
          "data": {
            "text/plain": [
              "array([3, 3, 3, 3, 3])"
            ]
          },
          "execution_count": 158,
          "metadata": {
            "tags": []
          },
          "output_type": "execute_result"
        }
      ],
      "source": [
        "# Creación de un array de una costante\n",
        "np.full(5 , 3)"
      ]
    },
    {
      "cell_type": "code",
      "execution_count": null,
      "metadata": {
        "colab": {
          "base_uri": "https://localhost:8080/",
          "height": 67
        },
        "id": "opg5_sA0dEJh",
        "outputId": "8ab760ae-cbb4-498f-96b0-b6e1a3fac1b8"
      },
      "outputs": [
        {
          "data": {
            "text/plain": [
              "array([[10, 10, 10],\n",
              "       [10, 10, 10],\n",
              "       [10, 10, 10]])"
            ]
          },
          "execution_count": 160,
          "metadata": {
            "tags": []
          },
          "output_type": "execute_result"
        }
      ],
      "source": [
        "np.full((3,3), 10)"
      ]
    },
    {
      "cell_type": "code",
      "execution_count": null,
      "metadata": {
        "colab": {
          "base_uri": "https://localhost:8080/",
          "height": 50
        },
        "id": "xyE_XBendwQG",
        "outputId": "7e5d1c99-2baf-4aca-8431-ed738b72d08d"
      },
      "outputs": [
        {
          "data": {
            "text/plain": [
              "array([[1., 0.],\n",
              "       [0., 1.]])"
            ]
          },
          "execution_count": 163,
          "metadata": {
            "tags": []
          },
          "output_type": "execute_result"
        }
      ],
      "source": [
        "# Creación de la matriz indentidad de 2x2.\n",
        "np.identity(2)"
      ]
    },
    {
      "cell_type": "code",
      "execution_count": null,
      "metadata": {
        "colab": {
          "base_uri": "https://localhost:8080/",
          "height": 67
        },
        "id": "Ca0hbbq2dwNV",
        "outputId": "b203f649-dd73-4945-d994-031d6a6614f4"
      },
      "outputs": [
        {
          "data": {
            "text/plain": [
              "array([4. , 4.2, 4.4, 4.6, 4.8, 5. , 5.2, 5.4, 5.6, 5.8, 6. , 6.2, 6.4,\n",
              "       6.6, 6.8, 7. , 7.2, 7.4, 7.6, 7.8, 8. , 8.2, 8.4, 8.6, 8.8, 9. ,\n",
              "       9.2, 9.4, 9.6, 9.8])"
            ]
          },
          "execution_count": 165,
          "metadata": {
            "tags": []
          },
          "output_type": "execute_result"
        }
      ],
      "source": [
        "# Crea un vector de cinco valores espaciados \n",
        "np.arange(4,10,0.2)"
      ]
    },
    {
      "cell_type": "code",
      "execution_count": null,
      "metadata": {
        "colab": {
          "base_uri": "https://localhost:8080/",
          "height": 50
        },
        "id": "_3NsAn63dwK-",
        "outputId": "c62df1c1-47c5-47ae-ab8f-d2969f5ee4cb"
      },
      "outputs": [
        {
          "data": {
            "text/plain": [
              "array([-2.        , -1.55555556, -1.11111111, -0.66666667, -0.22222222,\n",
              "        0.22222222,  0.66666667,  1.11111111,  1.55555556,  2.        ])"
            ]
          },
          "execution_count": 166,
          "metadata": {
            "tags": []
          },
          "output_type": "execute_result"
        }
      ],
      "source": [
        "# Crea un vector de cinco valores espaciados\n",
        "np.linspace(-2,2,10)"
      ]
    },
    {
      "cell_type": "code",
      "execution_count": null,
      "metadata": {
        "colab": {
          "base_uri": "https://localhost:8080/",
          "height": 50
        },
        "id": "q0aNVjncdwIU",
        "outputId": "18029462-9c22-447d-aaea-3cf48a388460"
      },
      "outputs": [
        {
          "data": {
            "text/plain": [
              "array([0.04510897, 0.72451303, 0.44931964, 0.64594502, 0.96602371,\n",
              "       0.23066903, 0.77233989, 0.37480168, 0.50343858, 0.43426386])"
            ]
          },
          "execution_count": 167,
          "metadata": {
            "tags": []
          },
          "output_type": "execute_result"
        }
      ],
      "source": [
        "# Creación de un arreglo de valores aleatorios dados por una distribucion uniforme en el rango (0,1)\n",
        "np.random.random(10)"
      ]
    },
    {
      "cell_type": "code",
      "execution_count": null,
      "metadata": {
        "colab": {
          "base_uri": "https://localhost:8080/",
          "height": 50
        },
        "id": "4U1m6OAMd3fX",
        "outputId": "107415d6-0097-42ec-d161-ae731206136c"
      },
      "outputs": [
        {
          "data": {
            "text/plain": [
              "array([[0.78446688, 0.28443774],\n",
              "       [0.53767983, 0.14187252]])"
            ]
          },
          "execution_count": 169,
          "metadata": {
            "tags": []
          },
          "output_type": "execute_result"
        }
      ],
      "source": [
        "np.random.random((2,2))"
      ]
    },
    {
      "cell_type": "code",
      "execution_count": null,
      "metadata": {
        "colab": {
          "base_uri": "https://localhost:8080/",
          "height": 50
        },
        "id": "1fZamq19XAw7",
        "outputId": "59f1d3cf-6d7f-4565-84c5-52ed7f317232"
      },
      "outputs": [
        {
          "data": {
            "text/plain": [
              "array([ 0.45895605,  0.59282042,  0.59689481,  1.13078369, -1.11667261,\n",
              "       -0.08581048,  2.08031318,  2.14934768, -0.39482094, -1.39840586])"
            ]
          },
          "execution_count": 171,
          "metadata": {
            "tags": []
          },
          "output_type": "execute_result"
        }
      ],
      "source": [
        "# Creación arreglo de valores aleatorios dados por una distribucion normal \n",
        "np.random.normal(loc=0, scale=1, size=10)"
      ]
    },
    {
      "cell_type": "code",
      "execution_count": null,
      "metadata": {
        "colab": {
          "base_uri": "https://localhost:8080/",
          "height": 67
        },
        "id": "3bp3bqBQeMNx",
        "outputId": "12533e0b-9364-4861-dd38-f813074eba33"
      },
      "outputs": [
        {
          "data": {
            "text/plain": [
              "array([[-1.31358478,  1.00590217, -1.14564481],\n",
              "       [ 0.24920212,  0.23690745, -0.51320557],\n",
              "       [-0.64837712, -1.16955595,  1.02789509]])"
            ]
          },
          "execution_count": 172,
          "metadata": {
            "tags": []
          },
          "output_type": "execute_result"
        }
      ],
      "source": [
        "np.random.normal(loc=0, scale=1, size=(3,3))"
      ]
    },
    {
      "cell_type": "code",
      "execution_count": null,
      "metadata": {
        "colab": {
          "base_uri": "https://localhost:8080/",
          "height": 34
        },
        "id": "wQgZ2VJneB6I",
        "outputId": "1e0eed45-74ef-4e6d-8b45-cfce7e7f95c3"
      },
      "outputs": [
        {
          "data": {
            "text/plain": [
              "array([7, 6, 4, 6, 8, 2, 8, 4, 9, 2])"
            ]
          },
          "execution_count": 175,
          "metadata": {
            "tags": []
          },
          "output_type": "execute_result"
        }
      ],
      "source": [
        "# Creación de una arreglo de números enteros aleatorios dados por una distribucion uniforme en el rango dado\n",
        "np.random.randint(low = 2, high=10, size=10)"
      ]
    },
    {
      "cell_type": "code",
      "execution_count": null,
      "metadata": {
        "colab": {
          "base_uri": "https://localhost:8080/",
          "height": 84
        },
        "id": "6oh9CMoWel43",
        "outputId": "628c5e28-6482-49f3-b4c8-97e07f66471e"
      },
      "outputs": [
        {
          "data": {
            "text/plain": [
              "array([[5, 3, 3, 7],\n",
              "       [5, 3, 4, 2],\n",
              "       [2, 9, 6, 7],\n",
              "       [9, 2, 6, 5]])"
            ]
          },
          "execution_count": 176,
          "metadata": {
            "tags": []
          },
          "output_type": "execute_result"
        }
      ],
      "source": [
        "np.random.randint(low = 2, high=10, size=(4,4))"
      ]
    },
    {
      "cell_type": "markdown",
      "metadata": {
        "id": "lVQa7ZLXhYaS"
      },
      "source": [
        "## Ejercicios"
      ]
    },
    {
      "cell_type": "markdown",
      "metadata": {
        "id": "DhgkH2ZAhaCF"
      },
      "source": [
        "1) Cree una matriz numpy de 3 × 3 de True"
      ]
    },
    {
      "cell_type": "code",
      "execution_count": null,
      "metadata": {
        "id": "3Q5oB1pqgMzv"
      },
      "outputs": [],
      "source": []
    },
    {
      "cell_type": "markdown",
      "metadata": {
        "id": "Q-4WOsDhhg7F"
      },
      "source": [
        "2) Reemplace todos los números impares en la siguiente matriz con -1\n",
        "```\n",
        "Input\n",
        "\n",
        "arr = np.array([0, 1, 2, 3, 4, 5, 6, 7, 8, 9])\n",
        "```\n"
      ]
    },
    {
      "cell_type": "code",
      "execution_count": null,
      "metadata": {
        "id": "vVoeCK0ahgn5"
      },
      "outputs": [],
      "source": []
    },
    {
      "cell_type": "markdown",
      "metadata": {
        "id": "5fyKapSIhhhs"
      },
      "source": [
        "3) Convierta una matriz 1D en una matriz 2D con 2 filas\n",
        "\n",
        "\n",
        "\n",
        "```\n",
        "Input:\n",
        "\n",
        "arr = np.array([ 0, 1, 2, 3, 4, 5, 6, 7, 8, 9])\n",
        "```\n",
        "\n",
        "ayuda: Investigar el metodo `reshape ` que tienen los arreglos de numpy\n"
      ]
    },
    {
      "cell_type": "code",
      "execution_count": null,
      "metadata": {
        "id": "THQ9yMjTRipf"
      },
      "outputs": [],
      "source": []
    },
    {
      "cell_type": "markdown",
      "metadata": {
        "id": "RR8-8BLcRjHC"
      },
      "source": [
        "4) Apilar las matrices a y b verticalmente\n",
        "```\n",
        "Input\n",
        "\n",
        "a = np.arange(10).reshape(2,-1)\n",
        "b = np.repeat(1, 10).reshape(2,-1)\n",
        "```\n",
        "\n",
        "ayuda: investigar las funciones np.vstack , np.hstack "
      ]
    },
    {
      "cell_type": "code",
      "execution_count": null,
      "metadata": {
        "id": "vD5C3vseRjkr"
      },
      "outputs": [],
      "source": []
    },
    {
      "cell_type": "markdown",
      "metadata": {
        "id": "PXSsa34kSLBG"
      },
      "source": [
        "5) Obtener las posiciones donde coinciden los elementos de a y b\n",
        "\n",
        "\n",
        "```\n",
        "Input:\n",
        "\n",
        "a = np.array([1,2,3,2,3,4,3,4,5,6])\n",
        "b = np.array([7,2,10,2,7,4,9,4,9,8])\n",
        "```\n",
        "\n",
        "ayuda: investigar la funcion np.where\n"
      ]
    },
    {
      "cell_type": "code",
      "execution_count": null,
      "metadata": {
        "id": "b8pdiPH6SKp8"
      },
      "outputs": [],
      "source": []
    },
    {
      "cell_type": "markdown",
      "metadata": {
        "id": "3JC7hHw_aVvn"
      },
      "source": [
        "6) Intercambiar las columnas 1 y 2 en la matriz arr.\n",
        "\n",
        "arr = np.arange(9).reshape(3,3)\n",
        "\n",
        "\n",
        "\n",
        "\n",
        "```\n",
        "arr = np.arange(9).reshape(3,3)\n",
        "```\n",
        "\n"
      ]
    },
    {
      "cell_type": "code",
      "execution_count": null,
      "metadata": {
        "id": "Y-g-3_1OaVVe"
      },
      "outputs": [],
      "source": []
    },
    {
      "cell_type": "markdown",
      "metadata": {
        "id": "jP7eyPCRYS0a"
      },
      "source": [
        "7) grafique los siguientes datos \n",
        "\n",
        "    a) x = (1, 2, 3, 4),y = (2, 5, 4, 7)\n",
        "    \n",
        "    b) y= $x^2 * \\exp(-x^2)$ , x = np.arange(0.0, 5.0, 0.01) (defina una funcion que devuelva f(x))"
      ]
    },
    {
      "cell_type": "code",
      "execution_count": null,
      "metadata": {
        "id": "AS0oaknmYS0a"
      },
      "outputs": [],
      "source": []
    },
    {
      "cell_type": "markdown",
      "metadata": {
        "id": "1Gi9qkbYYS0a"
      },
      "source": [
        "8) Cree una funcion que calcule dos numeros aleatorias a y b y de forma aleatoria realice una operacion entre ellos es decir (suma, resta, multiplicacion, division) y almacenelo en un diccionario."
      ]
    },
    {
      "cell_type": "code",
      "execution_count": null,
      "metadata": {
        "id": "LPZvhjGtYS0a"
      },
      "outputs": [],
      "source": []
    },
    {
      "cell_type": "markdown",
      "metadata": {
        "id": "kZcbLs45YS0a"
      },
      "source": [
        "9) Escribalos el diccionario del punto anterior en un archivo de texto mediante python."
      ]
    },
    {
      "cell_type": "code",
      "execution_count": null,
      "metadata": {
        "id": "1uxpja3NYS0b"
      },
      "outputs": [],
      "source": []
    },
    {
      "cell_type": "markdown",
      "metadata": {
        "id": "AJtVWxxRYS0b"
      },
      "source": [
        "10)Cargue los datos del archivo adjunto \"expData.csv\" (puede usar panda o nunpy), agrege una nueva columna que sea $ln(x)$, grafique ambas funciones con maplotlib y finalmente escriba la nueva columna en el archivo y cierrelo."
      ]
    },
    {
      "cell_type": "code",
      "execution_count": null,
      "metadata": {
        "id": "hTgemIWiYS0b"
      },
      "outputs": [],
      "source": []
    }
  ],
  "metadata": {
    "colab": {
      "collapsed_sections": [
        "ten4_fwwJDNH",
        "dkVuRXlST-4I",
        "pWOL0z5heRUL",
        "0Uqwa-cPf2Sc",
        "hCr8iKqsgjTt",
        "D1vN2jWzYYzi",
        "lVQa7ZLXhYaS",
        "O-aeg8avhiZo",
        "MuPviq5RsIZ-",
        "omVToYxnpeYm",
        "JQXcwRCllGpT"
      ],
      "name": "clase_2.ipynb",
      "provenance": [],
      "include_colab_link": true
    },
    "kernelspec": {
      "display_name": "Python 3",
      "language": "python",
      "name": "python3"
    },
    "language_info": {
      "codemirror_mode": {
        "name": "ipython",
        "version": 3
      },
      "file_extension": ".py",
      "mimetype": "text/x-python",
      "name": "python",
      "nbconvert_exporter": "python",
      "pygments_lexer": "ipython3",
      "version": "3.8.10"
    }
  },
  "nbformat": 4,
  "nbformat_minor": 0
}