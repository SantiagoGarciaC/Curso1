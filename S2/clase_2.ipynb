{
 "cells": [
  {
   "cell_type": "markdown",
   "metadata": {
    "colab_type": "text",
    "id": "ten4_fwwJDNH"
   },
   "source": [
    "# Funciones"
   ]
  },
  {
   "cell_type": "markdown",
   "metadata": {
    "colab_type": "text",
    "id": "__f6h1WSKJH-"
   },
   "source": [
    "Una función es un bloque de código organizado y reutilizable que se utiliza para realizar una única acción relacionada. Las funciones proporcionan una mejor modularidad para su aplicación y un alto grado de reutilización de código."
   ]
  },
  {
   "cell_type": "code",
   "execution_count": 0,
   "metadata": {
    "colab": {},
    "colab_type": "code",
    "id": "ISqnUVhXI_ML"
   },
   "outputs": [],
   "source": [
    "#Definimos una funcion que calcule la media de una lista de numeros\n",
    "def media(v):\n",
    "  media = 0\n",
    "  for i in v:\n",
    "    media += i\n",
    "\n",
    "  return(media/len(v))"
   ]
  },
  {
   "cell_type": "code",
   "execution_count": 0,
   "metadata": {
    "colab": {},
    "colab_type": "code",
    "id": "TxWLs2PkPvqn"
   },
   "outputs": [],
   "source": [
    "#Definamos una funcion para calcular la varianza\n",
    "def varianza(v):\n",
    "  var = 0\n",
    "  m = media(v)\n",
    "  for i in v:\n",
    "    var += (i - m)**2\n",
    "\n",
    "  return(var/len(v))"
   ]
  },
  {
   "cell_type": "code",
   "execution_count": 34,
   "metadata": {
    "colab": {
     "base_uri": "https://localhost:8080/",
     "height": 34
    },
    "colab_type": "code",
    "id": "p1vOhvngKk8N",
    "outputId": "f91a0a52-4358-4a08-caf2-829f5b53dee1"
   },
   "outputs": [
    {
     "data": {
      "text/plain": [
       "(3.3333333333333335, 2.0)"
      ]
     },
     "execution_count": 34,
     "metadata": {
      "tags": []
     },
     "output_type": "execute_result"
    }
   ],
   "source": [
    "#Ejecutamos la funciones\n",
    "lista = [4,2,2,2,2,3,4,5,6]\n",
    "media(lista), varianza(lista)"
   ]
  },
  {
   "cell_type": "markdown",
   "metadata": {
    "colab_type": "text",
    "id": "cwpR30KMMzMG"
   },
   "source": [
    "Ejemplos de funciones ya construidas en python"
   ]
  },
  {
   "cell_type": "code",
   "execution_count": 36,
   "metadata": {
    "colab": {
     "base_uri": "https://localhost:8080/",
     "height": 34
    },
    "colab_type": "code",
    "id": "5Db3VOW7LPB1",
    "outputId": "7e0efefd-9085-48e0-8260-0c649654c4ac"
   },
   "outputs": [
    {
     "data": {
      "text/plain": [
       "3.3333333333333335"
      ]
     },
     "execution_count": 36,
     "metadata": {
      "tags": []
     },
     "output_type": "execute_result"
    }
   ],
   "source": [
    "#Forma facil de calcular la media\n",
    "sum(lista)/len(lista)"
   ]
  },
  {
   "cell_type": "code",
   "execution_count": 42,
   "metadata": {
    "colab": {
     "base_uri": "https://localhost:8080/",
     "height": 34
    },
    "colab_type": "code",
    "id": "AxY4mtMFRag4",
    "outputId": "c92a86a6-f611-4d08-82b2-0b081f577ef5"
   },
   "outputs": [
    {
     "data": {
      "text/plain": [
       "(6, 2)"
      ]
     },
     "execution_count": 42,
     "metadata": {
      "tags": []
     },
     "output_type": "execute_result"
    }
   ],
   "source": [
    "#Funcion que calcula el maximo y minimo\n",
    "max(lista) , min(lista)"
   ]
  },
  {
   "cell_type": "markdown",
   "metadata": {
    "colab_type": "text",
    "id": "dkVuRXlST-4I"
   },
   "source": [
    "#clases y objetos en python"
   ]
  },
  {
   "cell_type": "markdown",
   "metadata": {
    "colab_type": "text",
    "id": "7yiunOmJUCQG"
   },
   "source": [
    "En python casi todo es un objecto!\n",
    "\n",
    "Los objetos son un conjunto de atributos (tambien llamados instancias)  y metodos (que son funciones como lo veremos)  asociados a un tipo de dato.\n",
    "\n",
    "Las clases son los planos \"BluePrints\" de los objetos"
   ]
  },
  {
   "cell_type": "code",
   "execution_count": 0,
   "metadata": {
    "colab": {},
    "colab_type": "code",
    "id": "1TR4ANC4TgPO"
   },
   "outputs": [],
   "source": [
    "#creacion de la clase robot usando el metodo __init__\n",
    "class robot():\n",
    "  def __init__(self, nombre='pepe', color='azul' , edad=100):\n",
    "    self.nombre = nombre\n",
    "    self.color = color\n",
    "    self.edad = edad\n",
    "\n",
    "  def hablar(self):\n",
    "    print(f\"Hola, mi nombre es {self.nombre} y tengo {self.edad} años\" )"
   ]
  },
  {
   "cell_type": "code",
   "execution_count": 0,
   "metadata": {
    "colab": {},
    "colab_type": "code",
    "id": "c3uV5cndbICZ"
   },
   "outputs": [],
   "source": [
    "#cracion de los objetos  robot_1 y robot_2\n",
    "robot_1 = robot('Juan', 'rojo', 5); robot_2 = robot()"
   ]
  },
  {
   "cell_type": "code",
   "execution_count": 59,
   "metadata": {
    "colab": {
     "base_uri": "https://localhost:8080/",
     "height": 34
    },
    "colab_type": "code",
    "id": "f91NfaYsiTT6",
    "outputId": "572bd22a-5a51-4a23-ef6a-0a299d14e02b"
   },
   "outputs": [
    {
     "data": {
      "text/plain": [
       "__main__.robot"
      ]
     },
     "execution_count": 59,
     "metadata": {
      "tags": []
     },
     "output_type": "execute_result"
    }
   ],
   "source": [
    " # verifiquemos el tipo de robot_1\n",
    "type(robot_1)"
   ]
  },
  {
   "cell_type": "code",
   "execution_count": 60,
   "metadata": {
    "colab": {
     "base_uri": "https://localhost:8080/",
     "height": 34
    },
    "colab_type": "code",
    "id": "3K7pmJVYbOAQ",
    "outputId": "c31e7de4-b9d2-4861-a986-6587af529720"
   },
   "outputs": [
    {
     "data": {
      "text/plain": [
       "('Juan', 'rojo', 5)"
      ]
     },
     "execution_count": 60,
     "metadata": {
      "tags": []
     },
     "output_type": "execute_result"
    }
   ],
   "source": [
    " #atributos del objeto robot_1\n",
    "robot_1.nombre, robot_1.color, robot_1.edad"
   ]
  },
  {
   "cell_type": "code",
   "execution_count": 61,
   "metadata": {
    "colab": {
     "base_uri": "https://localhost:8080/",
     "height": 34
    },
    "colab_type": "code",
    "id": "WERrLA5gckVj",
    "outputId": "ebbcfb4f-be12-4fd4-8da5-3c391c9f119e"
   },
   "outputs": [
    {
     "data": {
      "text/plain": [
       "('pepe', 'azul', 100)"
      ]
     },
     "execution_count": 61,
     "metadata": {
      "tags": []
     },
     "output_type": "execute_result"
    }
   ],
   "source": [
    " #atributos del objeto robot_2\n",
    "robot_2.nombre, robot_2.color, robot_2.edad"
   ]
  },
  {
   "cell_type": "markdown",
   "metadata": {
    "colab_type": "text",
    "id": "B9VBYyJkci_A"
   },
   "source": [
    "Hay dos formas de ejecutar los metodos"
   ]
  },
  {
   "cell_type": "code",
   "execution_count": 62,
   "metadata": {
    "colab": {
     "base_uri": "https://localhost:8080/",
     "height": 34
    },
    "colab_type": "code",
    "id": "CmHh0RtwbqpP",
    "outputId": "839c9901-5aa3-40aa-f7fb-2989cd30c108"
   },
   "outputs": [
    {
     "name": "stdout",
     "output_type": "stream",
     "text": [
      "Hola, mi nombre es Juan y tengo 5 años\n"
     ]
    }
   ],
   "source": [
    " #Forma 1\n",
    "robot_1.hablar()"
   ]
  },
  {
   "cell_type": "code",
   "execution_count": 64,
   "metadata": {
    "colab": {
     "base_uri": "https://localhost:8080/",
     "height": 34
    },
    "colab_type": "code",
    "id": "o5FkxkkgcH6h",
    "outputId": "673d01d7-3e60-4189-96ba-be8c326110eb"
   },
   "outputs": [
    {
     "name": "stdout",
     "output_type": "stream",
     "text": [
      "Hola, mi nombre es Juan y tengo 5 años\n"
     ]
    }
   ],
   "source": [
    " #Forma 2\n",
    "robot.hablar(robot_1)"
   ]
  },
  {
   "cell_type": "markdown",
   "metadata": {
    "colab_type": "text",
    "id": "8Aq-1csydHcL"
   },
   "source": [
    "Ejemplos usando metodos ya construidos en python"
   ]
  },
  {
   "cell_type": "code",
   "execution_count": 0,
   "metadata": {
    "colab": {},
    "colab_type": "code",
    "id": "0Que3FzacgOy"
   },
   "outputs": [],
   "source": [
    "#creacion de una cadena de caracteres\n",
    "palabra = 'EsTa eS La claSe #2'"
   ]
  },
  {
   "cell_type": "code",
   "execution_count": 67,
   "metadata": {
    "colab": {
     "base_uri": "https://localhost:8080/",
     "height": 34
    },
    "colab_type": "code",
    "id": "pVSlotbOYznT",
    "outputId": "e9a4ecf1-d0d0-4661-fcb2-62c209e6a8c4"
   },
   "outputs": [
    {
     "data": {
      "text/plain": [
       "('esta es la clase #2', 'esta es la clase #2')"
      ]
     },
     "execution_count": 67,
     "metadata": {
      "tags": []
     },
     "output_type": "execute_result"
    }
   ],
   "source": [
    "# Palabras en minuscula\n",
    "palabra.lower() , str.lower(palabra)"
   ]
  },
  {
   "cell_type": "code",
   "execution_count": 0,
   "metadata": {
    "colab": {},
    "colab_type": "code",
    "id": "xcXc-OKkZO8v"
   },
   "outputs": [],
   "source": [
    "#Palabras en mayusculas\n",
    "palabra.upper(), str.upper(palabra)"
   ]
  },
  {
   "cell_type": "markdown",
   "metadata": {
    "colab_type": "text",
    "id": "pWOL0z5heRUL"
   },
   "source": [
    "# Librerias en python"
   ]
  },
  {
   "cell_type": "markdown",
   "metadata": {
    "colab_type": "text",
    "id": "cueXTQxlfC1q"
   },
   "source": [
    "Una libreria es una coleccion de clses y metodos los cuales nos permiten crear objetos sin la nececidad de programarlos explicitamente.\n",
    "\n",
    "Existen muchas librerias, las mas utilizadas por nosostros seran:\n",
    "* numpy\n",
    "* pandas \n",
    "* matplotlib\n",
    "* seaborn\n",
    "* sklearn\n"
   ]
  },
  {
   "cell_type": "markdown",
   "metadata": {
    "colab_type": "text",
    "id": "0Uqwa-cPf2Sc"
   },
   "source": [
    "#Numpy"
   ]
  },
  {
   "cell_type": "markdown",
   "metadata": {
    "colab_type": "text",
    "id": "n3kaq5SwgHNJ"
   },
   "source": [
    "Esta libreria proporciona objetos arreglos multidimensionales (tensores) de alto desempeño, ademas de erramientas para trabajar con estos arreglos"
   ]
  },
  {
   "cell_type": "code",
   "execution_count": 0,
   "metadata": {
    "colab": {},
    "colab_type": "code",
    "id": "fUUnj-UgdNCi"
   },
   "outputs": [],
   "source": [
    "#Importar numpy\n",
    "import numpy as np"
   ]
  },
  {
   "cell_type": "markdown",
   "metadata": {
    "colab_type": "text",
    "id": "hCr8iKqsgjTt"
   },
   "source": [
    "## 1D array "
   ]
  },
  {
   "cell_type": "markdown",
   "metadata": {
    "colab_type": "text",
    "id": "QrsZZDU_gvQJ"
   },
   "source": [
    "un arreglo unidimensional es una colecion de tipos de datos los cuales se encuntran indexados ( tal y como las listas ). A diferencia de las listas, los arreglos 1D ( y en general los arreglos de cualquier dimension ) solo pueden contener un tipo de dato.\n",
    "\n",
    "Los arreglos de python soportan indexacion y slicing\n",
    "\n",
    "para crear un arreglo 1D de python , podemos usar una lista de numpy\n"
   ]
  },
  {
   "cell_type": "code",
   "execution_count": 85,
   "metadata": {
    "colab": {
     "base_uri": "https://localhost:8080/",
     "height": 50
    },
    "colab_type": "code",
    "id": "LftLYaAogs7K",
    "outputId": "c1515d23-8427-4bfe-c222-e5732f56e614"
   },
   "outputs": [
    {
     "name": "stdout",
     "output_type": "stream",
     "text": [
      "<class 'numpy.ndarray'>\n"
     ]
    },
    {
     "data": {
      "text/plain": [
       "array([1. , 2. , 2. , 5. , 2.6, 5. , 6. , 7. , 3. ])"
      ]
     },
     "execution_count": 85,
     "metadata": {
      "tags": []
     },
     "output_type": "execute_result"
    }
   ],
   "source": [
    "v = np.array([1,2,2,5,2.6,5,6,7,3]) #creacion de un arreglo 1D de numpy\n",
    "print(type(v))\n",
    "v #Veamos el vector y a que clase pertenece (esto es , veamos que tipo de dato es)"
   ]
  },
  {
   "cell_type": "code",
   "execution_count": 86,
   "metadata": {
    "colab": {
     "base_uri": "https://localhost:8080/",
     "height": 34
    },
    "colab_type": "code",
    "id": "BJEMB3gfjoO7",
    "outputId": "89a2ee96-31e0-4d95-8301-ae9798903bb7"
   },
   "outputs": [
    {
     "data": {
      "text/plain": [
       "(1.0, 2.0, 3.0, 3.0)"
      ]
     },
     "execution_count": 86,
     "metadata": {
      "tags": []
     },
     "output_type": "execute_result"
    }
   ],
   "source": [
    "#indexacion\n",
    "v[0], v[1] , v[-1] , v[8]"
   ]
  },
  {
   "cell_type": "code",
   "execution_count": 95,
   "metadata": {
    "colab": {
     "base_uri": "https://localhost:8080/",
     "height": 84
    },
    "colab_type": "code",
    "id": "bft97xylgmsq",
    "outputId": "fb403510-437b-4202-e00f-2e254f10f977"
   },
   "outputs": [
    {
     "data": {
      "text/plain": [
       "(array([1. , 2. , 2.6]),\n",
       " array([3. , 7. , 6. , 5. , 2.6, 5. , 2. , 2. , 1. ]),\n",
       " array([2. , 2.6, 7. ]),\n",
       " array([5., 6., 7., 3.]))"
      ]
     },
     "execution_count": 95,
     "metadata": {
      "tags": []
     },
     "output_type": "execute_result"
    }
   ],
   "source": [
    "#slicing [indice_inicial:indice_fianl:paso]\n",
    "v[0:5:2], v[::-1] , v[1::3] , v[5::]"
   ]
  },
  {
   "cell_type": "code",
   "execution_count": 97,
   "metadata": {
    "colab": {
     "base_uri": "https://localhost:8080/",
     "height": 34
    },
    "colab_type": "code",
    "id": "0aFHkVlCbWOt",
    "outputId": "ab86f087-30f0-438d-de86-0cb20b05a28b"
   },
   "outputs": [
    {
     "data": {
      "text/plain": [
       "array([2., 5., 5., 6.])"
      ]
     },
     "execution_count": 97,
     "metadata": {
      "tags": []
     },
     "output_type": "execute_result"
    }
   ],
   "source": [
    "# otras formas de hacer indexing (usar una lista para hacer indexing)\n",
    "v[[1,3,5,6]]"
   ]
  },
  {
   "cell_type": "code",
   "execution_count": 101,
   "metadata": {
    "colab": {
     "base_uri": "https://localhost:8080/",
     "height": 34
    },
    "colab_type": "code",
    "id": "cgAdkYMcpdIj",
    "outputId": "54a4c280-2910-46db-9de3-6bdfdebb2802"
   },
   "outputs": [
    {
     "data": {
      "text/plain": [
       "array([1. , 2. , 2.6, 5. ])"
      ]
     },
     "execution_count": 101,
     "metadata": {
      "tags": []
     },
     "output_type": "execute_result"
    }
   ],
   "source": [
    "#Indexacion usando tipos buleanos\n",
    "v[[True , True , False, False, True, True, False, False, False]]"
   ]
  },
  {
   "cell_type": "code",
   "execution_count": 102,
   "metadata": {
    "colab": {
     "base_uri": "https://localhost:8080/",
     "height": 34
    },
    "colab_type": "code",
    "id": "PIiW74rAYQq6",
    "outputId": "97c4e798-46a8-4c4c-9956-658e9cf88c1d"
   },
   "outputs": [
    {
     "data": {
      "text/plain": [
       "array([False, False, False,  True, False,  True,  True,  True, False])"
      ]
     },
     "execution_count": 102,
     "metadata": {
      "tags": []
     },
     "output_type": "execute_result"
    }
   ],
   "source": [
    "#Indexacion usando tipos buleanos\n",
    "v > 4"
   ]
  },
  {
   "cell_type": "code",
   "execution_count": 104,
   "metadata": {
    "colab": {
     "base_uri": "https://localhost:8080/",
     "height": 34
    },
    "colab_type": "code",
    "id": "xGdJaVCcYh2x",
    "outputId": "d851bcb2-b769-43d5-8849-99c93bd91164"
   },
   "outputs": [
    {
     "data": {
      "text/plain": [
       "array([5., 5., 6., 7.])"
      ]
     },
     "execution_count": 104,
     "metadata": {
      "tags": []
     },
     "output_type": "execute_result"
    }
   ],
   "source": [
    "#Indexacion usando tipos buleanos\n",
    "v[v > 4]"
   ]
  },
  {
   "cell_type": "code",
   "execution_count": 105,
   "metadata": {
    "colab": {
     "base_uri": "https://localhost:8080/",
     "height": 84
    },
    "colab_type": "code",
    "id": "FGMR6iiDikSi",
    "outputId": "472039fb-a0c0-4593-821b-e7671ec31f01"
   },
   "outputs": [
    {
     "name": "stdout",
     "output_type": "stream",
     "text": [
      "(9,)\n",
      "float64\n",
      "9\n",
      "1\n"
     ]
    }
   ],
   "source": [
    "print(v.shape) #atributo shape del arreglo de numpy\n",
    "print(v.dtype) #atributo dtype\n",
    "print(v.size) #atributo size\n",
    "print(v.ndim) #atributo ndim"
   ]
  },
  {
   "cell_type": "markdown",
   "metadata": {
    "colab_type": "text",
    "id": "D1vN2jWzYYzi"
   },
   "source": [
    "## 2D arrys"
   ]
  },
  {
   "cell_type": "markdown",
   "metadata": {
    "colab_type": "text",
    "id": "84gVBWFIYcKO"
   },
   "source": [
    "Como se menciono antes, es posible crear arreglos de mayor dimension. en este caso , veamos los arreglos 2D (tambien conocidos como matrices)"
   ]
  },
  {
   "cell_type": "code",
   "execution_count": 0,
   "metadata": {
    "colab": {},
    "colab_type": "code",
    "id": "z2kwDfYGYwpu"
   },
   "outputs": [],
   "source": [
    "#creacion de un arreglo 2D (matriz) usando una lista de python\n",
    "entradas = [\n",
    "            [2,6,4,8,9],\n",
    "            [2,6,7,9,2.3],\n",
    "            [5,6,3.,4,2.,],\n",
    "            [9,0,5,3,6,],\n",
    "            [3.6,2.7,9.8,2,4] \n",
    "            ]"
   ]
  },
  {
   "cell_type": "code",
   "execution_count": 109,
   "metadata": {
    "colab": {
     "base_uri": "https://localhost:8080/",
     "height": 101
    },
    "colab_type": "code",
    "id": "VCAUUWh7Ybi6",
    "outputId": "69e1f247-1f0e-4328-c34e-a3e88ad7fe78"
   },
   "outputs": [
    {
     "data": {
      "text/plain": [
       "array([[2. , 6. , 4. , 8. , 9. ],\n",
       "       [2. , 6. , 7. , 9. , 2.3],\n",
       "       [5. , 6. , 3. , 4. , 2. ],\n",
       "       [9. , 0. , 5. , 3. , 6. ],\n",
       "       [3.6, 2.7, 9.8, 2. , 4. ]])"
      ]
     },
     "execution_count": 109,
     "metadata": {
      "tags": []
     },
     "output_type": "execute_result"
    }
   ],
   "source": [
    "#creacion de un arreglo 2D (matriz) usando una lista de python\n",
    "M = np.array(entradas)\n",
    "M"
   ]
  },
  {
   "cell_type": "code",
   "execution_count": 110,
   "metadata": {
    "colab": {
     "base_uri": "https://localhost:8080/",
     "height": 34
    },
    "colab_type": "code",
    "id": "ddZXJKNGY9cd",
    "outputId": "3a6963c2-ef0d-4ae5-c644-3f1351d124b6"
   },
   "outputs": [
    {
     "data": {
      "text/plain": [
       "(2.0, 4.0, 4.0)"
      ]
     },
     "execution_count": 110,
     "metadata": {
      "tags": []
     },
     "output_type": "execute_result"
    }
   ],
   "source": [
    "#Indexacion en arreglos matriciales\n",
    "M[0,0] , M[4,-1] , M[4,4]"
   ]
  },
  {
   "cell_type": "code",
   "execution_count": 115,
   "metadata": {
    "colab": {
     "base_uri": "https://localhost:8080/",
     "height": 34
    },
    "colab_type": "code",
    "id": "KvCBTHKIY9Z9",
    "outputId": "e87e86e5-b131-4656-ba33-1651a566fd14"
   },
   "outputs": [
    {
     "data": {
      "text/plain": [
       "array([2. , 5. , 3.6])"
      ]
     },
     "execution_count": 115,
     "metadata": {
      "tags": []
     },
     "output_type": "execute_result"
    }
   ],
   "source": [
    "#Slicing en arreglos matriciales\n",
    "M[0:6:2, 0] "
   ]
  },
  {
   "cell_type": "code",
   "execution_count": 116,
   "metadata": {
    "colab": {
     "base_uri": "https://localhost:8080/",
     "height": 67
    },
    "colab_type": "code",
    "id": "siCh7TK1aO6d",
    "outputId": "357446ac-057d-4011-8a3e-cb7b9fa369f0"
   },
   "outputs": [
    {
     "data": {
      "text/plain": [
       "array([[2. , 4. , 9. ],\n",
       "       [5. , 3. , 2. ],\n",
       "       [3.6, 9.8, 4. ]])"
      ]
     },
     "execution_count": 116,
     "metadata": {
      "tags": []
     },
     "output_type": "execute_result"
    }
   ],
   "source": [
    "#Slicing en arreglos matriciales\n",
    "M[0:6:2, 0:6:2] "
   ]
  },
  {
   "cell_type": "code",
   "execution_count": 117,
   "metadata": {
    "colab": {
     "base_uri": "https://localhost:8080/",
     "height": 67
    },
    "colab_type": "code",
    "id": "34kdy8c3aO3S",
    "outputId": "1279b744-39b7-401b-9852-99069ecfd22b"
   },
   "outputs": [
    {
     "data": {
      "text/plain": [
       "array([[2. , 6. , 4. , 8. , 9. ],\n",
       "       [5. , 6. , 3. , 4. , 2. ],\n",
       "       [3.6, 2.7, 9.8, 2. , 4. ]])"
      ]
     },
     "execution_count": 117,
     "metadata": {
      "tags": []
     },
     "output_type": "execute_result"
    }
   ],
   "source": [
    "#Slicing en arreglos matriciales\n",
    "M[0:6:2, :] "
   ]
  },
  {
   "cell_type": "code",
   "execution_count": 118,
   "metadata": {
    "colab": {
     "base_uri": "https://localhost:8080/",
     "height": 34
    },
    "colab_type": "code",
    "id": "Z5s0qKZIaS4D",
    "outputId": "0e883262-903b-44b9-929e-49d2cdc5ea83"
   },
   "outputs": [
    {
     "data": {
      "text/plain": [
       "array([9. , 2.3, 2. , 6. , 4. ])"
      ]
     },
     "execution_count": 118,
     "metadata": {
      "tags": []
     },
     "output_type": "execute_result"
    }
   ],
   "source": [
    "#Slicing en arreglos matriciales\n",
    "M[0:, -1] "
   ]
  },
  {
   "cell_type": "code",
   "execution_count": 121,
   "metadata": {
    "colab": {
     "base_uri": "https://localhost:8080/",
     "height": 101
    },
    "colab_type": "code",
    "id": "2C7hjlncaSvx",
    "outputId": "f92c08b7-e327-4442-fc25-243346260dbc"
   },
   "outputs": [
    {
     "data": {
      "text/plain": [
       "array([[2. , 8. ],\n",
       "       [2. , 9. ],\n",
       "       [5. , 4. ],\n",
       "       [9. , 3. ],\n",
       "       [3.6, 2. ]])"
      ]
     },
     "execution_count": 121,
     "metadata": {
      "tags": []
     },
     "output_type": "execute_result"
    }
   ],
   "source": [
    "#Slicing en arreglos matriciales\n",
    "M[:, 0:-1:3] "
   ]
  },
  {
   "cell_type": "code",
   "execution_count": 124,
   "metadata": {
    "colab": {
     "base_uri": "https://localhost:8080/",
     "height": 101
    },
    "colab_type": "code",
    "id": "L9tdn3j0dZLc",
    "outputId": "85610f4e-8b66-4f7b-fd8a-d77b5c5303ac"
   },
   "outputs": [
    {
     "data": {
      "text/plain": [
       "array([[2. , 4. , 9. ],\n",
       "       [2. , 7. , 2.3],\n",
       "       [5. , 3. , 2. ],\n",
       "       [9. , 5. , 6. ],\n",
       "       [3.6, 9.8, 4. ]])"
      ]
     },
     "execution_count": 124,
     "metadata": {
      "tags": []
     },
     "output_type": "execute_result"
    }
   ],
   "source": [
    "#Otras formas de indexing usando listas de python\n",
    "M[:,[0,2,4]]"
   ]
  },
  {
   "cell_type": "code",
   "execution_count": 137,
   "metadata": {
    "colab": {
     "base_uri": "https://localhost:8080/",
     "height": 50
    },
    "colab_type": "code",
    "id": "v9JGAsKcY9Uy",
    "outputId": "b1139e20-1b50-4588-f4ab-2112f980c7ff"
   },
   "outputs": [
    {
     "data": {
      "text/plain": [
       "array([[3., 3.],\n",
       "       [2., 2.]])"
      ]
     },
     "execution_count": 137,
     "metadata": {
      "tags": []
     },
     "output_type": "execute_result"
    }
   ],
   "source": [
    "#Otras formas de indexing\n",
    "index = [[2,2],[0,0]], [[2,2],[0,0]]\n",
    "M[index]"
   ]
  },
  {
   "cell_type": "code",
   "execution_count": 140,
   "metadata": {
    "colab": {
     "base_uri": "https://localhost:8080/",
     "height": 101
    },
    "colab_type": "code",
    "id": "aWrtMUg5bghC",
    "outputId": "4c4176d8-c991-4360-9b63-421c4c4ddd22"
   },
   "outputs": [
    {
     "data": {
      "text/plain": [
       "array([[False,  True, False,  True,  True],\n",
       "       [False,  True,  True,  True, False],\n",
       "       [False,  True, False, False, False],\n",
       "       [ True, False, False, False,  True],\n",
       "       [False, False,  True, False, False]])"
      ]
     },
     "execution_count": 140,
     "metadata": {
      "tags": []
     },
     "output_type": "execute_result"
    }
   ],
   "source": [
    "#Indexacion usando tipos buleanos\n",
    "M > 5"
   ]
  },
  {
   "cell_type": "code",
   "execution_count": 141,
   "metadata": {
    "colab": {
     "base_uri": "https://localhost:8080/",
     "height": 34
    },
    "colab_type": "code",
    "id": "QNy0cSFVplri",
    "outputId": "696d2d88-f4ec-425c-c2df-c388b2452348"
   },
   "outputs": [
    {
     "data": {
      "text/plain": [
       "array([6. , 8. , 9. , 6. , 7. , 9. , 6. , 9. , 6. , 9.8])"
      ]
     },
     "execution_count": 141,
     "metadata": {
      "tags": []
     },
     "output_type": "execute_result"
    }
   ],
   "source": [
    "#Indexacion usando tipos buleanos\n",
    "M[M > 5]"
   ]
  },
  {
   "cell_type": "code",
   "execution_count": 142,
   "metadata": {
    "colab": {
     "base_uri": "https://localhost:8080/",
     "height": 84
    },
    "colab_type": "code",
    "id": "hiUsbpbshMuu",
    "outputId": "123a551c-b768-4175-a546-3fc1f640dbe0"
   },
   "outputs": [
    {
     "name": "stdout",
     "output_type": "stream",
     "text": [
      "(5, 5)\n",
      "float64\n",
      "25\n",
      "2\n"
     ]
    }
   ],
   "source": [
    "print(M.shape) #atributo shape del arreglo de numpy\n",
    "print(M.dtype) #atributo dtype\n",
    "print(M.size) #atributo size\n",
    "print(M.ndim) #atributo ndim"
   ]
  },
  {
   "cell_type": "markdown",
   "metadata": {
    "colab_type": "text",
    "id": "AUP_MeFyW1i0"
   },
   "source": [
    "Numpy tiene muchas funciones para crear arreglos "
   ]
  },
  {
   "cell_type": "code",
   "execution_count": 149,
   "metadata": {
    "colab": {
     "base_uri": "https://localhost:8080/",
     "height": 34
    },
    "colab_type": "code",
    "id": "wqmorXvjdwXN",
    "outputId": "7bfad26a-3870-4616-9836-e36b79037f81"
   },
   "outputs": [
    {
     "data": {
      "text/plain": [
       "array([0., 0., 0., 0., 0.])"
      ]
     },
     "execution_count": 149,
     "metadata": {
      "tags": []
     },
     "output_type": "execute_result"
    }
   ],
   "source": [
    "# Creación de un array de zeros\n",
    "np.zeros(5)"
   ]
  },
  {
   "cell_type": "code",
   "execution_count": 150,
   "metadata": {
    "colab": {
     "base_uri": "https://localhost:8080/",
     "height": 50
    },
    "colab_type": "code",
    "id": "Z1V-pAlmcrLB",
    "outputId": "a4ac896c-b2ee-45ea-dba4-4ff09321a08b"
   },
   "outputs": [
    {
     "data": {
      "text/plain": [
       "array([[0., 0.],\n",
       "       [0., 0.]])"
      ]
     },
     "execution_count": 150,
     "metadata": {
      "tags": []
     },
     "output_type": "execute_result"
    }
   ],
   "source": [
    "np.zeros((2,2))"
   ]
  },
  {
   "cell_type": "code",
   "execution_count": 151,
   "metadata": {
    "colab": {
     "base_uri": "https://localhost:8080/",
     "height": 34
    },
    "colab_type": "code",
    "id": "Hsh93K7gdwU9",
    "outputId": "371e851c-04fd-42e7-c707-7eed96da15b0"
   },
   "outputs": [
    {
     "data": {
      "text/plain": [
       "array([1., 1., 1., 1., 1.])"
      ]
     },
     "execution_count": 151,
     "metadata": {
      "tags": []
     },
     "output_type": "execute_result"
    }
   ],
   "source": [
    "# Creación de un array de unos\n",
    "np.ones(5)"
   ]
  },
  {
   "cell_type": "code",
   "execution_count": 152,
   "metadata": {
    "colab": {
     "base_uri": "https://localhost:8080/",
     "height": 67
    },
    "colab_type": "code",
    "id": "fsyswO3mc1s-",
    "outputId": "bf8c6157-310b-4bec-8334-eb51bf21ff4c"
   },
   "outputs": [
    {
     "data": {
      "text/plain": [
       "array([[1., 1., 1.],\n",
       "       [1., 1., 1.],\n",
       "       [1., 1., 1.]])"
      ]
     },
     "execution_count": 152,
     "metadata": {
      "tags": []
     },
     "output_type": "execute_result"
    }
   ],
   "source": [
    "np.ones((3,3))"
   ]
  },
  {
   "cell_type": "code",
   "execution_count": 158,
   "metadata": {
    "colab": {
     "base_uri": "https://localhost:8080/",
     "height": 34
    },
    "colab_type": "code",
    "id": "_gCvt4M0dwSs",
    "outputId": "7fbe1f9e-76a6-40ae-fb96-5126298ed833"
   },
   "outputs": [
    {
     "data": {
      "text/plain": [
       "array([3, 3, 3, 3, 3])"
      ]
     },
     "execution_count": 158,
     "metadata": {
      "tags": []
     },
     "output_type": "execute_result"
    }
   ],
   "source": [
    "# Creación de un array de una costante\n",
    "np.full(5 , 3)"
   ]
  },
  {
   "cell_type": "code",
   "execution_count": 160,
   "metadata": {
    "colab": {
     "base_uri": "https://localhost:8080/",
     "height": 67
    },
    "colab_type": "code",
    "id": "opg5_sA0dEJh",
    "outputId": "8ab760ae-cbb4-498f-96b0-b6e1a3fac1b8"
   },
   "outputs": [
    {
     "data": {
      "text/plain": [
       "array([[10, 10, 10],\n",
       "       [10, 10, 10],\n",
       "       [10, 10, 10]])"
      ]
     },
     "execution_count": 160,
     "metadata": {
      "tags": []
     },
     "output_type": "execute_result"
    }
   ],
   "source": [
    "np.full((3,3), 10)"
   ]
  },
  {
   "cell_type": "code",
   "execution_count": 163,
   "metadata": {
    "colab": {
     "base_uri": "https://localhost:8080/",
     "height": 50
    },
    "colab_type": "code",
    "id": "xyE_XBendwQG",
    "outputId": "7e5d1c99-2baf-4aca-8431-ed738b72d08d"
   },
   "outputs": [
    {
     "data": {
      "text/plain": [
       "array([[1., 0.],\n",
       "       [0., 1.]])"
      ]
     },
     "execution_count": 163,
     "metadata": {
      "tags": []
     },
     "output_type": "execute_result"
    }
   ],
   "source": [
    "# Creación de la matriz indentidad de 2x2.\n",
    "np.identity(2)"
   ]
  },
  {
   "cell_type": "code",
   "execution_count": 165,
   "metadata": {
    "colab": {
     "base_uri": "https://localhost:8080/",
     "height": 67
    },
    "colab_type": "code",
    "id": "Ca0hbbq2dwNV",
    "outputId": "b203f649-dd73-4945-d994-031d6a6614f4"
   },
   "outputs": [
    {
     "data": {
      "text/plain": [
       "array([4. , 4.2, 4.4, 4.6, 4.8, 5. , 5.2, 5.4, 5.6, 5.8, 6. , 6.2, 6.4,\n",
       "       6.6, 6.8, 7. , 7.2, 7.4, 7.6, 7.8, 8. , 8.2, 8.4, 8.6, 8.8, 9. ,\n",
       "       9.2, 9.4, 9.6, 9.8])"
      ]
     },
     "execution_count": 165,
     "metadata": {
      "tags": []
     },
     "output_type": "execute_result"
    }
   ],
   "source": [
    "# Crea un vector de cinco valores espaciados \n",
    "np.arange(4,10,0.2)"
   ]
  },
  {
   "cell_type": "code",
   "execution_count": 166,
   "metadata": {
    "colab": {
     "base_uri": "https://localhost:8080/",
     "height": 50
    },
    "colab_type": "code",
    "id": "_3NsAn63dwK-",
    "outputId": "c62df1c1-47c5-47ae-ab8f-d2969f5ee4cb"
   },
   "outputs": [
    {
     "data": {
      "text/plain": [
       "array([-2.        , -1.55555556, -1.11111111, -0.66666667, -0.22222222,\n",
       "        0.22222222,  0.66666667,  1.11111111,  1.55555556,  2.        ])"
      ]
     },
     "execution_count": 166,
     "metadata": {
      "tags": []
     },
     "output_type": "execute_result"
    }
   ],
   "source": [
    "# Crea un vector de cinco valores espaciados\n",
    "np.linspace(-2,2,10)"
   ]
  },
  {
   "cell_type": "code",
   "execution_count": 167,
   "metadata": {
    "colab": {
     "base_uri": "https://localhost:8080/",
     "height": 50
    },
    "colab_type": "code",
    "id": "q0aNVjncdwIU",
    "outputId": "18029462-9c22-447d-aaea-3cf48a388460"
   },
   "outputs": [
    {
     "data": {
      "text/plain": [
       "array([0.04510897, 0.72451303, 0.44931964, 0.64594502, 0.96602371,\n",
       "       0.23066903, 0.77233989, 0.37480168, 0.50343858, 0.43426386])"
      ]
     },
     "execution_count": 167,
     "metadata": {
      "tags": []
     },
     "output_type": "execute_result"
    }
   ],
   "source": [
    "# Creación de un arreglo de valores aleatorios dados por una distribucion uniforme en el rango (0,1)\n",
    "np.random.random(10)"
   ]
  },
  {
   "cell_type": "code",
   "execution_count": 169,
   "metadata": {
    "colab": {
     "base_uri": "https://localhost:8080/",
     "height": 50
    },
    "colab_type": "code",
    "id": "4U1m6OAMd3fX",
    "outputId": "107415d6-0097-42ec-d161-ae731206136c"
   },
   "outputs": [
    {
     "data": {
      "text/plain": [
       "array([[0.78446688, 0.28443774],\n",
       "       [0.53767983, 0.14187252]])"
      ]
     },
     "execution_count": 169,
     "metadata": {
      "tags": []
     },
     "output_type": "execute_result"
    }
   ],
   "source": [
    "np.random.random((2,2))"
   ]
  },
  {
   "cell_type": "code",
   "execution_count": 171,
   "metadata": {
    "colab": {
     "base_uri": "https://localhost:8080/",
     "height": 50
    },
    "colab_type": "code",
    "id": "1fZamq19XAw7",
    "outputId": "59f1d3cf-6d7f-4565-84c5-52ed7f317232"
   },
   "outputs": [
    {
     "data": {
      "text/plain": [
       "array([ 0.45895605,  0.59282042,  0.59689481,  1.13078369, -1.11667261,\n",
       "       -0.08581048,  2.08031318,  2.14934768, -0.39482094, -1.39840586])"
      ]
     },
     "execution_count": 171,
     "metadata": {
      "tags": []
     },
     "output_type": "execute_result"
    }
   ],
   "source": [
    "# Creación arreglo de valores aleatorios dados por una distribucion normal \n",
    "np.random.normal(loc=0, scale=1, size=10)"
   ]
  },
  {
   "cell_type": "code",
   "execution_count": 172,
   "metadata": {
    "colab": {
     "base_uri": "https://localhost:8080/",
     "height": 67
    },
    "colab_type": "code",
    "id": "3bp3bqBQeMNx",
    "outputId": "12533e0b-9364-4861-dd38-f813074eba33"
   },
   "outputs": [
    {
     "data": {
      "text/plain": [
       "array([[-1.31358478,  1.00590217, -1.14564481],\n",
       "       [ 0.24920212,  0.23690745, -0.51320557],\n",
       "       [-0.64837712, -1.16955595,  1.02789509]])"
      ]
     },
     "execution_count": 172,
     "metadata": {
      "tags": []
     },
     "output_type": "execute_result"
    }
   ],
   "source": [
    "np.random.normal(loc=0, scale=1, size=(3,3))"
   ]
  },
  {
   "cell_type": "code",
   "execution_count": 175,
   "metadata": {
    "colab": {
     "base_uri": "https://localhost:8080/",
     "height": 34
    },
    "colab_type": "code",
    "id": "wQgZ2VJneB6I",
    "outputId": "1e0eed45-74ef-4e6d-8b45-cfce7e7f95c3"
   },
   "outputs": [
    {
     "data": {
      "text/plain": [
       "array([7, 6, 4, 6, 8, 2, 8, 4, 9, 2])"
      ]
     },
     "execution_count": 175,
     "metadata": {
      "tags": []
     },
     "output_type": "execute_result"
    }
   ],
   "source": [
    "# Creación de una arreglo de números enteros aleatorios dados por una distribucion uniforme en el rango dado\n",
    "np.random.randint(low = 2, high=10, size=10)"
   ]
  },
  {
   "cell_type": "code",
   "execution_count": 176,
   "metadata": {
    "colab": {
     "base_uri": "https://localhost:8080/",
     "height": 84
    },
    "colab_type": "code",
    "id": "6oh9CMoWel43",
    "outputId": "628c5e28-6482-49f3-b4c8-97e07f66471e"
   },
   "outputs": [
    {
     "data": {
      "text/plain": [
       "array([[5, 3, 3, 7],\n",
       "       [5, 3, 4, 2],\n",
       "       [2, 9, 6, 7],\n",
       "       [9, 2, 6, 5]])"
      ]
     },
     "execution_count": 176,
     "metadata": {
      "tags": []
     },
     "output_type": "execute_result"
    }
   ],
   "source": [
    "np.random.randint(low = 2, high=10, size=(4,4))"
   ]
  },
  {
   "cell_type": "code",
   "execution_count": 0,
   "metadata": {
    "colab": {},
    "colab_type": "code",
    "id": "20vUymMdeYp9"
   },
   "outputs": [],
   "source": []
  },
  {
   "cell_type": "markdown",
   "metadata": {
    "colab_type": "text",
    "id": "lVQa7ZLXhYaS"
   },
   "source": [
    "## Ejercicios"
   ]
  },
  {
   "cell_type": "markdown",
   "metadata": {
    "colab_type": "text",
    "id": "DhgkH2ZAhaCF"
   },
   "source": [
    "1) Create a 3×3 numpy array of all True’s "
   ]
  },
  {
   "cell_type": "code",
   "execution_count": 0,
   "metadata": {
    "colab": {},
    "colab_type": "code",
    "id": "3Q5oB1pqgMzv"
   },
   "outputs": [],
   "source": []
  },
  {
   "cell_type": "markdown",
   "metadata": {
    "colab_type": "text",
    "id": "Q-4WOsDhhg7F"
   },
   "source": [
    "2) Replace all odd numbers in the below arry with -1 \n",
    "```\n",
    "Input\n",
    "\n",
    "arr = np.array([0, 1, 2, 3, 4, 5, 6, 7, 8, 9])\n",
    "```\n"
   ]
  },
  {
   "cell_type": "code",
   "execution_count": 0,
   "metadata": {
    "colab": {},
    "colab_type": "code",
    "id": "vVoeCK0ahgn5"
   },
   "outputs": [],
   "source": []
  },
  {
   "cell_type": "markdown",
   "metadata": {
    "colab_type": "text",
    "id": "5fyKapSIhhhs"
   },
   "source": [
    "3) Convert a 1D array to a 2D array with 2 rows \n",
    "\n",
    "\n",
    "\n",
    "```\n",
    "Input:\n",
    "\n",
    "arr = np.array([ 0, 1, 2, 3, 4, 5, 6, 7, 8, 9])\n",
    "```\n",
    "\n",
    "ayuda: Investigar el metodo `reshape ` que tienen los arreglos de numpy\n"
   ]
  },
  {
   "cell_type": "code",
   "execution_count": 0,
   "metadata": {
    "colab": {},
    "colab_type": "code",
    "id": "THQ9yMjTRipf"
   },
   "outputs": [],
   "source": []
  },
  {
   "cell_type": "markdown",
   "metadata": {
    "colab_type": "text",
    "id": "RR8-8BLcRjHC"
   },
   "source": [
    "4) Stack arrays a and b vertically\n",
    "\n",
    "```\n",
    "Input\n",
    "\n",
    "a = np.arange(10).reshape(2,-1)\n",
    "b = np.repeat(1, 10).reshape(2,-1)\n",
    "```\n",
    "\n",
    "ayuda: investigar las funciones np.vstack , np.hstack "
   ]
  },
  {
   "cell_type": "code",
   "execution_count": 0,
   "metadata": {
    "colab": {},
    "colab_type": "code",
    "id": "vD5C3vseRjkr"
   },
   "outputs": [],
   "source": []
  },
  {
   "cell_type": "markdown",
   "metadata": {
    "colab_type": "text",
    "id": "PXSsa34kSLBG"
   },
   "source": [
    "5) Get the positions where elements of a and b match\n",
    "\n",
    "\n",
    "\n",
    "```\n",
    "Input:\n",
    "\n",
    "a = np.array([1,2,3,2,3,4,3,4,5,6])\n",
    "b = np.array([7,2,10,2,7,4,9,4,9,8])\n",
    "```\n",
    "\n",
    "ayuda: investigar la funcion np.where\n"
   ]
  },
  {
   "cell_type": "code",
   "execution_count": 0,
   "metadata": {
    "colab": {},
    "colab_type": "code",
    "id": "b8pdiPH6SKp8"
   },
   "outputs": [],
   "source": []
  },
  {
   "cell_type": "markdown",
   "metadata": {
    "colab_type": "text",
    "id": "3JC7hHw_aVvn"
   },
   "source": [
    "6) Swap columns 1 and 2 in the array arr.\n",
    "\n",
    "arr = np.arange(9).reshape(3,3)\n",
    "\n",
    "\n",
    "\n",
    "\n",
    "```\n",
    "arr = np.arange(9).reshape(3,3)\n",
    "```\n",
    "\n"
   ]
  },
  {
   "cell_type": "code",
   "execution_count": 0,
   "metadata": {
    "colab": {},
    "colab_type": "code",
    "id": "Y-g-3_1OaVVe"
   },
   "outputs": [],
   "source": []
  },
  {
   "cell_type": "markdown",
   "metadata": {
    "colab_type": "text",
    "id": "O-aeg8avhiZo"
   },
   "source": [
    "## Operaciones basicas entre entre arreglos del mismo tamaño"
   ]
  },
  {
   "cell_type": "markdown",
   "metadata": {
    "colab_type": "text",
    "id": "As4wq1NQm_b2"
   },
   "source": [
    "Las operaciones basicas entre arreglos se dan elemento a elemnto "
   ]
  },
  {
   "cell_type": "code",
   "execution_count": 180,
   "metadata": {
    "colab": {
     "base_uri": "https://localhost:8080/",
     "height": 34
    },
    "colab_type": "code",
    "id": "kR2TufwVhgT4",
    "outputId": "611d99e1-c415-4a54-e0f6-5f2bb77c6f30"
   },
   "outputs": [
    {
     "data": {
      "text/plain": [
       "(array([2, 8, 5, 6, 7, 7, 2, 6, 8, 9]), array([9, 6, 5, 6, 7, 9, 5, 4, 3, 8]))"
      ]
     },
     "execution_count": 180,
     "metadata": {
      "tags": []
     },
     "output_type": "execute_result"
    }
   ],
   "source": [
    "#definamos los dos arreglos\n",
    "v = np.random.randint(low = 2, high=10, size=10)\n",
    "w = np.random.randint(low = 2, high=10, size=10)\n",
    "v,w"
   ]
  },
  {
   "cell_type": "code",
   "execution_count": 181,
   "metadata": {
    "colab": {
     "base_uri": "https://localhost:8080/",
     "height": 50
    },
    "colab_type": "code",
    "id": "m1_IKMPinIZT",
    "outputId": "b4105daa-da8c-4808-dfde-c2c41b2c7cd3"
   },
   "outputs": [
    {
     "data": {
      "text/plain": [
       "(array([11, 14, 10, 12, 14, 16,  7, 10, 11, 17]),\n",
       " array([ 7, -2,  0,  0,  0,  2,  3, -2, -5, -1]))"
      ]
     },
     "execution_count": 181,
     "metadata": {
      "tags": []
     },
     "output_type": "execute_result"
    }
   ],
   "source": [
    "#suma y resta de dos arreglos 1D de la misma longitud\n",
    "w + v , w - v"
   ]
  },
  {
   "cell_type": "code",
   "execution_count": 182,
   "metadata": {
    "colab": {
     "base_uri": "https://localhost:8080/",
     "height": 67
    },
    "colab_type": "code",
    "id": "J1YLZjnvnKBN",
    "outputId": "7cdf8c16-6353-4e02-b7a1-511d67d3f678"
   },
   "outputs": [
    {
     "data": {
      "text/plain": [
       "(array([18, 48, 25, 36, 49, 63, 10, 24, 24, 72]),\n",
       " array([4.5       , 0.75      , 1.        , 1.        , 1.        ,\n",
       "        1.28571429, 2.5       , 0.66666667, 0.375     , 0.88888889]))"
      ]
     },
     "execution_count": 182,
     "metadata": {
      "tags": []
     },
     "output_type": "execute_result"
    }
   ],
   "source": [
    "#multiplicacion y division\n",
    "w*v , w/v"
   ]
  },
  {
   "cell_type": "code",
   "execution_count": 183,
   "metadata": {
    "colab": {
     "base_uri": "https://localhost:8080/",
     "height": 50
    },
    "colab_type": "code",
    "id": "GoId02Khp_dw",
    "outputId": "0dab2e31-4b6f-4b5b-848d-5ec90cfe8d3e"
   },
   "outputs": [
    {
     "data": {
      "text/plain": [
       "array([       81,   1679616,      3125,     46656,    823543,   4782969,\n",
       "              25,      4096,      6561, 134217728])"
      ]
     },
     "execution_count": 183,
     "metadata": {
      "tags": []
     },
     "output_type": "execute_result"
    }
   ],
   "source": [
    "#Potenciacion\n",
    "w**v"
   ]
  },
  {
   "cell_type": "code",
   "execution_count": 184,
   "metadata": {
    "colab": {
     "base_uri": "https://localhost:8080/",
     "height": 101
    },
    "colab_type": "code",
    "id": "sryKvUt_f31i",
    "outputId": "51d1e9ca-4b55-4436-fea7-01cd1df1a135"
   },
   "outputs": [
    {
     "data": {
      "text/plain": [
       "(array([[8, 8, 6],\n",
       "        [4, 8, 8],\n",
       "        [3, 4, 2]]), array([[2, 9, 5],\n",
       "        [8, 5, 6],\n",
       "        [5, 2, 9]]))"
      ]
     },
     "execution_count": 184,
     "metadata": {
      "tags": []
     },
     "output_type": "execute_result"
    }
   ],
   "source": [
    "#definamos los dos arreglos 2D\n",
    "v = np.random.randint(low = 2, high=10, size=(3,3))\n",
    "w = np.random.randint(low = 2, high=10, size=(3,3))\n",
    "v,w"
   ]
  },
  {
   "cell_type": "code",
   "execution_count": 188,
   "metadata": {
    "colab": {
     "base_uri": "https://localhost:8080/",
     "height": 67
    },
    "colab_type": "code",
    "id": "Ki8VGUDcf31p",
    "outputId": "2b1f7cb5-aaf7-4cf8-c2a0-08c539730c90"
   },
   "outputs": [
    {
     "data": {
      "text/plain": [
       "array([[10, 17, 11],\n",
       "       [12, 13, 14],\n",
       "       [ 8,  6, 11]])"
      ]
     },
     "execution_count": 188,
     "metadata": {
      "tags": []
     },
     "output_type": "execute_result"
    }
   ],
   "source": [
    "#suma y resta de dos arreglos 1D de la misma longitud\n",
    "w + v"
   ]
  },
  {
   "cell_type": "code",
   "execution_count": 189,
   "metadata": {
    "colab": {
     "base_uri": "https://localhost:8080/",
     "height": 67
    },
    "colab_type": "code",
    "id": "AOyZonSwf31r",
    "outputId": "645c806a-76c3-4987-9f22-4718be6701c9"
   },
   "outputs": [
    {
     "data": {
      "text/plain": [
       "array([[16, 72, 30],\n",
       "       [32, 40, 48],\n",
       "       [15,  8, 18]])"
      ]
     },
     "execution_count": 189,
     "metadata": {
      "tags": []
     },
     "output_type": "execute_result"
    }
   ],
   "source": [
    "#multiplicacion y division\n",
    "w*v "
   ]
  },
  {
   "cell_type": "code",
   "execution_count": 190,
   "metadata": {
    "colab": {
     "base_uri": "https://localhost:8080/",
     "height": 67
    },
    "colab_type": "code",
    "id": "x6qxIvV8f31v",
    "outputId": "7168718d-ae56-4c83-b563-f82885d24782"
   },
   "outputs": [
    {
     "data": {
      "text/plain": [
       "array([[     256, 43046721,    15625],\n",
       "       [    4096,   390625,  1679616],\n",
       "       [     125,       16,       81]])"
      ]
     },
     "execution_count": 190,
     "metadata": {
      "tags": []
     },
     "output_type": "execute_result"
    }
   ],
   "source": [
    "#Potenciacion\n",
    "w**v"
   ]
  },
  {
   "cell_type": "markdown",
   "metadata": {
    "colab_type": "text",
    "id": "MuPviq5RsIZ-"
   },
   "source": [
    "## Operaciones basicas entre entre arreglos de diferente tamaño (Broadcasting)"
   ]
  },
  {
   "cell_type": "code",
   "execution_count": 0,
   "metadata": {
    "colab": {},
    "colab_type": "code",
    "id": "mME65bYHsI0w"
   },
   "outputs": [],
   "source": [
    "#definamos un arreglo 1D con numeros aleatorios\n",
    "v = np.random.randint(low = 2, high=10, size=10)"
   ]
  },
  {
   "cell_type": "code",
   "execution_count": 204,
   "metadata": {
    "colab": {
     "base_uri": "https://localhost:8080/",
     "height": 50
    },
    "colab_type": "code",
    "id": "8lKmdSeFsJce",
    "outputId": "fbc1e5c3-756e-4365-d870-28ec16d7702d"
   },
   "outputs": [
    {
     "data": {
      "text/plain": [
       "(array([ 4,  3, 10,  8,  8,  3,  3,  9,  7, 10]),\n",
       " array([2, 1, 8, 6, 6, 1, 1, 7, 5, 8]))"
      ]
     },
     "execution_count": 204,
     "metadata": {
      "tags": []
     },
     "output_type": "execute_result"
    }
   ],
   "source": [
    "#suma y resta de un arreglo y una constante\n",
    "v + 1 , v - 1"
   ]
  },
  {
   "cell_type": "code",
   "execution_count": 205,
   "metadata": {
    "colab": {
     "base_uri": "https://localhost:8080/",
     "height": 50
    },
    "colab_type": "code",
    "id": "wTIMb_kUsJaK",
    "outputId": "11a080e4-f994-4d22-eac8-c5fcf9d76f26"
   },
   "outputs": [
    {
     "data": {
      "text/plain": [
       "(array([ 6,  4, 18, 14, 14,  4,  4, 16, 12, 18]),\n",
       " array([1.5, 1. , 4.5, 3.5, 3.5, 1. , 1. , 4. , 3. , 4.5]))"
      ]
     },
     "execution_count": 205,
     "metadata": {
      "tags": []
     },
     "output_type": "execute_result"
    }
   ],
   "source": [
    "#multiplicacion  y division de un arreglo y una constante\n",
    "v*2 , v/2"
   ]
  },
  {
   "cell_type": "code",
   "execution_count": 206,
   "metadata": {
    "colab": {
     "base_uri": "https://localhost:8080/",
     "height": 50
    },
    "colab_type": "code",
    "id": "IzWhCpnAbbXO",
    "outputId": "4c658f89-4948-4b94-9818-abee2c177a6a"
   },
   "outputs": [
    {
     "data": {
      "text/plain": [
       "array([False, False,  True,  True,  True, False, False,  True,  True,\n",
       "        True])"
      ]
     },
     "execution_count": 206,
     "metadata": {
      "tags": []
     },
     "output_type": "execute_result"
    }
   ],
   "source": [
    "#Comparaciones entre arreglo y una constante\n",
    "v > 5"
   ]
  },
  {
   "cell_type": "code",
   "execution_count": 239,
   "metadata": {
    "colab": {
     "base_uri": "https://localhost:8080/",
     "height": 84
    },
    "colab_type": "code",
    "id": "tN0kO7OGsJXo",
    "outputId": "ee2d4d4c-6d5d-4fd1-8c11-4087a84e9e58"
   },
   "outputs": [
    {
     "data": {
      "text/plain": [
       "array([[2, 9, 3, 7],\n",
       "       [8, 7, 3, 5],\n",
       "       [9, 9, 9, 4],\n",
       "       [7, 7, 7, 6]])"
      ]
     },
     "execution_count": 239,
     "metadata": {
      "tags": []
     },
     "output_type": "execute_result"
    }
   ],
   "source": [
    "#Definamos dos arreglos con diferentes damaños\n",
    "v = np.random.randint(low = 2, high=10, size=(4,4))\n",
    "w = np.random.randint(low = 2, high=10, size=(1,4))\n",
    "v"
   ]
  },
  {
   "cell_type": "code",
   "execution_count": 240,
   "metadata": {
    "colab": {
     "base_uri": "https://localhost:8080/",
     "height": 34
    },
    "colab_type": "code",
    "id": "_RiPPJ_ugndB",
    "outputId": "c31ffebc-6395-4d20-dea6-e2efc583baa4"
   },
   "outputs": [
    {
     "data": {
      "text/plain": [
       "array([[2, 3, 3, 4]])"
      ]
     },
     "execution_count": 240,
     "metadata": {
      "tags": []
     },
     "output_type": "execute_result"
    }
   ],
   "source": [
    "w"
   ]
  },
  {
   "cell_type": "code",
   "execution_count": 241,
   "metadata": {
    "colab": {
     "base_uri": "https://localhost:8080/",
     "height": 84
    },
    "colab_type": "code",
    "id": "diYZVRpysJQ-",
    "outputId": "02cd062c-7c2e-4b85-c140-e1e9491cb74a"
   },
   "outputs": [
    {
     "data": {
      "text/plain": [
       "array([[ 4, 12,  6, 11],\n",
       "       [10, 10,  6,  9],\n",
       "       [11, 12, 12,  8],\n",
       "       [ 9, 10, 10, 10]])"
      ]
     },
     "execution_count": 241,
     "metadata": {
      "tags": []
     },
     "output_type": "execute_result"
    }
   ],
   "source": [
    "#Suma entre los dos arreglos\n",
    "w + v"
   ]
  },
  {
   "cell_type": "code",
   "execution_count": 242,
   "metadata": {
    "colab": {
     "base_uri": "https://localhost:8080/",
     "height": 84
    },
    "colab_type": "code",
    "id": "csqdqQCYhxhj",
    "outputId": "42afe6af-41ab-4509-dfa3-2361335ef1fe"
   },
   "outputs": [
    {
     "data": {
      "text/plain": [
       "array([[ 4, 27,  9, 28],\n",
       "       [16, 21,  9, 20],\n",
       "       [18, 27, 27, 16],\n",
       "       [14, 21, 21, 24]])"
      ]
     },
     "execution_count": 242,
     "metadata": {
      "tags": []
     },
     "output_type": "execute_result"
    }
   ],
   "source": [
    "#Multiplicacion\n",
    "w*v"
   ]
  },
  {
   "cell_type": "code",
   "execution_count": 243,
   "metadata": {
    "colab": {
     "base_uri": "https://localhost:8080/",
     "height": 84
    },
    "colab_type": "code",
    "id": "hQ6AbgVdh2k2",
    "outputId": "8d56c6fb-dfdc-4671-caf3-dd8fb0d068d1"
   },
   "outputs": [
    {
     "data": {
      "text/plain": [
       "array([[    4, 19683,    27, 16384],\n",
       "       [  256,  2187,    27,  1024],\n",
       "       [  512, 19683, 19683,   256],\n",
       "       [  128,  2187,  2187,  4096]])"
      ]
     },
     "execution_count": 243,
     "metadata": {
      "tags": []
     },
     "output_type": "execute_result"
    }
   ],
   "source": [
    "#exponenciacion\n",
    "w**v"
   ]
  },
  {
   "cell_type": "markdown",
   "metadata": {
    "colab_type": "text",
    "id": "omVToYxnpeYm"
   },
   "source": [
    "## Ufunctions "
   ]
  },
  {
   "cell_type": "markdown",
   "metadata": {
    "colab_type": "text",
    "id": "thRPhox9qM_t"
   },
   "source": [
    "algunos ejemplso de Ufunctions \n"
   ]
  },
  {
   "cell_type": "code",
   "execution_count": 0,
   "metadata": {
    "colab": {},
    "colab_type": "code",
    "id": "4MV07gA6j3qf"
   },
   "outputs": [],
   "source": [
    "#definamos dos arreglos 1D con numeros aleatorios\n",
    "v = np.random.random(10)"
   ]
  },
  {
   "cell_type": "code",
   "execution_count": 17,
   "metadata": {
    "colab": {
     "base_uri": "https://localhost:8080/",
     "height": 34
    },
    "colab_type": "code",
    "id": "IGuxqghXnJ-1",
    "outputId": "ff82ffa4-7de1-4ff7-b8e5-361e442d48db"
   },
   "outputs": [
    {
     "data": {
      "text/plain": [
       "6.147133217665829"
      ]
     },
     "execution_count": 17,
     "metadata": {
      "tags": []
     },
     "output_type": "execute_result"
    }
   ],
   "source": [
    "#sumar las componenetes de un arreglo\n",
    "np.sum(v)"
   ]
  },
  {
   "cell_type": "code",
   "execution_count": 21,
   "metadata": {
    "colab": {
     "base_uri": "https://localhost:8080/",
     "height": 50
    },
    "colab_type": "code",
    "id": "Mvl6dSR2nJ8z",
    "outputId": "163b07ba-3151-453c-d489-7e2791f8a078"
   },
   "outputs": [
    {
     "data": {
      "text/plain": [
       "array([0.47477787, 0.63835152, 0.01992436, 0.81485272, 0.63790557,\n",
       "       0.41127137, 0.78796114, 0.55904736, 0.79741786, 0.43344421])"
      ]
     },
     "execution_count": 21,
     "metadata": {
      "tags": []
     },
     "output_type": "execute_result"
    }
   ],
   "source": [
    "#funciones trigonometricas\n",
    "np.sin(v)"
   ]
  },
  {
   "cell_type": "code",
   "execution_count": 22,
   "metadata": {
    "colab": {
     "base_uri": "https://localhost:8080/",
     "height": 50
    },
    "colab_type": "code",
    "id": "3de_OLZynJ51",
    "outputId": "47e023c0-627d-493b-ace3-072be6ecf073"
   },
   "outputs": [
    {
     "data": {
      "text/plain": [
       "array([1.64002522, 1.99841579, 1.02012552, 2.59211741, 1.99725865,\n",
       "       1.52782997, 2.47809627, 1.80983629, 2.51683941, 1.56566581])"
      ]
     },
     "execution_count": 22,
     "metadata": {
      "tags": []
     },
     "output_type": "execute_result"
    }
   ],
   "source": [
    "#exponencial\n",
    "np.exp(v)"
   ]
  },
  {
   "cell_type": "code",
   "execution_count": 23,
   "metadata": {
    "colab": {
     "base_uri": "https://localhost:8080/",
     "height": 67
    },
    "colab_type": "code",
    "id": "SDCTycGaoXkt",
    "outputId": "a4c4fa5b-b88e-4038-db85-4d2fa905ff48"
   },
   "outputs": [
    {
     "data": {
      "text/plain": [
       "array([2.44739590e-01, 4.79355114e-01, 3.97032577e-04, 9.07208771e-01,\n",
       "       4.78553430e-01, 1.79647475e-01, 8.23539248e-01, 3.51929419e-01,\n",
       "       8.51936219e-01, 2.00982907e-01])"
      ]
     },
     "execution_count": 23,
     "metadata": {
      "tags": []
     },
     "output_type": "execute_result"
    }
   ],
   "source": [
    "#multiplicacion\n",
    "np.multiply(v,v)"
   ]
  },
  {
   "cell_type": "code",
   "execution_count": 24,
   "metadata": {
    "colab": {
     "base_uri": "https://localhost:8080/",
     "height": 34
    },
    "colab_type": "code",
    "id": "08ik2h3Brksh",
    "outputId": "bf2fd84a-5d49-4bfd-cc00-02c778aafa45"
   },
   "outputs": [
    {
     "data": {
      "text/plain": [
       "0.6147133217665829"
      ]
     },
     "execution_count": 24,
     "metadata": {
      "tags": []
     },
     "output_type": "execute_result"
    }
   ],
   "source": [
    "#media \n",
    "np.mean(v)"
   ]
  },
  {
   "cell_type": "code",
   "execution_count": 25,
   "metadata": {
    "colab": {
     "base_uri": "https://localhost:8080/",
     "height": 34
    },
    "colab_type": "code",
    "id": "RXgOunzMrko_",
    "outputId": "892d21bc-8024-44cc-8b16-86c24aaad7f2"
   },
   "outputs": [
    {
     "data": {
      "text/plain": [
       "0.2719493565316493"
      ]
     },
     "execution_count": 25,
     "metadata": {
      "tags": []
     },
     "output_type": "execute_result"
    }
   ],
   "source": [
    "#desviacion estandar \n",
    "np.std(v)"
   ]
  },
  {
   "cell_type": "markdown",
   "metadata": {
    "colab_type": "text",
    "id": "JQXcwRCllGpT"
   },
   "source": [
    "## Ejercicios"
   ]
  },
  {
   "cell_type": "markdown",
   "metadata": {
    "colab_type": "text",
    "id": "aBifb82zlJvO"
   },
   "source": [
    "Para los siguientes ejercicios concidere el suguiente conjunto de datos"
   ]
  },
  {
   "cell_type": "code",
   "execution_count": 0,
   "metadata": {
    "colab": {},
    "colab_type": "code",
    "id": "xt1iuYG0kQIf"
   },
   "outputs": [],
   "source": [
    "#librearia que contiene el conjunto de tados llamados iris\n",
    "from sklearn.datasets import load_iris"
   ]
  },
  {
   "cell_type": "code",
   "execution_count": 0,
   "metadata": {
    "colab": {},
    "colab_type": "code",
    "id": "USYNRIezldIg"
   },
   "outputs": [],
   "source": [
    "#utilizamos la funcion load_iris() para cargar los datos\n",
    "dataset = load_iris()"
   ]
  },
  {
   "cell_type": "code",
   "execution_count": 5,
   "metadata": {
    "colab": {
     "base_uri": "https://localhost:8080/",
     "height": 34
    },
    "colab_type": "code",
    "id": "sayJKGdklrbM",
    "outputId": "93009bf9-938b-46e0-ed35-b2d08a776e83"
   },
   "outputs": [
    {
     "data": {
      "text/plain": [
       "dict_keys(['data', 'target', 'target_names', 'DESCR', 'feature_names', 'filename'])"
      ]
     },
     "execution_count": 5,
     "metadata": {
      "tags": []
     },
     "output_type": "execute_result"
    }
   ],
   "source": [
    "#Inspecciones un poco los datos , tenga encuenta que los datos vienen en forma de diccionario\n",
    "dataset.keys()"
   ]
  },
  {
   "cell_type": "code",
   "execution_count": 0,
   "metadata": {
    "colab": {},
    "colab_type": "code",
    "id": "DrcxpC_Cl2Jk"
   },
   "outputs": [],
   "source": [
    "#veamos la descripcion del data set\n",
    "dataset['DESCR']"
   ]
  },
  {
   "cell_type": "code",
   "execution_count": 6,
   "metadata": {
    "colab": {
     "base_uri": "https://localhost:8080/",
     "height": 84
    },
    "colab_type": "code",
    "id": "5tRpxT0umvYn",
    "outputId": "33e7e6b3-edd9-4e24-aa28-aafc6d28a4a8"
   },
   "outputs": [
    {
     "data": {
      "text/plain": [
       "['sepal length (cm)',\n",
       " 'sepal width (cm)',\n",
       " 'petal length (cm)',\n",
       " 'petal width (cm)']"
      ]
     },
     "execution_count": 6,
     "metadata": {
      "tags": []
     },
     "output_type": "execute_result"
    }
   ],
   "source": [
    "#veamos el nombre de las caracteristicas\n",
    "dataset['feature_names']"
   ]
  },
  {
   "cell_type": "code",
   "execution_count": 7,
   "metadata": {
    "colab": {
     "base_uri": "https://localhost:8080/",
     "height": 34
    },
    "colab_type": "code",
    "id": "vDSWWLRLWJQJ",
    "outputId": "211cdd3c-aa82-4104-a7cf-68a58cf48b71"
   },
   "outputs": [
    {
     "data": {
      "text/plain": [
       "'/usr/local/lib/python3.6/dist-packages/sklearn/datasets/data/iris.csv'"
      ]
     },
     "execution_count": 7,
     "metadata": {
      "tags": []
     },
     "output_type": "execute_result"
    }
   ],
   "source": [
    "#veamos las etiquetas\n",
    "dataset['filename']"
   ]
  },
  {
   "cell_type": "code",
   "execution_count": 0,
   "metadata": {
    "colab": {},
    "colab_type": "code",
    "id": "s0iqQF0Amb3b"
   },
   "outputs": [],
   "source": [
    "#separemos los datos\n",
    "X = dataset['data'][: , [0,1]]"
   ]
  },
  {
   "cell_type": "markdown",
   "metadata": {
    "colab_type": "text",
    "id": "ERETRvgbnCDi"
   },
   "source": [
    "1) Obtenga el valor maximo y el valor minimo de la matriz X, luego obtenga el valor maximo y minimo de cada una de las columnas (esto es cada una de las caracteristicas)"
   ]
  },
  {
   "cell_type": "code",
   "execution_count": 0,
   "metadata": {
    "colab": {},
    "colab_type": "code",
    "id": "yabba179moAZ"
   },
   "outputs": [],
   "source": []
  },
  {
   "cell_type": "markdown",
   "metadata": {
    "colab_type": "text",
    "id": "P1ccdlZnnxkJ"
   },
   "source": [
    "2) Obtenga el valor medio y la desviacion estandar para cada una de las caracteristicas"
   ]
  },
  {
   "cell_type": "code",
   "execution_count": 0,
   "metadata": {
    "colab": {},
    "colab_type": "code",
    "id": "hIuE-Z1-niYJ"
   },
   "outputs": [],
   "source": []
  },
  {
   "cell_type": "markdown",
   "metadata": {
    "colab_type": "text",
    "id": "534SxP22odDp"
   },
   "source": [
    "3) Para cada una de las caracteristica extraiga los valores que son mayores a sus medias"
   ]
  },
  {
   "cell_type": "code",
   "execution_count": 0,
   "metadata": {
    "colab": {},
    "colab_type": "code",
    "id": "zRe8DXy_n67A"
   },
   "outputs": [],
   "source": []
  },
  {
   "cell_type": "markdown",
   "metadata": {
    "colab_type": "text",
    "id": "YKgmhCoorV1y"
   },
   "source": [
    "4) Una operacion muy frecuente cuando se trabaja con modelos de machinlearning es la estandarizacion de los datos (luego veremos esto a fonto) la cual esta definida por \n",
    "\n",
    "\\begin{equation}\n",
    "\\frac{x-\\mu}{s}\n",
    "\\end{equation}\n",
    "\n",
    "$\\mu$ es la media y s es la desviacion estandar.\n",
    "\n",
    "cree una funcion que haga esta operacion sobre arreglos 1D de numpy y luego apliquela sobre cada una de las caracteristicas de nuestro datos"
   ]
  }
 ],
 "metadata": {
  "colab": {
   "collapsed_sections": [
    "ten4_fwwJDNH",
    "dkVuRXlST-4I",
    "pWOL0z5heRUL",
    "0Uqwa-cPf2Sc",
    "hCr8iKqsgjTt",
    "D1vN2jWzYYzi",
    "lVQa7ZLXhYaS",
    "O-aeg8avhiZo",
    "MuPviq5RsIZ-",
    "omVToYxnpeYm",
    "JQXcwRCllGpT"
   ],
   "name": "clase_2.ipynb",
   "provenance": []
  },
  "kernelspec": {
   "display_name": "Python 3",
   "language": "python",
   "name": "python3"
  },
  "language_info": {
   "codemirror_mode": {
    "name": "ipython",
    "version": 3
   },
   "file_extension": ".py",
   "mimetype": "text/x-python",
   "name": "python",
   "nbconvert_exporter": "python",
   "pygments_lexer": "ipython3",
   "version": "3.8.10"
  }
 },
 "nbformat": 4,
 "nbformat_minor": 1
}
