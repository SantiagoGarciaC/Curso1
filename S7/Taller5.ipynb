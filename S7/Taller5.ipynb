{
  "nbformat": 4,
  "nbformat_minor": 0,
  "metadata": {
    "colab": {
      "provenance": [],
      "authorship_tag": "ABX9TyM1G5aIxgWFTHlUCI66uvfs",
      "include_colab_link": true
    },
    "kernelspec": {
      "name": "python3",
      "display_name": "Python 3"
    },
    "language_info": {
      "name": "python"
    }
  },
  "cells": [
    {
      "cell_type": "markdown",
      "metadata": {
        "id": "view-in-github",
        "colab_type": "text"
      },
      "source": [
        "<a href=\"https://colab.research.google.com/github/darioblandon/Curso1/blob/main/S7/Taller5.ipynb\" target=\"_parent\"><img src=\"https://colab.research.google.com/assets/colab-badge.svg\" alt=\"Open In Colab\"/></a>"
      ]
    },
    {
      "cell_type": "markdown",
      "source": [
        "# 5. Taller SVM"
      ],
      "metadata": {
        "id": "udy1dT8ruL2P"
      }
    },
    {
      "cell_type": "markdown",
      "metadata": {
        "id": "_9l_XZ0zxJio"
      },
      "source": [
        "Los datos que vamos a analizar consisten en imagenes de tamaño pixeles 8x8, que contienen los dígitos del 0 al 9. El dataset, llamado *digits*, se encuentra disponible en la librería scikit-learn y consiste en 1797 imágenes mas su clasificación correspondiente. Las caráteristicas correponderán entonces a el valor de cada pixel en una escala de grises de 0-16, siendo 0 blanco y 16 negro. En este problema nos vamos a enfrentar entonces  a una clasificación multiclase.\n",
        "\n",
        "Classes:\t10 \\\\\n",
        "Samples per class:\t~180 \\\\\n",
        "Samples total:\t1797 \\\\\n",
        "Dimensionality:\t64 \\\\\n",
        "Features:\tintegers 0-16"
      ]
    },
    {
      "cell_type": "code",
      "metadata": {
        "id": "OXsULHqvyXbY"
      },
      "source": [
        "import matplotlib.pyplot as plt\n",
        "import numpy as np\n",
        "\n",
        "from sklearn import datasets, svm, metrics\n",
        "\n",
        "# The digits dataset\n",
        "digits = datasets.load_digits()"
      ],
      "execution_count": null,
      "outputs": []
    },
    {
      "cell_type": "markdown",
      "metadata": {
        "id": "OOcwibRYd2xI"
      },
      "source": [
        "**1.** Invoque el método `digits.DESCR` para ver la descripción del dataset."
      ]
    },
    {
      "cell_type": "markdown",
      "metadata": {
        "id": "Ap9HZXH5dSdI"
      },
      "source": [
        "**2.** Explore los demás métodos que tiene el dataset de digits y su contenido."
      ]
    },
    {
      "cell_type": "markdown",
      "metadata": {
        "id": "fA4gw1o8fURa"
      },
      "source": [
        "**3.** Use el comando de matplotlib `plt.imshow()` para visualizar la primera imagen. Note que para tener una visualización correcta debe estar en escala de grises."
      ]
    },
    {
      "cell_type": "markdown",
      "metadata": {
        "id": "yaq-86xN0m3i"
      },
      "source": [
        "Antes de realizar la clasificación, debemos convertir las matrices en vectores, de tal forma que cada una de las entradas de los vectores corresponda a una característica.\n",
        "\n",
        "**4.** Utilize el método correspondiente para convertir las imagenes que corresponden a matrices 8x8 en vectores con tamaño 64."
      ]
    },
    {
      "cell_type": "markdown",
      "metadata": {
        "id": "d10vLrZs0BQ2"
      },
      "source": [
        "**5.** Como primera aproximación, implemente un clasificador de máquina de soporte vectorial (SVC) con la configuración que trae por defecto, es decir, $C=1$, kernel=`'rbf'` y $\\gamma=$`'auto'`."
      ]
    },
    {
      "cell_type": "markdown",
      "metadata": {
        "id": "RNXD-yvdjuh4"
      },
      "source": [
        "**6.** Utilice la primera mitad de los datos para entrenar el modelo o la otra mitad para realizar el test. Realice el entrenamiento del modelo y a partir de este calcule los valores predichos para el set de pruebas."
      ]
    },
    {
      "cell_type": "markdown",
      "metadata": {
        "id": "W9zOjA8-lr-M"
      },
      "source": [
        "Ahora, usando las métricas para clasificación, analicemos la calidad de los resultados obtenidos."
      ]
    },
    {
      "cell_type": "markdown",
      "metadata": {
        "id": "halanELmChku"
      },
      "source": [
        "**7.** Realice una curva de validación para valores de $\\gamma$ entre $10^{-6}$ y $10^{-1}$. Encuentre el valor de $\\gamma$ que entrega el modelo9 óptimo. *Nota*: para poder visualizar los datos use escala logaritmica. "
      ]
    },
    {
      "cell_type": "markdown",
      "metadata": {
        "id": "QlFjE-DgT9AH"
      },
      "source": [
        "Vemos que para $\\gamma=10^{-3}$ se obtiene el de mayor score de prueba y con un alto score de entrenamiento. Lo cual nos indica que para este conjunto de parámetros hemos obtenido el modelo optimo en dicho valor de $\\gamma$. \n",
        "\n",
        "**8.** Realice nuevamente la clasificación usando este nuevo modelo y compare con los  resultados obtenidos en el punto 6."
      ]
    },
    {
      "cell_type": "markdown",
      "metadata": {
        "id": "olRbl2cNDxAT"
      },
      "source": [
        "**9.** Construya un resultado en que se entreguen 4 imagenes del dataset, junto con el valor de la predicción y el valor real al que corresponde. "
      ]
    },
    {
      "cell_type": "markdown",
      "metadata": {
        "id": "2E7nz9j-j6a9"
      },
      "source": [
        "**10.** Con base en los resultados, ¿Qué podemos decir de los conjuntos de prueba y entrenamiento que se usaron en el punto 6? ¿Cuál es la partición óptima de los datatset de entrenamiento y prueba?"
      ]
    }
  ]
}