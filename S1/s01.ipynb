{
 "cells": [
  {
   "cell_type": "markdown",
   "metadata": {
    "colab_type": "text",
    "id": "view-in-github"
   },
   "source": [
    "<a href=\"https://colab.research.google.com/github/diplomado-bigdata-machinelearning-udea/Curso1/blob/master/s01/s01.ipynb\" target=\"_parent\"><img src=\"https://colab.research.google.com/assets/colab-badge.svg\" alt=\"Open In Colab\"/></a>"
   ]
  },
  {
   "cell_type": "markdown",
   "metadata": {
    "colab_type": "text",
    "id": "8Eqn3RtteZei"
   },
   "source": [
    "\n",
    "<p><img alt=\"Colaboratory logo\" height=\"140px\" src=\"https://upload.wikimedia.org/wikipedia/commons/archive/f/fb/20161010213812%21Escudo-UdeA.svg\" align=\"left\" hspace=\"10px\" vspace=\"0px\"></p>\n",
    "\n",
    "<h1> Diplomado de Análisis de datos y Machine Learning en Python</h1>\n",
    "\n",
    "\n",
    "El presente diplomado hace parte del centro de Big Data de la facultad de ciencias exactas y naturales (FCEN) de la Universidad de Antioquia.\n"
   ]
  },
  {
   "cell_type": "markdown",
   "metadata": {
    "colab_type": "text",
    "id": "pvauUV6iVLjC"
   },
   "source": [
    "# Ejemplos"
   ]
  },
  {
   "cell_type": "markdown",
   "metadata": {
    "colab_type": "text",
    "id": "xjmNJPwuU884"
   },
   "source": [
    "* Uso de Machine Learning para desarrollar chatbots que faciliten el proceso de comunicación entre las compañías y los usuarios: En Colombia, grandes compañías han implementado sus chatbot, tales como, Bancolombia con Tabot, Avianca con Carla y Sura con Clara (https://www.dinero.com/edicion-impresa/tecnologia/articulo/uso-de-los-chatbots-para-ventas-y-atencion-al-cliente/263970). \n",
    "\n",
    "* Análisis de datos aplicado al deporte: Ahora los datos son de gran ayuda para los entrenadores en diferentes deportes, desde el futbol, donde los actuales campeones de la champions league, el Liverpool, son una muestra de ello (https://www.nytimes.com/es/2019/05/29/liverpool-champions/amp/) hasta el ciclismo (https://www.researchgate.net/publication/26815646_The_Analysis_and_Utilization_of_Cycling_Training_Data). \n",
    "\n",
    "* Uso de métodos de Inteligencia Artificial (AI) en imagenes aplicadas en medicina: El MIT desarrolló una herramienta para la detección temprana de cancer de mama (https://techcrunch.com/2019/06/26/mit-ai-tool-can-predict-breast-cancer-up-to-5-years-early-works-equally-well-for-white-and-black-patients/)\n"
   ]
  },
  {
   "cell_type": "markdown",
   "metadata": {
    "colab_type": "text",
    "id": "KvGkmbJKmJgO"
   },
   "source": [
    "<p><a name=\"contents\"></a></p>\n",
    "\n",
    "# Contenido Sesión 1\n",
    "\n",
    "- <a href=\"#colabIntro\">1. Introducción al Colaboratory de Google</a><br>\n",
    "- <a href=\"#pythonIntro\">2. Introducción a Python</a><br>\n",
    "\n"
   ]
  },
  {
   "cell_type": "markdown",
   "metadata": {
    "colab_type": "text",
    "id": "fwCSPQiBuLQH"
   },
   "source": [
    "<p><a name=\"colabIntro\"></a></p>\n",
    "\n",
    "# 1) Introducción a Google Colaboratory\n",
    "\n",
    "[[Contenidos]](#contents)\n",
    "\n",
    "Este documento que está leyendo es un [Notebook de Jupyter](https://jupyter.org/), almacenado en el Colaboratory de Google. No es una página estática, se trata de un ambiente interactivo en el cual puede ejecutar scrips en Python, además de otros programas.\n",
    "\n",
    "Por ejemplo, a continuación se muestra una **celda de código** con un pequeño script de Python que calcula un value, lo almacena en una variable y lo imprime en pantalla:"
   ]
  },
  {
   "cell_type": "code",
   "execution_count": null,
   "metadata": {
    "colab": {
     "base_uri": "https://localhost:8080/",
     "height": 34
    },
    "colab_type": "code",
    "id": "xlIqRThkfinx",
    "outputId": "ceaea0e6-1c6f-47ea-dfc1-0556c8234369"
   },
   "outputs": [
    {
     "name": "stdout",
     "output_type": "stream",
     "text": [
      "31536000\n"
     ]
    }
   ],
   "source": [
    "# A continuación se realiza un cálculo sencillo del número de segundos en un año, se almacena dicho cálculo en la variable secs_per_year y se imprime en pantalla\n",
    "\n",
    "secs_per_year=365*24*3600\n",
    "\n",
    "print(secs_per_year)"
   ]
  },
  {
   "cell_type": "markdown",
   "metadata": {
    "colab_type": "text",
    "id": "F5cfOYAGg9XF"
   },
   "source": [
    "Para ejecutar el anterior código, se debe seleccionar haciendo click en la celda, y se debe hacer click el botón \"play\" a la izquierda de la celda; también puede usar los atajos de teclado \"Shift/Ctrl+Enter\".\n",
    "\n",
    "Todas las variables son almacenadas de forma global, de tal manera que se puede usar y modificar en celdas diferentes. En los dos siguientes ejemplos se muestran modificaciones ejecutadas sobre la variable secs_per_year"
   ]
  },
  {
   "cell_type": "code",
   "execution_count": null,
   "metadata": {
    "colab": {
     "base_uri": "https://localhost:8080/",
     "height": 51
    },
    "colab_type": "code",
    "id": "3ZCDRslqkkev",
    "outputId": "25aa1a80-1db0-45be-a19d-fe339b147c5b"
   },
   "outputs": [
    {
     "name": "stdout",
     "output_type": "stream",
     "text": [
      "Valor de la variable inicial 31536000\n",
      "Valor de la variable modificado 15768000.0\n"
     ]
    }
   ],
   "source": [
    "print(\"Valor de la variable inicial\",secs_per_year)\n",
    "\n",
    "#Modificación 1 de la variable sec_per_year\n",
    "\n",
    "secs_per_year=secs_per_year/2;\n",
    "\n",
    "print(\"Valor de la variable modificado\", secs_per_year)"
   ]
  },
  {
   "cell_type": "markdown",
   "metadata": {
    "colab_type": "text",
    "id": "yotKpVH2sWGL"
   },
   "source": [
    "## More Resources\n",
    "\n",
    "Learn how to make the most of Python, Jupyter, Colaboratory, and related tools with these resources:\n",
    "\n",
    "### Working with Notebooks in Colaboratory\n",
    "- [Overview of Colaboratory](/notebooks/basic_features_overview.ipynb)\n",
    "- [Guide to Markdown](/notebooks/markdown_guide.ipynb)\n",
    "- [Importing libraries and installing dependencies](/notebooks/snippets/importing_libraries.ipynb)\n",
    "- [Saving and loading notebooks in GitHub](https://colab.research.google.com/github/googlecolab/colabtools/blob/master/notebooks/colab-github-demo.ipynb)\n",
    "- [Interactive forms](/notebooks/forms.ipynb)\n",
    "- [Interactive widgets](/notebooks/widgets.ipynb)\n",
    "\n",
    "### Working with Data\n",
    "- [Loading data: Drive, Sheets, and Google Cloud Storage](/notebooks/io.ipynb) \n",
    "- [Charts: visualizing data](/notebooks/charts.ipynb)\n",
    "- [Getting started with BigQuery](/notebooks/bigquery.ipynb)\n",
    "\n",
    "### Machine Learning Crash Course\n",
    "These are a few of the notebooks from Google's online Machine Learning course. See the [full course website](https://developers.google.com/machine-learning/crash-course/) for more.\n",
    "- [Intro to Pandas](/notebooks/mlcc/intro_to_pandas.ipynb)\n",
    "- [Tensorflow concepts](/notebooks/mlcc/tensorflow_programming_concepts.ipynb)\n",
    "- [First steps with TensorFlow](/notebooks/mlcc/first_steps_with_tensor_flow.ipynb)\n",
    "- [Intro to neural nets](/notebooks/mlcc/intro_to_neural_nets.ipynb)\n",
    "- [Intro to sparse data and embeddings](/notebooks/mlcc/intro_to_sparse_data_and_embeddings.ipynb)\n",
    "\n",
    "### Using Accelerated Hardware\n",
    "- [TensorFlow with GPUs](/notebooks/gpu.ipynb)\n",
    "- [TensorFlow with TPUs](/notebooks/tpu.ipynb)"
   ]
  },
  {
   "cell_type": "markdown",
   "metadata": {
    "colab_type": "text",
    "id": "PT5cUO0od2BT"
   },
   "source": [
    "<p><a name=\"pythonIntro\"></a></p>\n",
    "\n",
    "# 2) Introducción a Python\n",
    "\n",
    "[[Contenidos]](#contents)\n",
    "\n",
    "El objetivo de la presente sección es el de suministrar al lector una breve introducción al lenguaje Python, y ayudar a los principiantes a familiarizarse con dicho lenguaje."
   ]
  },
  {
   "cell_type": "markdown",
   "metadata": {
    "colab_type": "text",
    "id": "cwM2hsafqGeb"
   },
   "source": [
    "<p><a name=\"sections\"></a></p>\n",
    "\n",
    "#Secciones\n",
    "\n",
    "- <a href=\"#mods\">2.1. Módulos</a><br>\n",
    "- <a href=\"#ayuda\">2.2. Ayudas y descripciones</a><br>\n",
    "- <a href=\"#vars\">2.3. Variables y tipos</a><br>\n",
    " - <a href=\"#syms\">2.3.1. Nombres de variables</a><br>\n",
    "  - <a href=\"#asign\">2.3.2. Asignación</a><br>\n",
    "  - <a href=\"#ftypes\">2.3.3. Tipos fundamentales</a><br>\n",
    "- <a href=\"#ops&comps\">2.4. Operadores y comparaciones</a><br>\n",
    " - <a href=\"#mscut\">2.4.1. Atajos de operaciones matemáticas y asignaciones</a><br>\n",
    "- <a href=\"#sltd\">2.5. Strings, Listas y diccionarios</a><br>\n",
    " - <a href=\"#strings\">2.5.1. Strings</a><br>\n",
    " - <a href=\"#alist\">2.5.2. List</a><br>\n",
    " - <a href=\"#tuples\">2.5.3. Tuplas</a><br>\n",
    " - <a href=\"#diccionarios\">2.5.4. Diccionarios</a><br>\n",
    "- <a href=\"#indent\">2.6. Intentación</a><br>\n",
    "- <a href=\"#controlFlow\">2.7. Control Flow</a><br>\n",
    " - <a href=\"#cond\">2.7.1. Sentencias condicionales: if, elif, else </a><br>\n",
    "- <a href=\"#iter\">2.8. Ciclos lógicos </a><br>\n",
    " - <a href=\"#cicl\">2.8.1 Ciclos for y while </a><br>\n",
    " - <a href=\"#contr\">2.8.2 Sentencias de control de bucles</a><br>\n",
    "- <a href=\"#func\">2.9. Funciones y clases </a><br>\n",
    " - <a href=\"#funci\">2.9.1. Funciones</a><br>\n",
    " - <a href=\"#class\">2.9.2. Clases </a><br>\n",
    "- <a href=\"#inout\">2.10. Archivos de entrada y salida (I/O) </a><br>\n",
    " - <a href=\"#lecte\">2.10.1. Lectura de entrada de teclado </a><br>\n",
    " - <a href=\"#apyci\">2.10.2. Apertura y cierre de archivos</a><br>\n",
    " - <a href=\"#leyes\">2.10.3. Leer y escribir archivos </a><br>\n",
    " - <a href=\"#subar\">2.10.4. Subir y leer archivos </a><br>\n",
    " - <a href=\"#des\">2.10.5. Descargar archivos en el sistema local </a><br>\n",
    " - <a href=\"#goodr\">2.10.6. Google drive: Paquete Pydrive </a><br>\n",
    " - <a href=\"#git\">2.10.7. Github </a><br>"
   ]
  },
  {
   "cell_type": "markdown",
   "metadata": {
    "colab_type": "text",
    "id": "4nNpYw-fkCzu"
   },
   "source": [
    "<p><a name=\"mods\"></a></p>\n",
    "\n",
    "##2.1. Módulos\n",
    "\n",
    "[[Secciones]](#sections)\n",
    "\n",
    "La mayoria de funcionalidades en Python estan proporcionadas por los módulos. Para poder usar un módulo en un programa de Python lo primero que se debe realizar es importarlo mediante la sentencia **import**. Por ejemplo, para importa el módulo *math*, el cual contiene gran variedad de funciones matemáticas, podemos hacer lo siguiente"
   ]
  },
  {
   "cell_type": "code",
   "execution_count": null,
   "metadata": {
    "colab": {},
    "colab_type": "code",
    "id": "ZE_1fo7exqpJ"
   },
   "outputs": [],
   "source": [
    "import math"
   ]
  },
  {
   "cell_type": "markdown",
   "metadata": {
    "colab_type": "text",
    "id": "GE-bHIc13zbr"
   },
   "source": [
    "La línea de código anterior implica la importación de todo el módulo, haciéndolo disponible para su uso posterior dentro del programa. Por ejemplo, podemos usar funciones triconométricas para calcular algún valor y almacenarlo en una variable:"
   ]
  },
  {
   "cell_type": "code",
   "execution_count": null,
   "metadata": {
    "colab": {
     "base_uri": "https://localhost:8080/",
     "height": 34
    },
    "colab_type": "code",
    "id": "XitBm17m5a83",
    "outputId": "30099e34-ae94-4671-969f-a4bfdae428de"
   },
   "outputs": [
    {
     "data": {
      "text/plain": [
       "1.0"
      ]
     },
     "execution_count": 4,
     "metadata": {
      "tags": []
     },
     "output_type": "execute_result"
    }
   ],
   "source": [
    "x = math.cos(2*math.pi)\n",
    "x"
   ]
  },
  {
   "cell_type": "markdown",
   "metadata": {
    "colab_type": "text",
    "id": "HCVT2oSL5t-i"
   },
   "source": [
    "En lugar de importar una librería completa, lo que puede llevar a un tiempo de ejecución o un consumo de memoria innecesario, podemos escoger importar unas cuantas funciones del módulo haciendo explicito cuales de ellas queremos importar. Por ejemplo, podemos elegir importar solo las funciones $cos$ y el valor de $\\pi$:"
   ]
  },
  {
   "cell_type": "code",
   "execution_count": null,
   "metadata": {
    "colab": {
     "base_uri": "https://localhost:8080/",
     "height": 34
    },
    "colab_type": "code",
    "id": "ByqZG1n-7cRB",
    "outputId": "0353167c-06bf-448e-e18b-e4488ee86afb"
   },
   "outputs": [
    {
     "data": {
      "text/plain": [
       "1.0"
      ]
     },
     "execution_count": 5,
     "metadata": {
      "tags": []
     },
     "output_type": "execute_result"
    }
   ],
   "source": [
    "from math import cos, pi\n",
    "\n",
    "x = cos(2*pi)\n",
    "x"
   ]
  },
  {
   "cell_type": "markdown",
   "metadata": {
    "colab_type": "text",
    "id": "3sg_iNHt710g"
   },
   "source": [
    "También es posible asignarle un nombre de acceso a los modolus o símbolos que se importan mediante el uso de **as**:"
   ]
  },
  {
   "cell_type": "code",
   "execution_count": null,
   "metadata": {
    "colab": {
     "base_uri": "https://localhost:8080/",
     "height": 34
    },
    "colab_type": "code",
    "id": "0iwmV-jb8yW_",
    "outputId": "acd12648-b2f8-4bf6-a817-2eb8d779e1b5"
   },
   "outputs": [
    {
     "data": {
      "text/plain": [
       "180.0"
      ]
     },
     "execution_count": 6,
     "metadata": {
      "tags": []
     },
     "output_type": "execute_result"
    }
   ],
   "source": [
    "import numpy as np\n",
    "from math import pi as number_pi\n",
    "\n",
    "#A continuación, convertímos el número pi de radianes a grados.\n",
    "\n",
    "x = np.rad2deg(number_pi)\n",
    "x"
   ]
  },
  {
   "cell_type": "markdown",
   "metadata": {
    "colab_type": "text",
    "id": "YeHNWODgmKvV"
   },
   "source": [
    "<p><a name=\"ayuda\"></a></p>\n",
    "\n",
    "## 2.2. Ayudas y descripciones\n",
    "\n",
    "[[Secciones]](#sections)\n",
    "\n",
    "Mediante el uso de la función $help$, se puede obtener una descripción de casi todas las funciones. Por ejemplo, para obtener una descripción de la funcion $log$ de la libreria $math$ ejecutamos el siguiente comando:"
   ]
  },
  {
   "cell_type": "code",
   "execution_count": null,
   "metadata": {
    "colab": {
     "base_uri": "https://localhost:8080/",
     "height": 153
    },
    "colab_type": "code",
    "id": "x2g4OJvvmsNv",
    "outputId": "bcf7a783-d5dd-4407-925d-13d6a6aaae0c"
   },
   "outputs": [
    {
     "name": "stdout",
     "output_type": "stream",
     "text": [
      "Help on built-in function log in module math:\n",
      "\n",
      "log(...)\n",
      "    log(x[, base])\n",
      "    \n",
      "    Return the logarithm of x to the given base.\n",
      "    If the base not specified, returns the natural logarithm (base e) of x.\n",
      "\n"
     ]
    }
   ],
   "source": [
    "help(math.log)"
   ]
  },
  {
   "cell_type": "markdown",
   "metadata": {
    "colab_type": "text",
    "id": "6qb0g9MmQqVD"
   },
   "source": [
    "Tambien puede obtener la ayuda poniendo el sígno interrogante (?) al final de la expresión, así:"
   ]
  },
  {
   "cell_type": "code",
   "execution_count": null,
   "metadata": {
    "colab": {},
    "colab_type": "code",
    "id": "EZL2WjpUQYd3"
   },
   "outputs": [],
   "source": [
    "math.log?"
   ]
  },
  {
   "cell_type": "code",
   "execution_count": null,
   "metadata": {
    "colab": {
     "base_uri": "https://localhost:8080/",
     "height": 34
    },
    "colab_type": "code",
    "id": "5wPJ6DN2-6C1",
    "outputId": "3365ecaa-b46d-423c-a221-39c6daedda56"
   },
   "outputs": [
    {
     "data": {
      "text/plain": [
       "2.302585092994046"
      ]
     },
     "execution_count": 9,
     "metadata": {
      "tags": []
     },
     "output_type": "execute_result"
    }
   ],
   "source": [
    "math.log(10)"
   ]
  },
  {
   "cell_type": "code",
   "execution_count": null,
   "metadata": {
    "colab": {
     "base_uri": "https://localhost:8080/",
     "height": 34
    },
    "colab_type": "code",
    "id": "zrqIE3dZ_Ck-",
    "outputId": "8dd29307-b953-4307-d82e-123d6432d2e9"
   },
   "outputs": [
    {
     "data": {
      "text/plain": [
       "3.3219280948873626"
      ]
     },
     "execution_count": 10,
     "metadata": {
      "tags": []
     },
     "output_type": "execute_result"
    }
   ],
   "source": [
    "math.log(10,2)"
   ]
  },
  {
   "cell_type": "code",
   "execution_count": null,
   "metadata": {
    "colab": {
     "base_uri": "https://localhost:8080/",
     "height": 34
    },
    "colab_type": "code",
    "id": "emjiA8dH_FY3",
    "outputId": "eb49cc0c-089c-4289-b05d-395e60e1146f"
   },
   "outputs": [
    {
     "data": {
      "text/plain": [
       "1.0"
      ]
     },
     "execution_count": 11,
     "metadata": {
      "tags": []
     },
     "output_type": "execute_result"
    }
   ],
   "source": [
    "math.log(10,10)"
   ]
  },
  {
   "cell_type": "markdown",
   "metadata": {
    "colab_type": "text",
    "id": "4SdWFMpF_iyw"
   },
   "source": [
    "<p><a name=\"vars\"></a></p>\n",
    "\n",
    "## 2.3. Variables y tipos\n",
    "\n",
    "[[Secciones]](#sections)\n"
   ]
  },
  {
   "cell_type": "markdown",
   "metadata": {
    "colab_type": "text",
    "id": "OmG1xsWVBh3G"
   },
   "source": [
    "<p><a name=\"syms\"></a></p>\n",
    "\n",
    "### 2.3.1. Variables y tipos\n",
    "\n",
    "Los nombres de las variables en Python pueden contener caracteres alfanuméricos *a-z*, *A-Z*, *0-9* y algunos caracteres especiales como _. Los nombres de las variables deben comenzar con una letra. \n",
    "\n",
    "Por convención, los nombres de las variables comienzan con letras minúsculas, y los nombres de las Clases con letras mayúsculas.\n",
    "\n",
    "Adicionalmente, existe un número de palabras claves que no pueden ser usadas como nombres de variables. Estas palabras claves son:\n",
    "\n",
    "> `and, as, assert, break, class, continue, def, del, elif, else, except, exec, finally, for, from, global, if, import, in, is, lambda, not, or, pass, print, raise, return, try, while, with, yield`\n",
    "\n"
   ]
  },
  {
   "cell_type": "markdown",
   "metadata": {
    "colab_type": "text",
    "id": "0tOzwypQG20y"
   },
   "source": [
    "<p><a name=\"asign\"></a></p>\n",
    "\n",
    "### 2.3.2. Asignación.\n",
    "\n",
    "En Python, el operado de asignación es \"=\".  Python es un lenguaje de tipado dinámico, de tal forma que no es necesario asignarle un tipo a la variable cuando es creada.\n",
    "\n",
    "La asignación de un valor a una variable crea la variable. Por ejemplo:"
   ]
  },
  {
   "cell_type": "code",
   "execution_count": null,
   "metadata": {
    "colab": {},
    "colab_type": "code",
    "id": "65XTvJMTHH5w"
   },
   "outputs": [],
   "source": [
    "# asignación a una variable\n",
    "\n",
    "x = 1.0"
   ]
  },
  {
   "cell_type": "markdown",
   "metadata": {
    "colab_type": "text",
    "id": "eTOeTstfKVgJ"
   },
   "source": [
    "Aunque no se hizo explicito, la variable tiene un tipo asociado a ella. El tipo de la variable puede deducirse del valor que le fue asignado. También podemos consultar el tipo mediante la función `type`:"
   ]
  },
  {
   "cell_type": "code",
   "execution_count": null,
   "metadata": {
    "colab": {
     "base_uri": "https://localhost:8080/",
     "height": 34
    },
    "colab_type": "code",
    "id": "QTB-K6oxKnEK",
    "outputId": "769fa882-5f51-4496-c4cb-e499ff115de1"
   },
   "outputs": [
    {
     "data": {
      "text/plain": [
       "float"
      ]
     },
     "execution_count": 13,
     "metadata": {
      "tags": []
     },
     "output_type": "execute_result"
    }
   ],
   "source": [
    "type(x)"
   ]
  },
  {
   "cell_type": "markdown",
   "metadata": {
    "colab_type": "text",
    "id": "wjTTfD72Ktv5"
   },
   "source": [
    "Si asignamos a la variable un nuevo valor, su tipo puede cambiar:"
   ]
  },
  {
   "cell_type": "code",
   "execution_count": null,
   "metadata": {
    "colab": {
     "base_uri": "https://localhost:8080/",
     "height": 34
    },
    "colab_type": "code",
    "id": "SkbRDe3hKz78",
    "outputId": "5c756070-043c-405d-86c5-28a97769e6e1"
   },
   "outputs": [
    {
     "data": {
      "text/plain": [
       "int"
      ]
     },
     "execution_count": 14,
     "metadata": {
      "tags": []
     },
     "output_type": "execute_result"
    }
   ],
   "source": [
    "x = 1\n",
    "type(x)"
   ]
  },
  {
   "cell_type": "markdown",
   "metadata": {
    "colab_type": "text",
    "id": "VyawEMh7LDkv"
   },
   "source": [
    "Si intentamos usar una variable que no ha sido definida aun, obtenemos un error `NameError` (Nótese que usarémos en los notebooks los bloques `try/except` para tratar las excepciones, de tal forma que el notebook no se interrumpa). \n",
    "\n",
    "En el siguiente código, intentaremos usar la función `print` de tal forma que si ocurre la excepción `NameError`, se imprime un mensaje en pantalla; de lo contrario, se generará un error. Más adelante, en el presente notebook, se estudiará mas detalladamente el manejo de excepciones.\n",
    "\n",
    " "
   ]
  },
  {
   "cell_type": "code",
   "execution_count": null,
   "metadata": {
    "colab": {
     "base_uri": "https://localhost:8080/",
     "height": 34
    },
    "colab_type": "code",
    "id": "liKk4M_dLyfN",
    "outputId": "66840335-b6c3-42af-d578-2489d9b5beea"
   },
   "outputs": [
    {
     "name": "stdout",
     "output_type": "stream",
     "text": [
      "NameError name 'y' is not defined\n"
     ]
    }
   ],
   "source": [
    "try:\n",
    "    print(y)\n",
    "except(NameError) as err:\n",
    "    print(\"NameError\", err)\n",
    "else:\n",
    "    raise"
   ]
  },
  {
   "cell_type": "markdown",
   "metadata": {
    "colab_type": "text",
    "id": "DrrYSJFGNlTQ"
   },
   "source": [
    "<p><a name=\"ftypes\"></a></p>\n",
    "\n",
    "### 2.3.3. Tipos fundamentales.\n",
    "\n",
    "En Python, los tipos fundamentales son \n",
    "\n",
    "\n",
    "\n",
    "\n",
    "\n",
    "1.   Enteros (int).\n",
    "2.   Punto flotante (float).\n",
    "3.   Buleanos (boolean)\n",
    "4.   Cadena de caracteres (strings).\n",
    "\n",
    "Veamos algunos ejemplos de estos tipos:\n",
    "\n",
    "\n",
    "\n",
    "\n"
   ]
  },
  {
   "cell_type": "code",
   "execution_count": null,
   "metadata": {
    "colab": {
     "base_uri": "https://localhost:8080/",
     "height": 34
    },
    "colab_type": "code",
    "id": "AsH88KwXOjvT",
    "outputId": "fad1e845-1374-4945-c714-e030454c6125"
   },
   "outputs": [
    {
     "data": {
      "text/plain": [
       "int"
      ]
     },
     "execution_count": 16,
     "metadata": {
      "tags": []
     },
     "output_type": "execute_result"
    }
   ],
   "source": [
    "# integers\n",
    "\n",
    "x = 1\n",
    "type(x)"
   ]
  },
  {
   "cell_type": "code",
   "execution_count": null,
   "metadata": {
    "colab": {
     "base_uri": "https://localhost:8080/",
     "height": 34
    },
    "colab_type": "code",
    "id": "d0MOnaqlOtrc",
    "outputId": "60dbf26e-d4db-48c5-8cff-eb2db741b6ce"
   },
   "outputs": [
    {
     "data": {
      "text/plain": [
       "float"
      ]
     },
     "execution_count": 17,
     "metadata": {
      "tags": []
     },
     "output_type": "execute_result"
    }
   ],
   "source": [
    "# float \n",
    "\n",
    "x = 1.0\n",
    "type(x)"
   ]
  },
  {
   "cell_type": "code",
   "execution_count": null,
   "metadata": {
    "colab": {
     "base_uri": "https://localhost:8080/",
     "height": 34
    },
    "colab_type": "code",
    "id": "D4YDFbxpO1HX",
    "outputId": "d1c25048-0b5b-411d-ee97-5714ed739f3c"
   },
   "outputs": [
    {
     "data": {
      "text/plain": [
       "(bool, bool)"
      ]
     },
     "execution_count": 18,
     "metadata": {
      "tags": []
     },
     "output_type": "execute_result"
    }
   ],
   "source": [
    "# boolean\n",
    "\n",
    "b1 = True\n",
    "b2 = False\n",
    "\n",
    "type(b1), type(b2)"
   ]
  },
  {
   "cell_type": "code",
   "execution_count": null,
   "metadata": {
    "colab": {
     "base_uri": "https://localhost:8080/",
     "height": 34
    },
    "colab_type": "code",
    "id": "tbWinpAZPDir",
    "outputId": "cec0c6b5-78fc-4526-e0df-3d27d5295a02"
   },
   "outputs": [
    {
     "data": {
      "text/plain": [
       "str"
      ]
     },
     "execution_count": 19,
     "metadata": {
      "tags": []
     },
     "output_type": "execute_result"
    }
   ],
   "source": [
    "# string\n",
    "s = \"Hola Mundo\"\n",
    "\n",
    "type(s)"
   ]
  },
  {
   "cell_type": "markdown",
   "metadata": {
    "colab_type": "text",
    "id": "YonkX37TQTzA"
   },
   "source": [
    "<p><a name=\"ops&comps\"></a></p>\n",
    "\n",
    "## 2.4. Operadores y comparaciones.\n",
    "\n",
    "[[Secciones]](#sections)\n",
    "\n",
    "La mayoria de operadores y comparaciones poseen el significado al que, comunmente, estamos acostumbrados.\n",
    "<br>\n",
    "<br>\n",
    "*   Operadores aritméticos  `+`, `-`, `*`, `/`, `**` (potencia), `%` (módulo)\n",
    "\n",
    "\n"
   ]
  },
  {
   "cell_type": "code",
   "execution_count": null,
   "metadata": {
    "colab": {
     "base_uri": "https://localhost:8080/",
     "height": 34
    },
    "colab_type": "code",
    "id": "a0aadW7WQ4MJ",
    "outputId": "92b196fc-4a82-4473-f69e-832fc546763f"
   },
   "outputs": [
    {
     "data": {
      "text/plain": [
       "[3, -1, 2, 2]"
      ]
     },
     "execution_count": 20,
     "metadata": {
      "tags": []
     },
     "output_type": "execute_result"
    }
   ],
   "source": [
    "[1 + 2, 1 - 2, 1 * 2, 5 % 3]"
   ]
  },
  {
   "cell_type": "markdown",
   "metadata": {
    "colab_type": "text",
    "id": "5QjhwpkeAP7i"
   },
   "source": [
    "En Python 2.7, el tipo de división (/) que se ejecute, depende del tipo de números involucrados. Si todos los números son enteros, la división será una divión entera, de lo contrario, será una operación en coma flotante. En Python 3, este hecho ha cambiado y las fracciones no se pierden cuando se dividen dos enteros (para las divisiones enteras se puede usar el operdor //)"
   ]
  },
  {
   "cell_type": "code",
   "execution_count": null,
   "metadata": {
    "colab": {
     "base_uri": "https://localhost:8080/",
     "height": 68
    },
    "colab_type": "code",
    "id": "e5nUz2kxAHwp",
    "outputId": "d3e56249-cda0-44da-bb3d-c0401be40c4b"
   },
   "outputs": [
    {
     "name": "stdout",
     "output_type": "stream",
     "text": [
      "0.5\n",
      "0.5\n",
      "1.0\n"
     ]
    }
   ],
   "source": [
    "# En Python 3 las siguientes dos operaciones daran el mismo resultado.\n",
    "# En Python 2, la primera de ellas será tratada como una división entera.\n",
    "\n",
    "print(1/2)\n",
    "print(1/2.0)\n",
    "print(11//6.0)"
   ]
  },
  {
   "cell_type": "code",
   "execution_count": null,
   "metadata": {
    "colab": {
     "base_uri": "https://localhost:8080/",
     "height": 34
    },
    "colab_type": "code",
    "id": "zJKMj5GKBmig",
    "outputId": "91f011c8-3ea0-410f-9116-26d2a1231959"
   },
   "outputs": [
    {
     "data": {
      "text/plain": [
       "4"
      ]
     },
     "execution_count": 22,
     "metadata": {
      "tags": []
     },
     "output_type": "execute_result"
    }
   ],
   "source": [
    "# Nótese que la potenciación en Python se escribe de la forma ** y\n",
    "# no como ^\n",
    "\n",
    "2**2"
   ]
  },
  {
   "cell_type": "markdown",
   "metadata": {
    "colab_type": "text",
    "id": "inA_zCFhCJMQ"
   },
   "source": [
    "\n",
    "*   Los buleanos están conectados o precedidos por palabras como `and`, `not`, `or`.\n",
    "\n"
   ]
  },
  {
   "cell_type": "code",
   "execution_count": null,
   "metadata": {
    "colab": {
     "base_uri": "https://localhost:8080/",
     "height": 34
    },
    "colab_type": "code",
    "id": "d1L933QDB_jc",
    "outputId": "ca9eb676-b8bd-4362-cfb5-fefec6847fc1"
   },
   "outputs": [
    {
     "data": {
      "text/plain": [
       "False"
      ]
     },
     "execution_count": 23,
     "metadata": {
      "tags": []
     },
     "output_type": "execute_result"
    }
   ],
   "source": [
    "True and False"
   ]
  },
  {
   "cell_type": "code",
   "execution_count": null,
   "metadata": {
    "colab": {
     "base_uri": "https://localhost:8080/",
     "height": 34
    },
    "colab_type": "code",
    "id": "DAvHDZZPDKY0",
    "outputId": "61c17005-9a10-41b6-e1ea-a4cfe1bae1f6"
   },
   "outputs": [
    {
     "data": {
      "text/plain": [
       "True"
      ]
     },
     "execution_count": 24,
     "metadata": {
      "tags": []
     },
     "output_type": "execute_result"
    }
   ],
   "source": [
    "not False"
   ]
  },
  {
   "cell_type": "code",
   "execution_count": null,
   "metadata": {
    "colab": {
     "base_uri": "https://localhost:8080/",
     "height": 34
    },
    "colab_type": "code",
    "id": "P_uDESoGDMt2",
    "outputId": "517afab4-cb75-4343-d17c-015856218897"
   },
   "outputs": [
    {
     "data": {
      "text/plain": [
       "True"
      ]
     },
     "execution_count": 25,
     "metadata": {
      "tags": []
     },
     "output_type": "execute_result"
    }
   ],
   "source": [
    "True or False"
   ]
  },
  {
   "cell_type": "markdown",
   "metadata": {
    "colab_type": "text",
    "id": "mXNEKXU1DWPN"
   },
   "source": [
    "\n",
    "\n",
    "*   Operadores de comparación `>`, `<`, `>=`(mayor o igual), `<=` (menor o igual), `==` (igual), `!=`(no igual) y `is` (identico).\n"
   ]
  },
  {
   "cell_type": "code",
   "execution_count": null,
   "metadata": {
    "colab": {
     "base_uri": "https://localhost:8080/",
     "height": 34
    },
    "colab_type": "code",
    "id": "j4eUgIFhDOYF",
    "outputId": "8f724ccf-382b-4fbf-d2a5-f86659a053a1"
   },
   "outputs": [
    {
     "data": {
      "text/plain": [
       "(True, False)"
      ]
     },
     "execution_count": 26,
     "metadata": {
      "tags": []
     },
     "output_type": "execute_result"
    }
   ],
   "source": [
    "2>1,2<1"
   ]
  },
  {
   "cell_type": "code",
   "execution_count": null,
   "metadata": {
    "colab": {
     "base_uri": "https://localhost:8080/",
     "height": 34
    },
    "colab_type": "code",
    "id": "iBvOf56_INhS",
    "outputId": "e1a22b17-5f39-4278-8ecb-24c59758704c"
   },
   "outputs": [
    {
     "data": {
      "text/plain": [
       "(False, False)"
      ]
     },
     "execution_count": 27,
     "metadata": {
      "tags": []
     },
     "output_type": "execute_result"
    }
   ],
   "source": [
    "2>3,2<2"
   ]
  },
  {
   "cell_type": "code",
   "execution_count": null,
   "metadata": {
    "colab": {
     "base_uri": "https://localhost:8080/",
     "height": 34
    },
    "colab_type": "code",
    "id": "JUtV68qaIVPz",
    "outputId": "a198dc92-691e-4a3f-9fb6-e9ab20dee49c"
   },
   "outputs": [
    {
     "data": {
      "text/plain": [
       "(True, True)"
      ]
     },
     "execution_count": 28,
     "metadata": {
      "tags": []
     },
     "output_type": "execute_result"
    }
   ],
   "source": [
    "4<=4,4>=4"
   ]
  },
  {
   "cell_type": "code",
   "execution_count": null,
   "metadata": {
    "colab": {
     "base_uri": "https://localhost:8080/",
     "height": 34
    },
    "colab_type": "code",
    "id": "Uf1ILoH1Idk-",
    "outputId": "5e0d02da-40f7-463a-fca4-c2aaeeb5ebb9"
   },
   "outputs": [
    {
     "data": {
      "text/plain": [
       "True"
      ]
     },
     "execution_count": 29,
     "metadata": {
      "tags": []
     },
     "output_type": "execute_result"
    }
   ],
   "source": [
    "#igual a\n",
    "[3,2]==[3,2]"
   ]
  },
  {
   "cell_type": "code",
   "execution_count": null,
   "metadata": {
    "colab": {
     "base_uri": "https://localhost:8080/",
     "height": 34
    },
    "colab_type": "code",
    "id": "eeW5ikeSIm45",
    "outputId": "0e4de7a9-6607-4a4b-d5d5-3c2242efe255"
   },
   "outputs": [
    {
     "data": {
      "text/plain": [
       "True"
      ]
     },
     "execution_count": 30,
     "metadata": {
      "tags": []
     },
     "output_type": "execute_result"
    }
   ],
   "source": [
    "# Not equal to\n",
    "\n",
    "2 != 5"
   ]
  },
  {
   "cell_type": "markdown",
   "metadata": {
    "colab_type": "text",
    "id": "NqneYrrcI0n-"
   },
   "source": [
    "*   Operador buleano"
   ]
  },
  {
   "cell_type": "code",
   "execution_count": null,
   "metadata": {
    "colab": {
     "base_uri": "https://localhost:8080/",
     "height": 68
    },
    "colab_type": "code",
    "id": "ZLEkrzmMIueo",
    "outputId": "0f17f714-32bb-4233-8a4f-f04aa8a75888"
   },
   "outputs": [
    {
     "name": "stdout",
     "output_type": "stream",
     "text": [
      "False\n",
      "False\n",
      "True\n"
     ]
    }
   ],
   "source": [
    "x = True\n",
    "y = False\n",
    "\n",
    "print(not x)\n",
    "print(x and y)\n",
    "print(x or y)"
   ]
  },
  {
   "cell_type": "markdown",
   "metadata": {
    "colab_type": "text",
    "id": "t6oenfZvJaNS"
   },
   "source": [
    "*   Comparación de strings"
   ]
  },
  {
   "cell_type": "code",
   "execution_count": null,
   "metadata": {
    "colab": {
     "base_uri": "https://localhost:8080/",
     "height": 34
    },
    "colab_type": "code",
    "id": "KbtlcSftJomq",
    "outputId": "cae7b59f-38e9-4578-f1e6-5772f07a25dc"
   },
   "outputs": [
    {
     "data": {
      "text/plain": [
       "True"
      ]
     },
     "execution_count": 32,
     "metadata": {
      "tags": []
     },
     "output_type": "execute_result"
    }
   ],
   "source": [
    "\"estar bien\" in \"Me gusta estar bien\" "
   ]
  },
  {
   "cell_type": "code",
   "execution_count": null,
   "metadata": {
    "colab": {
     "base_uri": "https://localhost:8080/",
     "height": 34
    },
    "colab_type": "code",
    "id": "XzA-tS3-J1NH",
    "outputId": "a0d69218-c5b6-4396-9ac7-95f434333309"
   },
   "outputs": [
    {
     "data": {
      "text/plain": [
       "True"
      ]
     },
     "execution_count": 33,
     "metadata": {
      "tags": []
     },
     "output_type": "execute_result"
    }
   ],
   "source": [
    "\"estan\" not in \"Me gusta estar bien\""
   ]
  },
  {
   "cell_type": "markdown",
   "metadata": {
    "colab_type": "text",
    "id": "46t9Rw_FLLcm"
   },
   "source": [
    "<p><a name=\"mscut\"></a></p>\n",
    "\n",
    "### 2.4.1 Atajos de operaciones matemáticas y asignaciones.\n",
    "\n",
    "[[Secciones]](#sections)\n",
    "\n",
    "Por ejemplo, la siguiente asignación y operación:\n"
   ]
  },
  {
   "cell_type": "code",
   "execution_count": null,
   "metadata": {
    "colab": {
     "base_uri": "https://localhost:8080/",
     "height": 34
    },
    "colab_type": "code",
    "id": "7NxR98r1J8aX",
    "outputId": "8b0b65c5-bb8b-455f-eba8-3d98e8f5639d"
   },
   "outputs": [
    {
     "name": "stdout",
     "output_type": "stream",
     "text": [
      "4\n"
     ]
    }
   ],
   "source": [
    "a = 2\n",
    "a = a*2\n",
    "print(a)"
   ]
  },
  {
   "cell_type": "markdown",
   "metadata": {
    "colab_type": "text",
    "id": "Oh-Lc8DGMNLK"
   },
   "source": [
    "el comando `a = a * 2`, puede ser abreviado como `a *= 2`. Este tipo de abreviaciones funcionan con las siguientes operaciones `+=`, `-=`, y `/=`."
   ]
  },
  {
   "cell_type": "code",
   "execution_count": null,
   "metadata": {
    "colab": {
     "base_uri": "https://localhost:8080/",
     "height": 34
    },
    "colab_type": "code",
    "id": "4j9hXwTxMGUq",
    "outputId": "81a74b3d-b2a0-4414-9003-b36425432643"
   },
   "outputs": [
    {
     "name": "stdout",
     "output_type": "stream",
     "text": [
      "16\n"
     ]
    }
   ],
   "source": [
    "a = 4\n",
    "a *= 4\n",
    "print(a)"
   ]
  },
  {
   "cell_type": "markdown",
   "metadata": {
    "colab_type": "text",
    "id": "jUNSgddpO0g4"
   },
   "source": [
    "<p><a name=\"sltd\"></a></p>\n",
    "\n",
    "## 2.5. Strings, listas y diccionarios.\n",
    "\n",
    "[[Secciones]](#sections)\n",
    "\n",
    "<p><a name=\"strings\"></a></p>\n",
    "\n",
    "###2.5.1 Strings\n",
    "\n",
    "Las variables que se usan para guardar un mensaje, palabra, etc, se conocen como `strings`"
   ]
  },
  {
   "cell_type": "code",
   "execution_count": null,
   "metadata": {
    "colab": {
     "base_uri": "https://localhost:8080/",
     "height": 34
    },
    "colab_type": "code",
    "id": "qnZEZqP0NQuD",
    "outputId": "95f12e0d-5aa4-4477-be91-6ffbcca6d5d3"
   },
   "outputs": [
    {
     "data": {
      "text/plain": [
       "str"
      ]
     },
     "execution_count": 36,
     "metadata": {
      "tags": []
     },
     "output_type": "execute_result"
    }
   ],
   "source": [
    "s = \"Hola mundo\"\n",
    "type(s)"
   ]
  },
  {
   "cell_type": "code",
   "execution_count": null,
   "metadata": {
    "colab": {
     "base_uri": "https://localhost:8080/",
     "height": 34
    },
    "colab_type": "code",
    "id": "yiMVrS5_Pl2e",
    "outputId": "8012fc4d-6715-4991-ea32-e24f2649d93e"
   },
   "outputs": [
    {
     "data": {
      "text/plain": [
       "10"
      ]
     },
     "execution_count": 37,
     "metadata": {
      "tags": []
     },
     "output_type": "execute_result"
    }
   ],
   "source": [
    "# Longitud del string: Número de caracteres en el string\n",
    "len(s)"
   ]
  },
  {
   "cell_type": "code",
   "execution_count": null,
   "metadata": {
    "colab": {
     "base_uri": "https://localhost:8080/",
     "height": 34
    },
    "colab_type": "code",
    "id": "svUlFngQP_cs",
    "outputId": "ef2279a2-4f64-40a2-f50e-95ec13216b1c"
   },
   "outputs": [
    {
     "name": "stdout",
     "output_type": "stream",
     "text": [
      "Hola alumnos\n"
     ]
    }
   ],
   "source": [
    "# Reemplazo de un substring dentro de un string\n",
    "s2 = s.replace(\"mundo\",\"alumnos\")\n",
    "print(s2)"
   ]
  },
  {
   "cell_type": "markdown",
   "metadata": {
    "colab_type": "text",
    "id": "gq50T2VhQw6L"
   },
   "source": [
    "Podemos indexar los caracteres en un string mediante el uso de `[]`"
   ]
  },
  {
   "cell_type": "code",
   "execution_count": null,
   "metadata": {
    "colab": {
     "base_uri": "https://localhost:8080/",
     "height": 34
    },
    "colab_type": "code",
    "id": "MlrzwSMCQnay",
    "outputId": "9aa5c5b1-d746-43db-b736-96e2570fb6ec"
   },
   "outputs": [
    {
     "data": {
      "text/plain": [
       "('H', 'o', 'l')"
      ]
     },
     "execution_count": 39,
     "metadata": {
      "tags": []
     },
     "output_type": "execute_result"
    }
   ],
   "source": [
    "s[0],s[1],s[2]"
   ]
  },
  {
   "cell_type": "markdown",
   "metadata": {
    "colab_type": "text",
    "id": "cZ1VneRYRrga"
   },
   "source": [
    "**Para los usuarios de MATLAB:** Se debe tener cuidado ya que la indexación en Python empieza en 0.\n",
    "\n",
    "Es posible extraer parte de un string usando la sintaxis `[start:stop]`, en donde se extraen los caracteres entre la posiciones `start` y `stop`:"
   ]
  },
  {
   "cell_type": "code",
   "execution_count": null,
   "metadata": {
    "colab": {
     "base_uri": "https://localhost:8080/",
     "height": 34
    },
    "colab_type": "code",
    "id": "_K2cMoanRTCt",
    "outputId": "e3001e00-b642-497b-9c1c-ace2d0cb0da0"
   },
   "outputs": [
    {
     "data": {
      "text/plain": [
       "'Hola'"
      ]
     },
     "execution_count": 40,
     "metadata": {
      "tags": []
     },
     "output_type": "execute_result"
    }
   ],
   "source": [
    "s[0:4]"
   ]
  },
  {
   "cell_type": "markdown",
   "metadata": {
    "colab_type": "text",
    "id": "EkH3jEk8SV8e"
   },
   "source": [
    "Si omitimos en el intervalo el `start` o el `stop`, se toma por defecto el princio y el final de string, respectivamente"
   ]
  },
  {
   "cell_type": "code",
   "execution_count": null,
   "metadata": {
    "colab": {
     "base_uri": "https://localhost:8080/",
     "height": 34
    },
    "colab_type": "code",
    "id": "fBnB-XMzSP7P",
    "outputId": "3ad4460c-7e4f-49f4-e7df-109aad468418"
   },
   "outputs": [
    {
     "data": {
      "text/plain": [
       "'Hola'"
      ]
     },
     "execution_count": 41,
     "metadata": {
      "tags": []
     },
     "output_type": "execute_result"
    }
   ],
   "source": [
    "s[:4]"
   ]
  },
  {
   "cell_type": "code",
   "execution_count": null,
   "metadata": {
    "colab": {
     "base_uri": "https://localhost:8080/",
     "height": 34
    },
    "colab_type": "code",
    "id": "uJvBDt9tSvL9",
    "outputId": "512fb30f-cd30-4a3d-d4cb-f82300d45f95"
   },
   "outputs": [
    {
     "data": {
      "text/plain": [
       "'mundo'"
      ]
     },
     "execution_count": 42,
     "metadata": {
      "tags": []
     },
     "output_type": "execute_result"
    }
   ],
   "source": [
    "s[5:]"
   ]
  },
  {
   "cell_type": "code",
   "execution_count": null,
   "metadata": {
    "colab": {
     "base_uri": "https://localhost:8080/",
     "height": 34
    },
    "colab_type": "code",
    "id": "D0Zw1I2eSzeQ",
    "outputId": "eafbaa69-5776-4e30-a3ca-76809ad3b564"
   },
   "outputs": [
    {
     "data": {
      "text/plain": [
       "'Hola mundo'"
      ]
     },
     "execution_count": 43,
     "metadata": {
      "tags": []
     },
     "output_type": "execute_result"
    }
   ],
   "source": [
    "s[:]"
   ]
  },
  {
   "cell_type": "markdown",
   "metadata": {
    "colab_type": "text",
    "id": "f9pVKmtVTOQW"
   },
   "source": [
    "También podemos definir el tamaño del paso usando la sintaxis `[inicio:final:paso]`(el valor por defecto del paso es 1, como se vio anteriormente)"
   ]
  },
  {
   "cell_type": "code",
   "execution_count": null,
   "metadata": {
    "colab": {
     "base_uri": "https://localhost:8080/",
     "height": 34
    },
    "colab_type": "code",
    "id": "5U5QyQ0dTIZo",
    "outputId": "902eda7d-cb01-474b-c8c9-3317a1cc6001"
   },
   "outputs": [
    {
     "data": {
      "text/plain": [
       "'Hola mundo'"
      ]
     },
     "execution_count": 44,
     "metadata": {
      "tags": []
     },
     "output_type": "execute_result"
    }
   ],
   "source": [
    "s[::1]"
   ]
  },
  {
   "cell_type": "code",
   "execution_count": null,
   "metadata": {
    "colab": {
     "base_uri": "https://localhost:8080/",
     "height": 34
    },
    "colab_type": "code",
    "id": "blfs1ZIHT3AV",
    "outputId": "35897cfe-8611-45a7-bc0c-f4e4e9b0bf44"
   },
   "outputs": [
    {
     "data": {
      "text/plain": [
       "'Hauo'"
      ]
     },
     "execution_count": 45,
     "metadata": {
      "tags": []
     },
     "output_type": "execute_result"
    }
   ],
   "source": [
    "s[::3]"
   ]
  },
  {
   "cell_type": "markdown",
   "metadata": {
    "colab_type": "text",
    "id": "vrZ-PKelT-LG"
   },
   "source": [
    "A esta técnica se le conoce con el nombre se *slicing*."
   ]
  },
  {
   "cell_type": "markdown",
   "metadata": {
    "colab_type": "text",
    "id": "Eaq_DVzaHwDH"
   },
   "source": [
    "**Ejemplos de formatos de strings**"
   ]
  },
  {
   "cell_type": "code",
   "execution_count": null,
   "metadata": {
    "colab": {
     "base_uri": "https://localhost:8080/",
     "height": 34
    },
    "colab_type": "code",
    "id": "koP6MyTtT4yY",
    "outputId": "3fd0cf78-f45e-462f-8944-ecc1ce27f7d6"
   },
   "outputs": [
    {
     "name": "stdout",
     "output_type": "stream",
     "text": [
      "Comúnmente\n"
     ]
    }
   ],
   "source": [
    "#Contatenación de strings con +\n",
    "print(\"Común\"+\"mente\")"
   ]
  },
  {
   "cell_type": "code",
   "execution_count": null,
   "metadata": {
    "colab": {
     "base_uri": "https://localhost:8080/",
     "height": 68
    },
    "colab_type": "code",
    "id": "_nxlbRWUIUNn",
    "outputId": "ceba109d-9f66-4061-b85c-4320066f12c0"
   },
   "outputs": [
    {
     "name": "stdout",
     "output_type": "stream",
     "text": [
      "Comúnmente\n",
      "Común mente\n",
      "('Común', 'mente')\n"
     ]
    }
   ],
   "source": [
    "#La función print concatena dependiendo de como son las entradas.\n",
    "#A continuación se muestran tres resultados diferentes \n",
    "\n",
    "print(\"Común\" \"mente\")\n",
    "print(\"Común\",\"mente\")\n",
    "print((\"Común\",\"mente\"))"
   ]
  },
  {
   "cell_type": "code",
   "execution_count": null,
   "metadata": {
    "colab": {
     "base_uri": "https://localhost:8080/",
     "height": 34
    },
    "colab_type": "code",
    "id": "6QkG1qAjJeGV",
    "outputId": "ff7645ad-b7cd-4391-acb3-edc2cc0c8a49"
   },
   "outputs": [
    {
     "name": "stdout",
     "output_type": "stream",
     "text": [
      "Común 1.0 False\n"
     ]
    }
   ],
   "source": [
    "#Por otra parte, la función print convierte todos las entradas a strings\n",
    "print(\"Común\", 1.0, False)"
   ]
  },
  {
   "cell_type": "code",
   "execution_count": null,
   "metadata": {
    "colab": {
     "base_uri": "https://localhost:8080/",
     "height": 34
    },
    "colab_type": "code",
    "id": "8xY0Rg-nKDqx",
    "outputId": "c7a7bb05-2696-4b08-92c6-5cb67ef41afb"
   },
   "outputs": [
    {
     "name": "stdout",
     "output_type": "stream",
     "text": [
      "value = 3.343569\n"
     ]
    }
   ],
   "source": [
    "# Podemos usar la función print en forma similar a como es usada en C\n",
    "\n",
    "print(\"value = %f\" %3.343569)"
   ]
  },
  {
   "cell_type": "markdown",
   "metadata": {
    "colab_type": "text",
    "id": "st1oobwsLTt0"
   },
   "source": [
    "Python posee dos estilos de formatos. Un estilo más antiguo, en el que se especifica, por ejemplo, el número de cifras decimales que se imprimirá tendrá un número de tipo float denotado por %n.f y %.d, que transforma un número en un string, correspondiente a un numero decimal.  "
   ]
  },
  {
   "cell_type": "code",
   "execution_count": null,
   "metadata": {
    "colab": {
     "base_uri": "https://localhost:8080/",
     "height": 34
    },
    "colab_type": "code",
    "id": "-GbWA7npKu6i",
    "outputId": "41da164d-3bcf-4a89-a053-93b6222b7ce1"
   },
   "outputs": [
    {
     "name": "stdout",
     "output_type": "stream",
     "text": [
      "value1 = 3.142. value2 = 1\n"
     ]
    }
   ],
   "source": [
    "s2 = \"value1 = %.3f. value2 = %d\" % (3.1415, 1.5)\n",
    "print(s2)"
   ]
  },
  {
   "cell_type": "markdown",
   "metadata": {
    "colab_type": "text",
    "id": "Lipm64IAO3ws"
   },
   "source": [
    "El mismo string puede ser definido usando el nuevo estilo de formato"
   ]
  },
  {
   "cell_type": "code",
   "execution_count": null,
   "metadata": {
    "colab": {
     "base_uri": "https://localhost:8080/",
     "height": 51
    },
    "colab_type": "code",
    "id": "UIrPrXN-OTVg",
    "outputId": "b6d4a67a-4482-47e1-f712-5dcd484cac87"
   },
   "outputs": [
    {
     "name": "stdout",
     "output_type": "stream",
     "text": [
      "value1 = 3.14, value2 = 1.5\n"
     ]
    },
    {
     "data": {
      "text/plain": [
       "str"
      ]
     },
     "execution_count": 51,
     "metadata": {
      "tags": []
     },
     "output_type": "execute_result"
    }
   ],
   "source": [
    "s3 = 'value1 = {:.2f}, value2 = {}'.format(3.1415, 1.5)\n",
    "\n",
    "print(s3)\n",
    "type(s3)"
   ]
  },
  {
   "cell_type": "code",
   "execution_count": null,
   "metadata": {
    "colab": {
     "base_uri": "https://localhost:8080/",
     "height": 68
    },
    "colab_type": "code",
    "id": "uJ7Mt4tyPKdl",
    "outputId": "c4be9e7e-aff3-4bfa-d7de-877535a6c6ea"
   },
   "outputs": [
    {
     "name": "stdout",
     "output_type": "stream",
     "text": [
      "Las líneas nuevas son indicadas por \n",
      "los espacios por \t.\n",
      "Las líneas nuevas son indicada por \\n y los espacios por \\t. r indica raw string\n"
     ]
    }
   ],
   "source": [
    "print(\"Las líneas nuevas son indicadas por \\nlos espacios por \\t.\")\n",
    "\n",
    "print(r\"Las líneas nuevas son indicada por \\n y los espacios por \\t. r indica raw string\")"
   ]
  },
  {
   "cell_type": "code",
   "execution_count": null,
   "metadata": {
    "colab": {
     "base_uri": "https://localhost:8080/",
     "height": 68
    },
    "colab_type": "code",
    "id": "MXsP0n2sQ5Bn",
    "outputId": "638d3c72-f675-4025-ded8-5f94e3ff7701"
   },
   "outputs": [
    {
     "name": "stdout",
     "output_type": "stream",
     "text": [
      "Nombre: Python\n",
      "Número: 2019\n",
      "String: ----\n"
     ]
    }
   ],
   "source": [
    "s4=\"Nombre: {}\\nNúmero: {}\\nString: {}\".format(\"Python\", 2019, 4 * \"-\")\n",
    "print(s4)"
   ]
  },
  {
   "cell_type": "code",
   "execution_count": null,
   "metadata": {
    "colab": {
     "base_uri": "https://localhost:8080/",
     "height": 68
    },
    "colab_type": "code",
    "id": "iEY9qBl9S6Bs",
    "outputId": "d56fe750-62e0-4151-d27c-73aee876ce21"
   },
   "outputs": [
    {
     "name": "stdout",
     "output_type": "stream",
     "text": [
      "String\n",
      "con varias\n",
      "líneas de texto.\n"
     ]
    }
   ],
   "source": [
    "strString = \"\"\"String\n",
    "con varias\n",
    "líneas de texto.\"\"\"\n",
    "print(strString)\n"
   ]
  },
  {
   "cell_type": "code",
   "execution_count": null,
   "metadata": {
    "colab": {
     "base_uri": "https://localhost:8080/",
     "height": 34
    },
    "colab_type": "code",
    "id": "zg0FDVV8TqE-",
    "outputId": "81e5027f-e18e-44e7-ca50-daeab5f32c02"
   },
   "outputs": [
    {
     "name": "stdout",
     "output_type": "stream",
     "text": [
      "Esto es una prueba.\n"
     ]
    }
   ],
   "source": [
    "print(\"Esto {verbo} una {sujeto}.\".format(sujeto = \"prueba\", verbo = \"es\"))"
   ]
  },
  {
   "cell_type": "markdown",
   "metadata": {
    "colab_type": "text",
    "id": "6dW4ET9EWgVR"
   },
   "source": [
    "<p><a name=\"alist\"></a></p>\n",
    "\n",
    "### 2.5.2. Listas\n",
    "\n",
    "[[Secciones]](#sections)\n",
    "\n",
    "Las listas son muy similares a los `strings` con la excepción de que los elementos de una lista pueden ser de cualquier tipo.\n",
    "\n",
    "La sintaxis en Python es de la forma `[...]`."
   ]
  },
  {
   "cell_type": "code",
   "execution_count": null,
   "metadata": {
    "colab": {
     "base_uri": "https://localhost:8080/",
     "height": 51
    },
    "colab_type": "code",
    "id": "Hwhv9wrHYJzg",
    "outputId": "b4ded2e6-7f11-4df1-bd40-dbc45d99a305"
   },
   "outputs": [
    {
     "name": "stdout",
     "output_type": "stream",
     "text": [
      "<class 'list'>\n",
      "[0, 1, 2, 3]\n"
     ]
    }
   ],
   "source": [
    "l=[0,1,2,3]\n",
    "print(type(l))\n",
    "print(l)"
   ]
  },
  {
   "cell_type": "markdown",
   "metadata": {
    "colab_type": "text",
    "id": "3i2WvZruYaKL"
   },
   "source": [
    "Podemos usar las mismas técnicas de *slicing* que usamos en los *strings"
   ]
  },
  {
   "cell_type": "code",
   "execution_count": null,
   "metadata": {
    "colab": {
     "base_uri": "https://localhost:8080/",
     "height": 68
    },
    "colab_type": "code",
    "id": "9leGZY_AYWJM",
    "outputId": "54d8a017-2302-4b9a-8b6e-50b209010c49"
   },
   "outputs": [
    {
     "name": "stdout",
     "output_type": "stream",
     "text": [
      "[0, 1, 2, 3]\n",
      "[0, 1]\n",
      "[0, 2]\n"
     ]
    }
   ],
   "source": [
    "print(l[:])\n",
    "print(l[0:2])\n",
    "print(l[::2])"
   ]
  },
  {
   "cell_type": "markdown",
   "metadata": {
    "colab_type": "text",
    "id": "zVrXQ4WzTP28"
   },
   "source": [
    "**A los usuarios de MATLAB**: Recuerden que la indexación inicia en 0\n",
    "\n"
   ]
  },
  {
   "cell_type": "code",
   "execution_count": null,
   "metadata": {
    "colab": {
     "base_uri": "https://localhost:8080/",
     "height": 34
    },
    "colab_type": "code",
    "id": "vu4jcI9UZQIk",
    "outputId": "309ae181-3f53-4bc7-a1e8-5e10ee05336d"
   },
   "outputs": [
    {
     "data": {
      "text/plain": [
       "0"
      ]
     },
     "execution_count": 58,
     "metadata": {
      "tags": []
     },
     "output_type": "execute_result"
    }
   ],
   "source": [
    "l[0]"
   ]
  },
  {
   "cell_type": "markdown",
   "metadata": {
    "colab_type": "text",
    "id": "_5HL_B8fUH8d"
   },
   "source": [
    "Los elementos de una lista no tiene que ser todos del mismo "
   ]
  },
  {
   "cell_type": "code",
   "execution_count": null,
   "metadata": {
    "colab": {},
    "colab_type": "code",
    "id": "H0S4yEMrTyyT"
   },
   "outputs": [],
   "source": [
    "l = [1, 'a', 1.0]"
   ]
  },
  {
   "cell_type": "markdown",
   "metadata": {
    "colab_type": "text",
    "id": "FQGdlXIYYlm9"
   },
   "source": [
    "Las listas en Python inhomogeneas y anidadas arbitrariamente:\n"
   ]
  },
  {
   "cell_type": "code",
   "execution_count": null,
   "metadata": {
    "colab": {
     "base_uri": "https://localhost:8080/",
     "height": 34
    },
    "colab_type": "code",
    "id": "sjoWVomcYNrt",
    "outputId": "c6b15bd7-07ed-4886-e1e2-547b2ad69043"
   },
   "outputs": [
    {
     "data": {
      "text/plain": [
       "[1, [2, [3, [4, [5]]]]]"
      ]
     },
     "execution_count": 60,
     "metadata": {
      "tags": []
     },
     "output_type": "execute_result"
    }
   ],
   "source": [
    "nested_list = [1, [2, [3, [4, [5]]]]]\n",
    "nested_list"
   ]
  },
  {
   "cell_type": "markdown",
   "metadata": {
    "colab_type": "text",
    "id": "yqiXn-TuZ744"
   },
   "source": [
    "Las listas desempeñan un papel muy importante en Python y, por ejemplo, se utilizan en bucles y otras estructuras de control de flujo (que se analizan a continuación). Hay una serie de funciones convenientes para generar listas de varios tipos, por ejemplo, la función de `range` (tenga en cuenta la función `range` de Python 3 crea un generador, por lo que tiene que usar la función de lista para obtener una lista):"
   ]
  },
  {
   "cell_type": "code",
   "execution_count": null,
   "metadata": {
    "colab": {
     "base_uri": "https://localhost:8080/",
     "height": 34
    },
    "colab_type": "code",
    "id": "UQ0HNFX2bpBz",
    "outputId": "27323e91-5d63-4f97-9317-08841c288d9d"
   },
   "outputs": [
    {
     "data": {
      "text/plain": [
       "[1, 3, 5, 7, 9, 11, 13, 15]"
      ]
     },
     "execution_count": 61,
     "metadata": {
      "tags": []
     },
     "output_type": "execute_result"
    }
   ],
   "source": [
    "inicio = 1\n",
    "final = 16\n",
    "paso = 2\n",
    "\n",
    "list(range(inicio, final, paso))"
   ]
  },
  {
   "cell_type": "code",
   "execution_count": null,
   "metadata": {
    "colab": {
     "base_uri": "https://localhost:8080/",
     "height": 51
    },
    "colab_type": "code",
    "id": "EOFMKZP-bzoL",
    "outputId": "57ae9168-1222-4382-d015-5b1d6253d470"
   },
   "outputs": [
    {
     "name": "stdout",
     "output_type": "stream",
     "text": [
      "Hola mundo\n"
     ]
    },
    {
     "data": {
      "text/plain": [
       "['H', 'o', 'l', 'a', ' ', 'm', 'u', 'n', 'd', 'o']"
      ]
     },
     "execution_count": 62,
     "metadata": {
      "tags": []
     },
     "output_type": "execute_result"
    }
   ],
   "source": [
    "# Convertir un string en una lista casteando mediante list\n",
    "\n",
    "print(s)\n",
    "\n",
    "s2 = list(s)\n",
    "\n",
    "s2"
   ]
  },
  {
   "cell_type": "code",
   "execution_count": null,
   "metadata": {
    "colab": {
     "base_uri": "https://localhost:8080/",
     "height": 34
    },
    "colab_type": "code",
    "id": "jYRGhv46cGAu",
    "outputId": "b3905773-7598-41e9-baaa-5fe02cb55a99"
   },
   "outputs": [
    {
     "name": "stdout",
     "output_type": "stream",
     "text": [
      "[' ', 'H', 'a', 'd', 'l', 'm', 'n', 'o', 'o', 'u']\n"
     ]
    }
   ],
   "source": [
    "# Organización de la lista\n",
    "s2.sort()\n",
    "\n",
    "print(s2)"
   ]
  },
  {
   "cell_type": "markdown",
   "metadata": {
    "colab_type": "text",
    "id": "ZawsQcrodRAw"
   },
   "source": [
    "***Adición, inserción, modificación y remoción de elementos de una lista***\n"
   ]
  },
  {
   "cell_type": "code",
   "execution_count": null,
   "metadata": {
    "colab": {
     "base_uri": "https://localhost:8080/",
     "height": 34
    },
    "colab_type": "code",
    "id": "o-s0S91Lc01M",
    "outputId": "a2c4cd11-e209-40d1-9e8c-e48cc9d2263e"
   },
   "outputs": [
    {
     "name": "stdout",
     "output_type": "stream",
     "text": [
      "['A', 'd', 'd']\n"
     ]
    }
   ],
   "source": [
    "# Creación de una lista vacía\n",
    "l = []\n",
    "\n",
    "# Adición de elementos usando `append`\n",
    "l.append(\"A\")\n",
    "l.append(\"d\")\n",
    "l.append(\"d\")\n",
    "\n",
    "print(l)"
   ]
  },
  {
   "cell_type": "markdown",
   "metadata": {
    "colab_type": "text",
    "id": "saJ9epsOeOxx"
   },
   "source": [
    "Podemos modificar una lista al asignar nuevos valores a elementos de esa lista, es decir, las listas son *mutables*.\n",
    "\n"
   ]
  },
  {
   "cell_type": "code",
   "execution_count": null,
   "metadata": {
    "colab": {
     "base_uri": "https://localhost:8080/",
     "height": 34
    },
    "colab_type": "code",
    "id": "E-fLwhIBd_HN",
    "outputId": "ced87627-1cae-4951-ee99-7bcf7b64dd0f"
   },
   "outputs": [
    {
     "name": "stdout",
     "output_type": "stream",
     "text": [
      "['A', 'p', 't']\n"
     ]
    }
   ],
   "source": [
    "l[1] = \"p\"\n",
    "l[2] = \"t\"\n",
    "\n",
    "print(l)"
   ]
  },
  {
   "cell_type": "code",
   "execution_count": null,
   "metadata": {
    "colab": {
     "base_uri": "https://localhost:8080/",
     "height": 34
    },
    "colab_type": "code",
    "id": "TiowOaCUey5H",
    "outputId": "202bba85-2c61-4d23-a3d3-9d666f12d34e"
   },
   "outputs": [
    {
     "name": "stdout",
     "output_type": "stream",
     "text": [
      "['A', 's', 'm']\n"
     ]
    }
   ],
   "source": [
    "l[1:3] = [\"s\", \"m\"]\n",
    "\n",
    "print(l)"
   ]
  },
  {
   "cell_type": "markdown",
   "metadata": {
    "colab_type": "text",
    "id": "91f_Y7k-fy2E"
   },
   "source": [
    "Inserción de elementos mediante `insert`.\n"
   ]
  },
  {
   "cell_type": "code",
   "execution_count": null,
   "metadata": {
    "colab": {
     "base_uri": "https://localhost:8080/",
     "height": 34
    },
    "colab_type": "code",
    "id": "UBkhSj1le9Ec",
    "outputId": "bc5b36cc-1113-45df-ea95-31d37f43edfa"
   },
   "outputs": [
    {
     "name": "stdout",
     "output_type": "stream",
     "text": [
      "['i', 'n', 's', 'e', 'r', 't', 'A', 's', 'm']\n"
     ]
    }
   ],
   "source": [
    "l.insert(0, \"i\")\n",
    "l.insert(1, \"n\")\n",
    "l.insert(2, \"s\")\n",
    "l.insert(3, \"e\")\n",
    "l.insert(4, \"r\")\n",
    "l.insert(5, \"t\")\n",
    "\n",
    "print(l)"
   ]
  },
  {
   "cell_type": "markdown",
   "metadata": {
    "colab_type": "text",
    "id": "A0JcCM5rgL0u"
   },
   "source": [
    "Remoción del primer elemento de un valor específico mendiante `remove`\n",
    "\n"
   ]
  },
  {
   "cell_type": "code",
   "execution_count": null,
   "metadata": {
    "colab": {
     "base_uri": "https://localhost:8080/",
     "height": 34
    },
    "colab_type": "code",
    "id": "DDPYDJiEgA_d",
    "outputId": "dbe70c8a-9555-4fad-8b1a-20bd3500461a"
   },
   "outputs": [
    {
     "name": "stdout",
     "output_type": "stream",
     "text": [
      "['i', 'n', 's', 'e', 'r', 't', 's', 'm']\n"
     ]
    }
   ],
   "source": [
    "l.remove(\"A\")\n",
    "\n",
    "print(l)"
   ]
  },
  {
   "cell_type": "markdown",
   "metadata": {
    "colab_type": "text",
    "id": "D3vNk4hzgkS_"
   },
   "source": [
    "Remoción de un elemento en una posición específica usando `del`\n",
    "\n"
   ]
  },
  {
   "cell_type": "code",
   "execution_count": null,
   "metadata": {
    "colab": {
     "base_uri": "https://localhost:8080/",
     "height": 34
    },
    "colab_type": "code",
    "id": "cpHwJ3qrgfjW",
    "outputId": "198a7b34-a329-4028-c868-4fbd62a924e7"
   },
   "outputs": [
    {
     "name": "stdout",
     "output_type": "stream",
     "text": [
      "['i', 'n', 's', 'e', 'r', 't']\n"
     ]
    }
   ],
   "source": [
    "del l[7]\n",
    "del l[6]\n",
    "\n",
    "print(l)"
   ]
  },
  {
   "cell_type": "markdown",
   "metadata": {
    "colab_type": "text",
    "id": "eGNjSLD5hAZJ"
   },
   "source": [
    "<p><a name=\"tuples\"></a></p>\n",
    "\n",
    "### 2.5.3. Tuplas\n",
    "\n",
    "[[Secciones]](#sections)\n",
    "\n",
    "Las tuplas son como las listas, excepto que estas no pueden ser modificadas una vez se han creado, es decir, son inmutables.\n",
    "\n",
    "En Python, las tuplas son creadas usando la sintaxis (..., ..., ...), incluso ..., ...:"
   ]
  },
  {
   "cell_type": "code",
   "execution_count": null,
   "metadata": {
    "colab": {
     "base_uri": "https://localhost:8080/",
     "height": 51
    },
    "colab_type": "code",
    "id": "bgEZfnRug28T",
    "outputId": "30b1c356-a799-43af-fb1a-4584c448df70"
   },
   "outputs": [
    {
     "name": "stdout",
     "output_type": "stream",
     "text": [
      "<class 'tuple'>\n",
      "(10, 20)\n"
     ]
    }
   ],
   "source": [
    "point = (10, 20)\n",
    "\n",
    "print(type(point))\n",
    "print(point)"
   ]
  },
  {
   "cell_type": "markdown",
   "metadata": {
    "colab_type": "text",
    "id": "Z5icqhC3iQ2-"
   },
   "source": [
    "Si intentamos asignar un nuevo valos a un elemento de la tupla, obtenemos un error:\n",
    "\n"
   ]
  },
  {
   "cell_type": "code",
   "execution_count": null,
   "metadata": {
    "colab": {
     "base_uri": "https://localhost:8080/",
     "height": 34
    },
    "colab_type": "code",
    "id": "JJiZW6yth9UR",
    "outputId": "58bfb2b3-05f7-4ccf-ef18-cea65417bd00"
   },
   "outputs": [
    {
     "name": "stdout",
     "output_type": "stream",
     "text": [
      "TypeError: 'tuple' object does not support item assignment\n"
     ]
    }
   ],
   "source": [
    "try:\n",
    "    point[0] = 20\n",
    "except(TypeError) as er:\n",
    "    print(\"TypeError:\", er)\n",
    "else:\n",
    "    raise\n"
   ]
  },
  {
   "cell_type": "markdown",
   "metadata": {
    "colab_type": "text",
    "id": "5VnTnXrfjPBJ"
   },
   "source": [
    "<p><a name=\"diccionarios\"></a></p>\n",
    "\n",
    "### 2.5.4. Diccionarios\n",
    "\n",
    "[[Secciones]](#sections)\n",
    "\n",
    "Los diccionarios son también parecidos a las listas, excepto que cada elemento es una pareja clave-valor. La sintaxis en los diccionarios es de la forma {key1 : value1, ...}:\n",
    "\n"
   ]
  },
  {
   "cell_type": "code",
   "execution_count": null,
   "metadata": {
    "colab": {
     "base_uri": "https://localhost:8080/",
     "height": 51
    },
    "colab_type": "code",
    "id": "Rdi35F11idbZ",
    "outputId": "c2964382-702c-4832-9e70-c7b54bca59c9"
   },
   "outputs": [
    {
     "name": "stdout",
     "output_type": "stream",
     "text": [
      "<class 'dict'>\n",
      "{'parameter1': 1.0, 'parameter2': 2.0, 'parameter3': 3.0}\n"
     ]
    }
   ],
   "source": [
    "params = {\"parameter1\" : 1.0,\n",
    "          \"parameter2\" : 2.0,\n",
    "          \"parameter3\" : 3.0,}\n",
    "\n",
    "print(type(params))\n",
    "print(params)"
   ]
  },
  {
   "cell_type": "markdown",
   "metadata": {
    "colab_type": "text",
    "id": "2PZL5oYdktwF"
   },
   "source": [
    "A las entradas de los diccionarios solo puede accerderse mediante el nombre de la clave.\n"
   ]
  },
  {
   "cell_type": "code",
   "execution_count": null,
   "metadata": {
    "colab": {
     "base_uri": "https://localhost:8080/",
     "height": 34
    },
    "colab_type": "code",
    "id": "93n0akRtj8nX",
    "outputId": "5792b53a-8231-4759-d0b3-30feaf16060e"
   },
   "outputs": [
    {
     "data": {
      "text/plain": [
       "2.0"
      ]
     },
     "execution_count": 73,
     "metadata": {
      "tags": []
     },
     "output_type": "execute_result"
    }
   ],
   "source": [
    "params[\"parameter2\"]"
   ]
  },
  {
   "cell_type": "code",
   "execution_count": null,
   "metadata": {
    "colab": {
     "base_uri": "https://localhost:8080/",
     "height": 68
    },
    "colab_type": "code",
    "id": "OFMQ9a7SlAMO",
    "outputId": "2ed74433-01e3-4d36-8552-c0ffb27184d9"
   },
   "outputs": [
    {
     "name": "stdout",
     "output_type": "stream",
     "text": [
      "parameter1 = 1.0\n",
      "parameter2 = 2.0\n",
      "parameter3 = 3.0\n"
     ]
    }
   ],
   "source": [
    "print(\"parameter1 = \" + str(params[\"parameter1\"]))\n",
    "print(\"parameter2 = \" + str(params[\"parameter2\"]))\n",
    "print(\"parameter3 = \" + str(params[\"parameter3\"]))"
   ]
  },
  {
   "cell_type": "code",
   "execution_count": null,
   "metadata": {
    "colab": {
     "base_uri": "https://localhost:8080/",
     "height": 85
    },
    "colab_type": "code",
    "id": "VKmRpnJLlKQE",
    "outputId": "bb239d36-3279-473f-9160-6d1bcfe780aa"
   },
   "outputs": [
    {
     "name": "stdout",
     "output_type": "stream",
     "text": [
      "parameter1 = A\n",
      "parameter2 = B\n",
      "parameter3 = 3.0\n",
      "parameter4 = D\n"
     ]
    }
   ],
   "source": [
    "params[\"parameter1\"] = \"A\"\n",
    "params[\"parameter2\"] = \"B\"\n",
    "\n",
    "# add a new entry\n",
    "params[\"parameter4\"] = \"D\"\n",
    "\n",
    "print(\"parameter1 = \" + str(params[\"parameter1\"]))\n",
    "print(\"parameter2 = \" + str(params[\"parameter2\"]))\n",
    "print(\"parameter3 = \" + str(params[\"parameter3\"]))\n",
    "print(\"parameter4 = \" + str(params[\"parameter4\"]))"
   ]
  },
  {
   "cell_type": "markdown",
   "metadata": {
    "colab_type": "text",
    "id": "5-_4HFRll82Z"
   },
   "source": [
    "<p><a name=\"indent\"></a></p>\n",
    "\n",
    "## 2.6. Identación\n",
    "\n",
    "[[Secciones]](#sections)\n",
    "\n",
    "Los espacios en blanco son importantes en Python. De hecho, los espacios en blanco al comienzo de una línea son importantes. A esto se le conoce como *indentación*. Los espacios en blanco iniciales (espacios y tabuladores) al comienzo de la línea lógica se usan para determinar el nivel de indentación de la línea lógica, que a su vez se usa para determinar la agrupación de declaraciones.\n",
    "\n",
    "\n",
    "Esto significa que las declaraciones que van juntas deben tener la misma indentación, por ejemplo:"
   ]
  },
  {
   "cell_type": "code",
   "execution_count": null,
   "metadata": {
    "colab": {
     "base_uri": "https://localhost:8080/",
     "height": 51
    },
    "colab_type": "code",
    "id": "0U_oasxHlVgZ",
    "outputId": "8ba5826b-dba9-4f92-895b-5fba57b3c2ec"
   },
   "outputs": [
    {
     "name": "stdout",
     "output_type": "stream",
     "text": [
      "El valor es  5\n",
      "Repetimos, el valor es  5\n"
     ]
    }
   ],
   "source": [
    "i = 5\n",
    "\n",
    "print('El valor es ', i)\n",
    "print('Repetimos, el valor es ', i)"
   ]
  },
  {
   "cell_type": "markdown",
   "metadata": {
    "colab_type": "text",
    "id": "GaTGvTZvoCOP"
   },
   "source": [
    "Cada uno de estos conjuntos de declaraciones se llama un bloque. Veremos ejemplos de cómo los bloques son importantes más adelante. Una cosa que debes recordar es que la indentación incorrecta conlleva a `IndentationError`."
   ]
  },
  {
   "cell_type": "markdown",
   "metadata": {
    "colab_type": "text",
    "id": "_VWsFlNkpNRl"
   },
   "source": [
    "<p><a name=\"controlFlow\"></a></p>\n",
    "\n",
    "## 2.7. Control del flujo\n",
    "\n",
    "[[Secciones]](#sections)"
   ]
  },
  {
   "cell_type": "markdown",
   "metadata": {
    "colab_type": "text",
    "id": "Hsl-lxMFtsmz"
   },
   "source": [
    "<p><a name=\"cond\"></a></p>\n",
    "\n",
    "### 2.7.1. Condicionales: if, elif, else\n",
    "La sintaxis en Python para la ejecución de una condición  consiste en las palabras claves `if`, `elif` (else if), `else`:"
   ]
  },
  {
   "cell_type": "code",
   "execution_count": null,
   "metadata": {
    "colab": {
     "base_uri": "https://localhost:8080/",
     "height": 34
    },
    "colab_type": "code",
    "id": "CijMmkrpnwvN",
    "outputId": "ff5effb0-15da-4711-9478-c349df1d7f98"
   },
   "outputs": [
    {
     "name": "stdout",
     "output_type": "stream",
     "text": [
      "statement1 y statement2 son Falsos\n"
     ]
    }
   ],
   "source": [
    "statement1 = False\n",
    "statement2 = False\n",
    "\n",
    "if statement1:\n",
    "    print(\"statement1 es Verdadero\")\n",
    "\n",
    "elif statement2:\n",
    "    print(\"statement2 es Verdadero\")\n",
    "\n",
    "else:\n",
    "    print(\"statement1 y statement2 son Falsos\")"
   ]
  },
  {
   "cell_type": "markdown",
   "metadata": {
    "colab_type": "text",
    "id": "g4MYOnbjgLqz"
   },
   "source": [
    "También podemos tener sentencias if anidadas"
   ]
  },
  {
   "cell_type": "code",
   "execution_count": null,
   "metadata": {
    "colab": {
     "base_uri": "https://localhost:8080/",
     "height": 51
    },
    "colab_type": "code",
    "id": "wzJJZCW5gUfl",
    "outputId": "6a6eba3f-3724-4bfc-d458-3c5a6439587b"
   },
   "outputs": [
    {
     "name": "stdout",
     "output_type": "stream",
     "text": [
      "El valor es menor a 200\n",
      "es 100\n"
     ]
    }
   ],
   "source": [
    "val = 100\n",
    "if val < 200:\n",
    "  print(\"El valor es menor a 200\")\n",
    "  if val == 150:\n",
    "    print(\"es 150\")\n",
    "  elif val == 100:\n",
    "    print(\"es 100\")\n",
    "  elif val == 50:\n",
    "    print(\"es 50\")\n",
    "  elif val < 50:\n",
    "    print(\"el valor es menor a 50\")\n",
    "else:\n",
    "  print(\"El valor es mayor a 200\")"
   ]
  },
  {
   "cell_type": "markdown",
   "metadata": {
    "colab_type": "text",
    "id": "IxgWwr6vYMCM"
   },
   "source": [
    "<p><a name=\"iter\"></a></p>\n",
    "\n",
    "## 2.8. Iteraciones y ciclos lógicos\n",
    "\n",
    "En general, las instrucciones se ejecutan secuencialmente: la primera instrucción en una función se ejecuta primero, seguida de la segunda, y así sucesivamente. Puede haber una situación en la que necesite ejecutar un bloque de código varias veces.  Una instrucción de bucle nos permite ejecutar una instrucción o un grupo de instrucciones varias veces."
   ]
  },
  {
   "cell_type": "markdown",
   "metadata": {
    "colab_type": "text",
    "id": "bU9DzFzicuXY"
   },
   "source": [
    "<p><a name=\"cicl\"></a></p>\n",
    "\n",
    "### 2.8.1. Ciclos for y while"
   ]
  },
  {
   "cell_type": "markdown",
   "metadata": {
    "colab_type": "text",
    "id": "A7mB-8Ldo9O2"
   },
   "source": [
    "El ciclo for ejecuta una secuencia de sentencias un número determinado de veces"
   ]
  },
  {
   "cell_type": "code",
   "execution_count": null,
   "metadata": {
    "colab": {
     "base_uri": "https://localhost:8080/",
     "height": 34
    },
    "colab_type": "code",
    "id": "hw_Zr8GljpKi",
    "outputId": "0c15b386-1fa6-45f1-f8fe-f317b46605f1"
   },
   "outputs": [
    {
     "data": {
      "text/plain": [
       "range(0, 5)"
      ]
     },
     "execution_count": 79,
     "metadata": {
      "tags": []
     },
     "output_type": "execute_result"
    }
   ],
   "source": [
    "range(5)"
   ]
  },
  {
   "cell_type": "code",
   "execution_count": null,
   "metadata": {
    "colab": {
     "base_uri": "https://localhost:8080/",
     "height": 102
    },
    "colab_type": "code",
    "id": "HGzBCk8mczIu",
    "outputId": "447240ff-d7de-4de5-d2b6-aa7f60a3d5d7"
   },
   "outputs": [
    {
     "name": "stdout",
     "output_type": "stream",
     "text": [
      "i= 0 suma= 0\n",
      "i= 1 suma= 1\n",
      "i= 2 suma= 3\n",
      "i= 3 suma= 6\n",
      "i= 4 suma= 10\n"
     ]
    }
   ],
   "source": [
    "suma=0\n",
    "for i in range(5):\n",
    "  suma+=i\n",
    "  print('i=',i,'suma=',suma)"
   ]
  },
  {
   "cell_type": "markdown",
   "metadata": {
    "colab_type": "text",
    "id": "0leX5evmkofI"
   },
   "source": [
    "También podemos iterar sobre listas"
   ]
  },
  {
   "cell_type": "code",
   "execution_count": null,
   "metadata": {
    "colab": {
     "base_uri": "https://localhost:8080/",
     "height": 102
    },
    "colab_type": "code",
    "id": "3C6vX-KOkrH8",
    "outputId": "4d3baaf4-838c-4be6-c967-bb172b5616d2"
   },
   "outputs": [
    {
     "name": "stdout",
     "output_type": "stream",
     "text": [
      "a\n",
      "e\n",
      "i\n",
      "o\n",
      "u\n"
     ]
    }
   ],
   "source": [
    "vocales=[\"a\",\"e\",\"i\", \"o\",\"u\"]\n",
    "for i in vocales:\n",
    "  print(i)"
   ]
  },
  {
   "cell_type": "code",
   "execution_count": null,
   "metadata": {
    "colab": {
     "base_uri": "https://localhost:8080/",
     "height": 102
    },
    "colab_type": "code",
    "id": "zx-Pfhtgk8Ah",
    "outputId": "a8782d4c-e0ef-47f9-a16c-f0a7fcb530c4"
   },
   "outputs": [
    {
     "name": "stdout",
     "output_type": "stream",
     "text": [
      "0 a\n",
      "1 e\n",
      "2 i\n",
      "3 o\n",
      "4 u\n"
     ]
    }
   ],
   "source": [
    "for i in range(len(vocales)):\n",
    "  print (i,vocales[i])"
   ]
  },
  {
   "cell_type": "markdown",
   "metadata": {
    "colab_type": "text",
    "id": "Oxq9vHErojz2"
   },
   "source": [
    "El ciclo while repite una sentencia o grupo de sentencias mientras una condición dada es TRUE. Prueba la condición antes de ejecutar el cuerpo del ciclo."
   ]
  },
  {
   "cell_type": "code",
   "execution_count": null,
   "metadata": {
    "colab": {
     "base_uri": "https://localhost:8080/",
     "height": 85
    },
    "colab_type": "code",
    "id": "SiD67duwleAu",
    "outputId": "4e8da536-d7a6-47fa-800f-76c174dd0931"
   },
   "outputs": [
    {
     "name": "stdout",
     "output_type": "stream",
     "text": [
      "c= 4 se cumple la condición\n",
      "c= 3 se cumple la condición\n",
      "c= 2 se cumple la condición\n",
      "c= 1 se cumple la condición\n"
     ]
    }
   ],
   "source": [
    "c = 4\n",
    "while c > 0:\n",
    "  print('c=',c,'se cumple la condición')\n",
    "  c-=1"
   ]
  },
  {
   "cell_type": "markdown",
   "metadata": {
    "colab_type": "text",
    "id": "USL7zCWvpv6h"
   },
   "source": [
    "Podemos tener varias condiciones"
   ]
  },
  {
   "cell_type": "code",
   "execution_count": null,
   "metadata": {
    "colab": {
     "base_uri": "https://localhost:8080/",
     "height": 187
    },
    "colab_type": "code",
    "id": "Mx9taaJUp4Gk",
    "outputId": "ef29562f-f494-49b2-effe-d80f0e52eb68"
   },
   "outputs": [
    {
     "name": "stdout",
     "output_type": "stream",
     "text": [
      "Voy a hacerlo 9 veces más\n",
      "Voy a hacerlo 8 veces más\n",
      "Voy a hacerlo 7 veces más\n",
      "Voy a hacerlo 6 veces más\n",
      "Voy a hacerlo 5 veces más\n",
      "Voy en 4\n",
      "Voy a hacerlo 3 veces más\n",
      "Voy a hacerlo 2 veces más\n",
      "Voy a hacerlo 1 veces más\n",
      "¡Este es el último!\n"
     ]
    }
   ],
   "source": [
    "c = 10\n",
    "while c > 0:\n",
    "  if c > 1 and c!=5:\n",
    "    print (\"Voy a hacerlo \"+str(c-1)+\" veces más\")\n",
    "  elif c==5:\n",
    "    print('Voy en '+str(c-1))\n",
    "  else:\n",
    "    print (\"¡Este es el último!\")\n",
    "  c -= 1 #c=c-1"
   ]
  },
  {
   "cell_type": "markdown",
   "metadata": {
    "colab_type": "text",
    "id": "hOLaH_FrpXlJ"
   },
   "source": [
    "Podemos usar uno o más ciclos dentro de otro. Esto lo conocemos como ciclos anidados\n"
   ]
  },
  {
   "cell_type": "code",
   "execution_count": null,
   "metadata": {
    "colab": {
     "base_uri": "https://localhost:8080/",
     "height": 187
    },
    "colab_type": "code",
    "id": "cVhZf3jPpkRi",
    "outputId": "3e3660c6-3a76-409e-f8db-92918b2e924f"
   },
   "outputs": [
    {
     "name": "stdout",
     "output_type": "stream",
     "text": [
      "i: 0 j: 0\n",
      "i: 0 j: 1\n",
      "i: 0 j: 2\n",
      "i: 0 j: 3\n",
      "i: 0 j: 4\n",
      "i: 1 j: 0\n",
      "i: 1 j: 1\n",
      "i: 1 j: 2\n",
      "i: 1 j: 3\n",
      "i: 1 j: 4\n"
     ]
    }
   ],
   "source": [
    "for i in range(2):\n",
    "  for j in range(5):\n",
    "    print(\"i: %d j: %d\" %(i,j))"
   ]
  },
  {
   "cell_type": "markdown",
   "metadata": {
    "colab_type": "text",
    "id": "9fPm2y08dG_4"
   },
   "source": [
    "<p><a name=\"contr\"></a></p>\n",
    "\n",
    "### 2.8.2. Sentencias de control de ciclo: break y continue.\n"
   ]
  },
  {
   "cell_type": "markdown",
   "metadata": {
    "colab_type": "text",
    "id": "RXO98upa4bFY"
   },
   "source": [
    "Las sentencias de control de ciclo cambian la ejecución de su secuencia normal. Cuando la ejecución deja un ámbito, todos los objetos automáticos que se crearon en ese ámbito se destruyen."
   ]
  },
  {
   "cell_type": "markdown",
   "metadata": {
    "colab_type": "text",
    "id": "YpKFrGYh5Rhx"
   },
   "source": [
    "La sentencia de control *break* termina el ciclo actual y reanuda la ejecución en la siguiente instrucción.\n",
    "\n"
   ]
  },
  {
   "cell_type": "code",
   "execution_count": null,
   "metadata": {
    "colab": {
     "base_uri": "https://localhost:8080/",
     "height": 68
    },
    "colab_type": "code",
    "id": "yKQo-97mdNJw",
    "outputId": "ca4152eb-d181-4b6b-8de7-2b54aafbc483"
   },
   "outputs": [
    {
     "name": "stdout",
     "output_type": "stream",
     "text": [
      "a\n",
      "e\n",
      "i\n"
     ]
    }
   ],
   "source": [
    "for i in vocales:\n",
    "  if i==\"o\":\n",
    "    break\n",
    "  print(i)"
   ]
  },
  {
   "cell_type": "markdown",
   "metadata": {
    "colab_type": "text",
    "id": "GkNGlxJ46S8-"
   },
   "source": [
    "La sentencia de control *continue* rechaza todas las declaraciones restantes en la iteración actual del ciclo y mueve el control de nuevo a la parte superior de este\n",
    "\n",
    "\n"
   ]
  },
  {
   "cell_type": "code",
   "execution_count": null,
   "metadata": {
    "colab": {
     "base_uri": "https://localhost:8080/",
     "height": 85
    },
    "colab_type": "code",
    "id": "KxBFJyYu6qiT",
    "outputId": "604a4fa1-288d-4f5d-df50-6ffb2b25d192"
   },
   "outputs": [
    {
     "name": "stdout",
     "output_type": "stream",
     "text": [
      "a\n",
      "e\n",
      "i\n",
      "u\n"
     ]
    }
   ],
   "source": [
    "for i in vocales:\n",
    "  if i==\"o\":\n",
    "    continue\n",
    "  print(i)"
   ]
  },
  {
   "cell_type": "markdown",
   "metadata": {
    "colab_type": "text",
    "id": "vpfhHZd9eiOF"
   },
   "source": [
    "<p><a name=\"func\"></a></p>\n",
    "\n",
    "## 2.9. Funciones y clases"
   ]
  },
  {
   "cell_type": "markdown",
   "metadata": {
    "colab_type": "text",
    "id": "UQMFQFuy9XCo"
   },
   "source": [
    "<p><a name=\"funci\"></a></p>\n",
    "\n",
    "### 2.9.1. Funciones\n",
    "\n",
    "Una función es un bloque de código organizado y reutilizable que se utiliza para realizar una única acción relacionada. Las funciones proporcionan una mejor modularidad para su aplicación y un alto grado de reutilización de código.\n",
    "\n",
    ">`def Nombre(arg1,arg2,...):`\n",
    ">> `sentencias`"
   ]
  },
  {
   "cell_type": "markdown",
   "metadata": {
    "colab_type": "text",
    "id": "3aNX6kn2Cjuq"
   },
   "source": [
    "Definamos la función exponencial $a^b$"
   ]
  },
  {
   "cell_type": "code",
   "execution_count": null,
   "metadata": {
    "colab": {
     "base_uri": "https://localhost:8080/",
     "height": 34
    },
    "colab_type": "code",
    "id": "9GaLlcUceoC2",
    "outputId": "22ff5c41-ba62-4235-8b9d-dbc27d5befa4"
   },
   "outputs": [
    {
     "name": "stdout",
     "output_type": "stream",
     "text": [
      "4\n"
     ]
    }
   ],
   "source": [
    "def Exp(a,b):\n",
    "  exp = a**b\n",
    "  print(exp)\n",
    "  return\n",
    "  \n",
    "Exp(2,2)  "
   ]
  },
  {
   "cell_type": "markdown",
   "metadata": {
    "colab_type": "text",
    "id": "69ukeYx6CweR"
   },
   "source": [
    "La sentencia *return* termina la función,  devolviendo opcionalmente uno o varios valores. Una declaración de retorno sin argumentos es lo mismo que devolver *none* (como en el caso anterior)"
   ]
  },
  {
   "cell_type": "code",
   "execution_count": null,
   "metadata": {
    "colab": {
     "base_uri": "https://localhost:8080/",
     "height": 51
    },
    "colab_type": "code",
    "id": "cgWrwPmf-MCk",
    "outputId": "f8b8077a-08f8-445e-93b6-e7bb00673699"
   },
   "outputs": [
    {
     "name": "stdout",
     "output_type": "stream",
     "text": [
      "4 <class 'int'>\n",
      "(4, 5, 6) <class 'tuple'>\n"
     ]
    }
   ],
   "source": [
    "def Exp(a,b):\n",
    "  return a**b\n",
    "  \n",
    "def Exp2(a,b):\n",
    "  return a**b,a**b+1,a**b+2\n",
    "\n",
    "print(Exp(2,2),type(Exp(2,2)))\n",
    "\n",
    "print(Exp2(2,2),type(Exp2(2,2)))\n"
   ]
  },
  {
   "cell_type": "markdown",
   "metadata": {
    "colab_type": "text",
    "id": "qA5jEatkIJUU"
   },
   "source": [
    "<p><a name=\"class\"></a></p>\n",
    "\n",
    "### 2.9.2 Clases\n",
    "\n",
    "Las clases proporcionan un medio de agrupar datos y \"funcionalidad\". La creación de una nueva clase crea un nuevo tipo de objeto, lo que permite crear nuevas *instancias* de ese tipo. Cada instancia de la clase puede tener sus propios atributos. Las instancias de una clase también pueden tener *métodos* (definidos por su clase) para modificar su estado.\n",
    "\n",
    ">class Name():\n",
    ">>sentencias"
   ]
  },
  {
   "cell_type": "markdown",
   "metadata": {
    "colab_type": "text",
    "id": "-loYl6I1JaGB"
   },
   "source": [
    "Los atributos son como propiedades que queremos añadir a la clase "
   ]
  },
  {
   "cell_type": "code",
   "execution_count": null,
   "metadata": {
    "colab": {},
    "colab_type": "code",
    "id": "IJEykQm3JtnC"
   },
   "outputs": [],
   "source": [
    "class Auto():\n",
    "  marca = ''\n",
    "  color = ''"
   ]
  },
  {
   "cell_type": "markdown",
   "metadata": {
    "colab_type": "text",
    "id": "jxuP0t7xJ940"
   },
   "source": [
    "Creemos un objeto de la clase Auto con algunos atributos"
   ]
  },
  {
   "cell_type": "code",
   "execution_count": null,
   "metadata": {
    "colab": {
     "base_uri": "https://localhost:8080/",
     "height": 51
    },
    "colab_type": "code",
    "id": "6pPE3CZ5KBqU",
    "outputId": "5c1d7e7b-d354-4675-9b0e-289255bce0e6"
   },
   "outputs": [
    {
     "name": "stdout",
     "output_type": "stream",
     "text": [
      "ferrari\n",
      "rojo\n"
     ]
    }
   ],
   "source": [
    "mi_auto = Auto()\n",
    "mi_auto.marca = 'ferrari'\n",
    "mi_auto.color = 'rojo'\n",
    "\n",
    "print(mi_auto.marca)\n",
    "print(mi_auto.color)"
   ]
  },
  {
   "cell_type": "markdown",
   "metadata": {
    "colab_type": "text",
    "id": "YS5NKSJ4LXPb"
   },
   "source": [
    "Dentro de las clases podemos definir funciones, conocidas como *métodos* "
   ]
  },
  {
   "cell_type": "code",
   "execution_count": null,
   "metadata": {
    "colab": {
     "base_uri": "https://localhost:8080/",
     "height": 51
    },
    "colab_type": "code",
    "id": "bXc_GQGHKgV8",
    "outputId": "b175bd8a-a26a-4b3a-f80b-d2e77d70b942"
   },
   "outputs": [
    {
     "name": "stdout",
     "output_type": "stream",
     "text": [
      "nombre: carolina\n",
      "edad: 20\n"
     ]
    }
   ],
   "source": [
    "class Persona():\n",
    "  nombre = ''\n",
    "  edad = ''\n",
    "  \n",
    "  def print_nombre(self):\n",
    "    print('nombre:',self.nombre)\n",
    "    \n",
    "  def print_edad(self):\n",
    "    print('edad:',self.edad)\n",
    "    \n",
    "carolina = Persona()\n",
    "carolina.nombre = 'carolina'\n",
    "carolina.edad = 20\n",
    "\n",
    "carolina.print_nombre()\n",
    "carolina.print_edad()"
   ]
  },
  {
   "cell_type": "markdown",
   "metadata": {
    "colab_type": "text",
    "id": "MZJkf1TLNb2l"
   },
   "source": [
    "Los métodos necesitan tener un argumento convenientemente llamado self, que se refiere al objeto del método que está siendo llamado. Podemos pasar más de un argumento si así lo deseamos"
   ]
  },
  {
   "cell_type": "code",
   "execution_count": null,
   "metadata": {
    "colab": {
     "base_uri": "https://localhost:8080/",
     "height": 51
    },
    "colab_type": "code",
    "id": "zj_xJIzwMwS4",
    "outputId": "ffd8a0af-90ba-4376-e4af-ad0da25da881"
   },
   "outputs": [
    {
     "name": "stdout",
     "output_type": "stream",
     "text": [
      "nombre: carlos\n",
      "edad: 30\n"
     ]
    }
   ],
   "source": [
    "class Persona:\n",
    "    nombre = ''\n",
    "    edad = ''\n",
    "     \n",
    "    def print_informacion(self, nombre, edad):\n",
    "        print('nombre:',self.nombre)\n",
    "        print('edad:',self.edad)\n",
    "             \n",
    "carlos = Persona()\n",
    "carlos.nombre = 'carlos'\n",
    "carlos.edad = '30'\n",
    "carlos.print_informacion(carlos.nombre, carlos.edad)"
   ]
  },
  {
   "cell_type": "markdown",
   "metadata": {
    "colab_type": "text",
    "id": "KOtePNB7P_5U"
   },
   "source": [
    "La operación de creación de instancias crea un objeto vacío. A muchas clases les gusta crear objetos con instancias personalizadas a un estado inicial específico. Por lo tanto, una clase puede definir un método especial llamado __init __ (), como este:"
   ]
  },
  {
   "cell_type": "code",
   "execution_count": null,
   "metadata": {
    "colab": {
     "base_uri": "https://localhost:8080/",
     "height": 51
    },
    "colab_type": "code",
    "id": "K7DpEV9hN-JK",
    "outputId": "075d4c8c-84a9-4511-a0bf-63775b4bde59"
   },
   "outputs": [
    {
     "name": "stdout",
     "output_type": "stream",
     "text": [
      "nombre: mario\n",
      "edad: 55\n"
     ]
    }
   ],
   "source": [
    "class Person:\n",
    "  def __init__(self,n,e):\n",
    "    self.nombre = n\n",
    "    self.edad = e\n",
    "      \n",
    "mario = Person('mario','55')\n",
    "print('nombre:',mario.nombre)\n",
    "print('edad:',mario.edad)    "
   ]
  },
  {
   "cell_type": "markdown",
   "metadata": {
    "colab_type": "text",
    "id": "J7ZQBUmLX-5W"
   },
   "source": [
    "<p><a name=\"inout\"></a></p>\n",
    "\n",
    "## 2.10. Archivos de entrada y salida"
   ]
  },
  {
   "cell_type": "markdown",
   "metadata": {
    "colab_type": "text",
    "id": "l77fqeASuu8M"
   },
   "source": [
    "<p><a name=\"lecte\"></a></p>\n",
    "\n",
    "### 2.10.1. Lectura de entrada de teclado\n",
    "\n",
    "Python proporciona una función integrada <code>input()</code> para leer una línea de texto de la entrada estándar"
   ]
  },
  {
   "cell_type": "code",
   "execution_count": null,
   "metadata": {
    "colab": {
     "base_uri": "https://localhost:8080/",
     "height": 68
    },
    "colab_type": "code",
    "id": "_BlE3ChRwLWw",
    "outputId": "ac21f883-b075-4f73-fb50-d6b27ad8f769"
   },
   "outputs": [
    {
     "name": "stdout",
     "output_type": "stream",
     "text": [
      "Ingresa un número 4\n",
      "El número que ingresaste es: 4\n"
     ]
    },
    {
     "data": {
      "text/plain": [
       "str"
      ]
     },
     "execution_count": 96,
     "metadata": {
      "tags": []
     },
     "output_type": "execute_result"
    }
   ],
   "source": [
    "a = input('Ingresa un número ')\n",
    "print('El número que ingresaste es:',a)\n",
    "type(a)\n"
   ]
  },
  {
   "cell_type": "markdown",
   "metadata": {
    "colab_type": "text",
    "id": "VdQ-axsMvc3j"
   },
   "source": [
    "\n",
    "independientemente de lo que ingrese como entrada, la función <code>input()</code> siempre lo convierte en una cadena de caracteres. Podemos utilizar las funciones <code>int()</code> y <code>float()</code> para obtener enteros y números de punto flotante respectivamente"
   ]
  },
  {
   "cell_type": "code",
   "execution_count": null,
   "metadata": {
    "colab": {
     "base_uri": "https://localhost:8080/",
     "height": 85
    },
    "colab_type": "code",
    "id": "PiGCw4Hhvjle",
    "outputId": "df5dbdd0-2247-4ea6-8c2b-1a077396e1de"
   },
   "outputs": [
    {
     "name": "stdout",
     "output_type": "stream",
     "text": [
      "Ingresa in unúmero4\n",
      "4 <class 'int'>\n",
      "Ingresa un número1.2\n",
      "1.2 <class 'float'>\n"
     ]
    }
   ],
   "source": [
    "numero_entero = int(input('Ingresa in unúmero'))\n",
    "print(numero_entero,type(numero_entero))\n",
    "\n",
    "numero_pflotante = float(input('Ingresa un número'))\n",
    "print(numero_pflotante,type(numero_pflotante))"
   ]
  },
  {
   "cell_type": "markdown",
   "metadata": {
    "colab_type": "text",
    "id": "ijXdq98t2MNv"
   },
   "source": [
    "<p><a name=\"apyci\"></a></p>\n",
    "\n",
    "### 2.10.2. Apertura y cierre de archivos\n",
    "\n",
    "Python proporciona funciones básicas y métodos necesarios para manipular archivos de forma predeterminada. Se puede realizar la mayor parte de la manipulación de archivos utilizando un objeto tipo <code>file</code>. Antes de poder leer o escribir un archivo, debemos abrirlo con la función <code> open() </code>incorporada de Python. Para cerrarlo utilizamos la función <code>close()</code>."
   ]
  },
  {
   "cell_type": "code",
   "execution_count": null,
   "metadata": {
    "colab": {
     "base_uri": "https://localhost:8080/",
     "height": 85
    },
    "colab_type": "code",
    "id": "CbZ12uaW4Caf",
    "outputId": "2d58be53-c600-4f59-8d99-e24d09748e0b"
   },
   "outputs": [
    {
     "name": "stdout",
     "output_type": "stream",
     "text": [
      "Nombre del archivo:  foo.txt\n",
      "Modo con el que se abrió el archivo: w\n",
      "Cerrado: False\n",
      "Cerrado: True\n"
     ]
    }
   ],
   "source": [
    "fo = open(\"foo.txt\", \"w\")\n",
    "print(\"Nombre del archivo: \", fo.name)\n",
    "print('Modo con el que se abrió el archivo:',fo.mode)\n",
    "print('Cerrado:',fo.closed)\n",
    "fo.close()\n",
    "print('Cerrado:',fo.closed)"
   ]
  },
  {
   "cell_type": "markdown",
   "metadata": {
    "colab_type": "text",
    "id": "ytfz7pN746NF"
   },
   "source": [
    "Modos comunes: w (Escritura), r (Lectura), a (Añadir)"
   ]
  },
  {
   "cell_type": "markdown",
   "metadata": {
    "colab_type": "text",
    "id": "WEzHJDo92r3N"
   },
   "source": [
    "<p><a name=\"leyes\"></a></p>\n",
    "\n",
    "### 2.10.3. Leer y escribir archivos\n",
    "\n",
    "El objeto <code>file</code> proporciona un conjunto de métodos de acceso para facilitar nuestras vidas. Veríamos cómo usar los métodos <code>write()</code> y <code>read()</code> para leer y escribir archivos."
   ]
  },
  {
   "cell_type": "code",
   "execution_count": null,
   "metadata": {
    "colab": {
     "base_uri": "https://localhost:8080/",
     "height": 51
    },
    "colab_type": "code",
    "id": "uBBeOHSi6ZdQ",
    "outputId": "c731731c-b375-4e77-d1dc-d1b433819e7a"
   },
   "outputs": [
    {
     "name": "stdout",
     "output_type": "stream",
     "text": [
      "¡Hola \n",
      " mundo!"
     ]
    }
   ],
   "source": [
    "fo = open(\"foo.txt\", \"w\")\n",
    "fo.write( \"¡Hola \\n mundo!\")\n",
    "fo.close()\n",
    "\n",
    "!cat foo.txt"
   ]
  },
  {
   "cell_type": "code",
   "execution_count": null,
   "metadata": {
    "colab": {
     "base_uri": "https://localhost:8080/",
     "height": 51
    },
    "colab_type": "code",
    "id": "g0XC6crT7DQ0",
    "outputId": "aa1783e2-1cc1-4f71-e0a3-f3f22764944b"
   },
   "outputs": [
    {
     "name": "stdout",
     "output_type": "stream",
     "text": [
      "¡Hola \n",
      "\n"
     ]
    }
   ],
   "source": [
    "fo = open(\"foo.txt\", \"r\")\n",
    "\n",
    "print(fo.readline())\n",
    "\n",
    "#print(fo.read())\n",
    "\n",
    "#print(fo.read(2))\n",
    "\n",
    "fo.close()"
   ]
  },
  {
   "cell_type": "markdown",
   "metadata": {
    "colab_type": "text",
    "id": "pikqdJs-YKu3"
   },
   "source": [
    "<p><a name=\"subar\"></a></p>\n",
    "\n",
    "### 2.10.4. Subir archivos locales\n",
    "\n",
    "El método <code>files.upload</code> devolverá un diccionario de los archivos que se han subido. Al diccionario se le asignará el nombre del archivo como clave y los valores serán los datos que se han subido (los archivos permanecen en la máquina virtual por 12 horas)"
   ]
  },
  {
   "cell_type": "code",
   "execution_count": null,
   "metadata": {
    "colab": {
     "base_uri": "https://localhost:8080/",
     "height": 37,
     "resources": {
      "http://localhost:8080/nbextensions/google.colab/files.js": {
       "data": "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",
       "headers": [
        [
         "content-type",
         "application/javascript"
        ]
       ],
       "ok": true,
       "status": 200,
       "status_text": ""
      }
     }
    },
    "colab_type": "code",
    "id": "NTmx_P9EYDVd",
    "outputId": "e0ebff2d-d112-4c06-b99c-1d434d592201"
   },
   "outputs": [
    {
     "data": {
      "text/html": [
       "\n",
       "     <input type=\"file\" id=\"files-e68815d1-5cac-4fa6-aa94-7f0150b8a416\" name=\"files[]\" multiple disabled />\n",
       "     <output id=\"result-e68815d1-5cac-4fa6-aa94-7f0150b8a416\">\n",
       "      Upload widget is only available when the cell has been executed in the\n",
       "      current browser session. Please rerun this cell to enable.\n",
       "      </output>\n",
       "      <script src=\"/nbextensions/google.colab/files.js\"></script> "
      ],
      "text/plain": [
       "<IPython.core.display.HTML object>"
      ]
     },
     "metadata": {
      "tags": []
     },
     "output_type": "display_data"
    }
   ],
   "source": [
    "from google.colab import files\n",
    "\n",
    "uploaded = files.upload()"
   ]
  },
  {
   "cell_type": "markdown",
   "metadata": {
    "colab_type": "text",
    "id": "Izd6XV1VZC31"
   },
   "source": [
    "<p><a name=\"des\"></a></p>\n",
    "\n",
    "### 2.10.5. Descargar archivos en tu sistema local \n",
    "\n",
    "El método <code>files.download</code> invocará al navegador para que descargue el archivo en tu ordenador local."
   ]
  },
  {
   "cell_type": "code",
   "execution_count": null,
   "metadata": {
    "colab": {},
    "colab_type": "code",
    "id": "yrPSVqGjY-JJ"
   },
   "outputs": [],
   "source": [
    "from google.colab import files\n",
    "\n",
    "with open('example.txt', 'w') as f:\n",
    "  f.write('some content')\n",
    "\n",
    "files.download('example.txt')"
   ]
  },
  {
   "cell_type": "markdown",
   "metadata": {
    "colab_type": "text",
    "id": "Nn1gvaOJ-TWs"
   },
   "source": [
    "<p><a name=\"goodr\"></a></p>\n",
    "\n",
    "### 2.10.6. Google drive: Paquete PyDrive"
   ]
  },
  {
   "cell_type": "markdown",
   "metadata": {
    "colab_type": "text",
    "id": "zRhwvA69E1Mk"
   },
   "source": [
    "Instalamos el paquete"
   ]
  },
  {
   "cell_type": "code",
   "execution_count": null,
   "metadata": {
    "colab": {
     "base_uri": "https://localhost:8080/",
     "height": 51
    },
    "colab_type": "code",
    "id": "3MqqWLOc_g95",
    "outputId": "f82333cc-4bee-4aad-a2bd-fbf3ceff28f5"
   },
   "outputs": [
    {
     "name": "stdout",
     "output_type": "stream",
     "text": [
      "\u001b[?25l\r",
      "\u001b[K     |▎                               | 10kB 19.9MB/s eta 0:00:01\r",
      "\u001b[K     |▋                               | 20kB 25.6MB/s eta 0:00:01\r",
      "\u001b[K     |█                               | 30kB 29.9MB/s eta 0:00:01\r",
      "\u001b[K     |█▎                              | 40kB 34.2MB/s eta 0:00:01\r",
      "\u001b[K     |█▋                              | 51kB 37.2MB/s eta 0:00:01\r",
      "\u001b[K     |██                              | 61kB 41.0MB/s eta 0:00:01\r",
      "\u001b[K     |██▎                             | 71kB 42.5MB/s eta 0:00:01\r",
      "\u001b[K     |██▋                             | 81kB 43.0MB/s eta 0:00:01\r",
      "\u001b[K     |███                             | 92kB 44.4MB/s eta 0:00:01\r",
      "\u001b[K     |███▎                            | 102kB 46.0MB/s eta 0:00:01\r",
      "\u001b[K     |███▋                            | 112kB 46.0MB/s eta 0:00:01\r",
      "\u001b[K     |████                            | 122kB 46.0MB/s eta 0:00:01\r",
      "\u001b[K     |████▎                           | 133kB 46.0MB/s eta 0:00:01\r",
      "\u001b[K     |████▋                           | 143kB 46.0MB/s eta 0:00:01\r",
      "\u001b[K     |█████                           | 153kB 46.0MB/s eta 0:00:01\r",
      "\u001b[K     |█████▎                          | 163kB 46.0MB/s eta 0:00:01\r",
      "\u001b[K     |█████▋                          | 174kB 46.0MB/s eta 0:00:01\r",
      "\u001b[K     |██████                          | 184kB 46.0MB/s eta 0:00:01\r",
      "\u001b[K     |██████▎                         | 194kB 46.0MB/s eta 0:00:01\r",
      "\u001b[K     |██████▋                         | 204kB 46.0MB/s eta 0:00:01\r",
      "\u001b[K     |███████                         | 215kB 46.0MB/s eta 0:00:01\r",
      "\u001b[K     |███████▎                        | 225kB 46.0MB/s eta 0:00:01\r",
      "\u001b[K     |███████▋                        | 235kB 46.0MB/s eta 0:00:01\r",
      "\u001b[K     |████████                        | 245kB 46.0MB/s eta 0:00:01\r",
      "\u001b[K     |████████▎                       | 256kB 46.0MB/s eta 0:00:01\r",
      "\u001b[K     |████████▋                       | 266kB 46.0MB/s eta 0:00:01\r",
      "\u001b[K     |█████████                       | 276kB 46.0MB/s eta 0:00:01\r",
      "\u001b[K     |█████████▎                      | 286kB 46.0MB/s eta 0:00:01\r",
      "\u001b[K     |█████████▋                      | 296kB 46.0MB/s eta 0:00:01\r",
      "\u001b[K     |██████████                      | 307kB 46.0MB/s eta 0:00:01\r",
      "\u001b[K     |██████████▎                     | 317kB 46.0MB/s eta 0:00:01\r",
      "\u001b[K     |██████████▋                     | 327kB 46.0MB/s eta 0:00:01\r",
      "\u001b[K     |███████████                     | 337kB 46.0MB/s eta 0:00:01\r",
      "\u001b[K     |███████████▎                    | 348kB 46.0MB/s eta 0:00:01\r",
      "\u001b[K     |███████████▋                    | 358kB 46.0MB/s eta 0:00:01\r",
      "\u001b[K     |████████████                    | 368kB 46.0MB/s eta 0:00:01\r",
      "\u001b[K     |████████████▎                   | 378kB 46.0MB/s eta 0:00:01\r",
      "\u001b[K     |████████████▋                   | 389kB 46.0MB/s eta 0:00:01\r",
      "\u001b[K     |█████████████                   | 399kB 46.0MB/s eta 0:00:01\r",
      "\u001b[K     |█████████████▎                  | 409kB 46.0MB/s eta 0:00:01\r",
      "\u001b[K     |█████████████▋                  | 419kB 46.0MB/s eta 0:00:01\r",
      "\u001b[K     |██████████████                  | 430kB 46.0MB/s eta 0:00:01\r",
      "\u001b[K     |██████████████▎                 | 440kB 46.0MB/s eta 0:00:01\r",
      "\u001b[K     |██████████████▋                 | 450kB 46.0MB/s eta 0:00:01\r",
      "\u001b[K     |███████████████                 | 460kB 46.0MB/s eta 0:00:01\r",
      "\u001b[K     |███████████████▎                | 471kB 46.0MB/s eta 0:00:01\r",
      "\u001b[K     |███████████████▋                | 481kB 46.0MB/s eta 0:00:01\r",
      "\u001b[K     |████████████████                | 491kB 46.0MB/s eta 0:00:01\r",
      "\u001b[K     |████████████████▎               | 501kB 46.0MB/s eta 0:00:01\r",
      "\u001b[K     |████████████████▋               | 512kB 46.0MB/s eta 0:00:01\r",
      "\u001b[K     |█████████████████               | 522kB 46.0MB/s eta 0:00:01\r",
      "\u001b[K     |█████████████████▎              | 532kB 46.0MB/s eta 0:00:01\r",
      "\u001b[K     |█████████████████▋              | 542kB 46.0MB/s eta 0:00:01\r",
      "\u001b[K     |██████████████████              | 552kB 46.0MB/s eta 0:00:01\r",
      "\u001b[K     |██████████████████▎             | 563kB 46.0MB/s eta 0:00:01\r",
      "\u001b[K     |██████████████████▋             | 573kB 46.0MB/s eta 0:00:01\r",
      "\u001b[K     |███████████████████             | 583kB 46.0MB/s eta 0:00:01\r",
      "\u001b[K     |███████████████████▎            | 593kB 46.0MB/s eta 0:00:01\r",
      "\u001b[K     |███████████████████▋            | 604kB 46.0MB/s eta 0:00:01\r",
      "\u001b[K     |████████████████████            | 614kB 46.0MB/s eta 0:00:01\r",
      "\u001b[K     |████████████████████▎           | 624kB 46.0MB/s eta 0:00:01\r",
      "\u001b[K     |████████████████████▋           | 634kB 46.0MB/s eta 0:00:01\r",
      "\u001b[K     |█████████████████████           | 645kB 46.0MB/s eta 0:00:01\r",
      "\u001b[K     |█████████████████████▎          | 655kB 46.0MB/s eta 0:00:01\r",
      "\u001b[K     |█████████████████████▋          | 665kB 46.0MB/s eta 0:00:01\r",
      "\u001b[K     |██████████████████████          | 675kB 46.0MB/s eta 0:00:01\r",
      "\u001b[K     |██████████████████████▎         | 686kB 46.0MB/s eta 0:00:01\r",
      "\u001b[K     |██████████████████████▋         | 696kB 46.0MB/s eta 0:00:01\r",
      "\u001b[K     |███████████████████████         | 706kB 46.0MB/s eta 0:00:01\r",
      "\u001b[K     |███████████████████████▎        | 716kB 46.0MB/s eta 0:00:01\r",
      "\u001b[K     |███████████████████████▋        | 727kB 46.0MB/s eta 0:00:01\r",
      "\u001b[K     |████████████████████████        | 737kB 46.0MB/s eta 0:00:01\r",
      "\u001b[K     |████████████████████████▎       | 747kB 46.0MB/s eta 0:00:01\r",
      "\u001b[K     |████████████████████████▋       | 757kB 46.0MB/s eta 0:00:01\r",
      "\u001b[K     |████████████████████████▉       | 768kB 46.0MB/s eta 0:00:01\r",
      "\u001b[K     |█████████████████████████▏      | 778kB 46.0MB/s eta 0:00:01\r",
      "\u001b[K     |█████████████████████████▌      | 788kB 46.0MB/s eta 0:00:01\r",
      "\u001b[K     |█████████████████████████▉      | 798kB 46.0MB/s eta 0:00:01\r",
      "\u001b[K     |██████████████████████████▏     | 808kB 46.0MB/s eta 0:00:01\r",
      "\u001b[K     |██████████████████████████▌     | 819kB 46.0MB/s eta 0:00:01\r",
      "\u001b[K     |██████████████████████████▉     | 829kB 46.0MB/s eta 0:00:01\r",
      "\u001b[K     |███████████████████████████▏    | 839kB 46.0MB/s eta 0:00:01\r",
      "\u001b[K     |███████████████████████████▌    | 849kB 46.0MB/s eta 0:00:01\r",
      "\u001b[K     |███████████████████████████▉    | 860kB 46.0MB/s eta 0:00:01\r",
      "\u001b[K     |████████████████████████████▏   | 870kB 46.0MB/s eta 0:00:01\r",
      "\u001b[K     |████████████████████████████▌   | 880kB 46.0MB/s eta 0:00:01\r",
      "\u001b[K     |████████████████████████████▉   | 890kB 46.0MB/s eta 0:00:01\r",
      "\u001b[K     |█████████████████████████████▏  | 901kB 46.0MB/s eta 0:00:01\r",
      "\u001b[K     |█████████████████████████████▌  | 911kB 46.0MB/s eta 0:00:01\r",
      "\u001b[K     |█████████████████████████████▉  | 921kB 46.0MB/s eta 0:00:01\r",
      "\u001b[K     |██████████████████████████████▏ | 931kB 46.0MB/s eta 0:00:01\r",
      "\u001b[K     |██████████████████████████████▌ | 942kB 46.0MB/s eta 0:00:01\r",
      "\u001b[K     |██████████████████████████████▉ | 952kB 46.0MB/s eta 0:00:01\r",
      "\u001b[K     |███████████████████████████████▏| 962kB 46.0MB/s eta 0:00:01\r",
      "\u001b[K     |███████████████████████████████▌| 972kB 46.0MB/s eta 0:00:01\r",
      "\u001b[K     |███████████████████████████████▉| 983kB 46.0MB/s eta 0:00:01\r",
      "\u001b[K     |████████████████████████████████| 993kB 46.0MB/s \n",
      "\u001b[?25h  Building wheel for PyDrive (setup.py) ... \u001b[?25l\u001b[?25hdone\n"
     ]
    }
   ],
   "source": [
    "!pip install --upgrade --quiet PyDrive\n",
    "\n",
    "from pydrive.auth import GoogleAuth\n",
    "from pydrive.drive import GoogleDrive\n",
    "from google.colab import auth\n",
    "from oauth2client.client import GoogleCredentials"
   ]
  },
  {
   "cell_type": "markdown",
   "metadata": {
    "colab_type": "text",
    "id": "cF_5W_5rE3X6"
   },
   "source": [
    "Nos autenticamos"
   ]
  },
  {
   "cell_type": "code",
   "execution_count": null,
   "metadata": {
    "colab": {},
    "colab_type": "code",
    "id": "KiU3s2gKALvq"
   },
   "outputs": [],
   "source": [
    "auth.authenticate_user()\n",
    "gauth = GoogleAuth()\n",
    "gauth.credentials = GoogleCredentials.get_application_default()\n",
    "drive = GoogleDrive(gauth)"
   ]
  },
  {
   "cell_type": "markdown",
   "metadata": {
    "colab_type": "text",
    "id": "5yUUmDgcE7Mo"
   },
   "source": [
    "Subir un archivo al Drive"
   ]
  },
  {
   "cell_type": "code",
   "execution_count": null,
   "metadata": {
    "colab": {
     "base_uri": "https://localhost:8080/",
     "height": 34
    },
    "colab_type": "code",
    "id": "TPkzJMQVAOyJ",
    "outputId": "9b184425-e630-4f5a-ed53-331d38246abe"
   },
   "outputs": [
    {
     "name": "stdout",
     "output_type": "stream",
     "text": [
      "Uploaded file with ID 1chgUFynYuS1sD4AsNbrU9R3JXTYE2nLM\n"
     ]
    }
   ],
   "source": [
    "uploaded = drive.CreateFile({'title': 'Sample upload.txt'})\n",
    "uploaded.SetContentString('Sample upload file content')\n",
    "uploaded.Upload()\n",
    "print('Uploaded file with ID {}'.format(uploaded.get('id')))"
   ]
  },
  {
   "cell_type": "markdown",
   "metadata": {
    "colab_type": "text",
    "id": "JEt98VsOFBAK"
   },
   "source": [
    "Descargar un archivo del Drive"
   ]
  },
  {
   "cell_type": "code",
   "execution_count": null,
   "metadata": {
    "colab": {
     "base_uri": "https://localhost:8080/",
     "height": 34
    },
    "colab_type": "code",
    "id": "MbI6V0SxARFB",
    "outputId": "73337121-43e4-4417-db7d-7d3f2e172384"
   },
   "outputs": [
    {
     "name": "stdout",
     "output_type": "stream",
     "text": [
      "Downloaded content \"Sample upload file content\"\n"
     ]
    }
   ],
   "source": [
    "i='1kKIxeYVO6Ixe4TNxrmwDgSvVrBMHel37'\n",
    "downloaded = drive.CreateFile({'id': i})\n",
    "downloaded.GetContentFile('Sample upload.txt') \n",
    "print('Downloaded content \"{}\"'.format(downloaded.GetContentString()))"
   ]
  },
  {
   "cell_type": "code",
   "execution_count": null,
   "metadata": {
    "colab": {},
    "colab_type": "code",
    "id": "WyKkP9xYATfr"
   },
   "outputs": [],
   "source": [
    "#la \"id\" es lo que va después del = : https://drive.google.com/open?id=1kKIxeYVO6Ixe4TNxrmwDgSvVrBMHel37"
   ]
  },
  {
   "cell_type": "markdown",
   "metadata": {
    "colab_type": "text",
    "id": "LHzmX7lUFdzN"
   },
   "source": [
    "<p><a name=\"git\"></a></p>\n",
    "\n",
    "### 2.10.7 Github"
   ]
  },
  {
   "cell_type": "code",
   "execution_count": null,
   "metadata": {
    "colab": {
     "base_uri": "https://localhost:8080/",
     "height": 51
    },
    "colab_type": "code",
    "id": "4vB7YMcLFhm7",
    "outputId": "39ef6f10-de14-49d4-8ac1-2bc6ed81cb01"
   },
   "outputs": [
    {
     "name": "stdout",
     "output_type": "stream",
     "text": [
      "Cloning into 'repositorio'...\n",
      "fatal: could not read Username for 'https://github.com': No such device or address\n"
     ]
    }
   ],
   "source": [
    "!git clone https://github.com/username/repositorio"
   ]
  }
 ],
 "metadata": {
  "accelerator": "GPU",
  "colab": {
   "collapsed_sections": [],
   "include_colab_link": true,
   "name": "s01.ipynb",
   "provenance": []
  },
  "kernelspec": {
   "display_name": "Python 3",
   "language": "python",
   "name": "python3"
  },
  "language_info": {
   "codemirror_mode": {
    "name": "ipython",
    "version": 3
   },
   "file_extension": ".py",
   "mimetype": "text/x-python",
   "name": "python",
   "nbconvert_exporter": "python",
   "pygments_lexer": "ipython3",
   "version": "3.8.10"
  }
 },
 "nbformat": 4,
 "nbformat_minor": 1
}
