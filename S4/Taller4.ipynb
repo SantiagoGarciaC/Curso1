{
  "nbformat": 4,
  "nbformat_minor": 0,
  "metadata": {
    "colab": {
      "provenance": [],
      "authorship_tag": "ABX9TyNPNH9tRlN74XfqMcDQJtyQ",
      "include_colab_link": true
    },
    "kernelspec": {
      "name": "python3",
      "display_name": "Python 3"
    },
    "language_info": {
      "name": "python"
    }
  },
  "cells": [
    {
      "cell_type": "markdown",
      "metadata": {
        "id": "view-in-github",
        "colab_type": "text"
      },
      "source": [
        "<a href=\"https://colab.research.google.com/github/darioblandon/Curso1/blob/main/S4/Taller4.ipynb\" target=\"_parent\"><img src=\"https://colab.research.google.com/assets/colab-badge.svg\" alt=\"Open In Colab\"/></a>"
      ]
    },
    {
      "cell_type": "markdown",
      "source": [
        "# Taller #4"
      ],
      "metadata": {
        "id": "gbpCxJwPsMdW"
      }
    },
    {
      "cell_type": "markdown",
      "source": [
        "\n",
        "Para un conjunto de jugadores de la NBA, se desea evaluar si existe relación entre algunas variables asociadas a los jugadores. \n",
        "\n",
        "El dataset de la NBA ('https://cdncontribute.geeksforgeeks.org/wp-content/uploads/nba.csv') contiene información de los jugadores, como su nombre, equipo, posición, edad, altura (pies-pulgadas), peso (libras) y salario anual.\n"
      ],
      "metadata": {
        "id": "Bz7SS054slwt"
      }
    },
    {
      "cell_type": "markdown",
      "source": [
        "## Pregunta 1\n",
        "\n",
        "Cargar e inspeccionar el dataset"
      ],
      "metadata": {
        "id": "t-WnNtLPsxjl"
      }
    },
    {
      "cell_type": "markdown",
      "source": [
        "## Pregunta 2\n",
        "\n",
        "Eliminar las filas que tengan el salario nulo y la columna number, ya que esta no tiene ninguna relevanciaÇ"
      ],
      "metadata": {
        "id": "XSref59MsxnX"
      }
    },
    {
      "cell_type": "markdown",
      "source": [
        "##Pregunta 3\n",
        "\n",
        "Convertir la estatura de pies-pulgadas a centímetros.\n",
        "\n",
        "1 pie=30.48cm\n",
        "1 pulgada=2.54"
      ],
      "metadata": {
        "id": "oqAMaQ8asxqf"
      }
    },
    {
      "cell_type": "markdown",
      "source": [
        "## Pregunta 4\n",
        "\n",
        "Construir un histograma con las cinco universidades con mas jugadores en la NBA"
      ],
      "metadata": {
        "id": "rgfQLGlqsxrd"
      }
    },
    {
      "cell_type": "markdown",
      "source": [
        "## Pregunta 5\n",
        "\n",
        "Obtener los cinco equipos que pagan los salarios mas altos (sumando toda la nómina de sus jugadores)"
      ],
      "metadata": {
        "id": "xX5jHgfXsxtl"
      }
    },
    {
      "cell_type": "markdown",
      "source": [
        "## Pregunta 6\n",
        "\n",
        "Construir una tabla pivot que muestre el salario promedio de los jugadores por equipo y posición para para los cinco equipos que pagan mejores salarios. Construir una representación visual de la información anterior usando heatmap. "
      ],
      "metadata": {
        "id": "zkY-wLdNtE_H"
      }
    },
    {
      "cell_type": "markdown",
      "source": [
        "## Pregunta 7\n",
        "\n",
        "Utilizar el método `scatter_matrix` para visualizar si existe algún tipo de correlación entre las variables numérocas del dataset"
      ],
      "metadata": {
        "id": "al74VYqatFGB"
      }
    },
    {
      "cell_type": "markdown",
      "source": [
        "## Pregunta 8\n",
        "\n",
        "Corroborar los resultados anteriores calculando los coeficientes de correlación de Pearson para las variables numéricas del dataset\n"
      ],
      "metadata": {
        "id": "13lSdDDytFTd"
      }
    },
    {
      "cell_type": "markdown",
      "source": [
        "## Pregunta 9\n",
        "\n",
        "Usar el método `pairplot` para evaluar visualizar si existe dependencia entre algunas de las variables numéricas y la posición de los jugadores."
      ],
      "metadata": {
        "id": "4H71MIAHtZEc"
      }
    }
  ]
}